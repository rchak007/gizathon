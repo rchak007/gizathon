{
 "cells": [
  {
   "cell_type": "code",
   "execution_count": 1,
   "id": "48530ee8-f107-4e80-a3e3-8bf326ec909a",
   "metadata": {},
   "outputs": [],
   "source": [
    "import argparse\n",
    "import logging\n",
    "import os\n",
    "import pprint\n",
    "from logging import getLogger"
   ]
  },
  {
   "cell_type": "code",
   "execution_count": 2,
   "id": "609cf662-423c-4769-a64d-fd3cfa4d3eb5",
   "metadata": {},
   "outputs": [],
   "source": [
    "import numpy as np"
   ]
  },
  {
   "cell_type": "code",
   "execution_count": 39,
   "id": "f5e1862d-7291-4a6e-9237-cbfc77851835",
   "metadata": {},
   "outputs": [],
   "source": [
    "import requests"
   ]
  },
  {
   "cell_type": "code",
   "execution_count": 3,
   "id": "28a85320-5efd-4893-a322-a4632b190c06",
   "metadata": {},
   "outputs": [
    {
     "name": "stderr",
     "output_type": "stream",
     "text": [
      "C:\\Users\\chuck.raghavan\\AppData\\Roaming\\Python\\Python311\\site-packages\\tqdm\\auto.py:21: TqdmWarning: IProgress not found. Please update jupyter and ipywidgets. See https://ipywidgets.readthedocs.io/en/stable/user_install.html\n",
      "  from .autonotebook import tqdm as notebook_tqdm\n"
     ]
    }
   ],
   "source": [
    "from ape import Contract, accounts, chain, networks"
   ]
  },
  {
   "cell_type": "code",
   "execution_count": 4,
   "id": "e4b7ff52-8e40-4354-bb37-8aca73b84a01",
   "metadata": {},
   "outputs": [],
   "source": [
    "from dotenv import find_dotenv, load_dotenv"
   ]
  },
  {
   "cell_type": "code",
   "execution_count": 5,
   "id": "15661fbb-fe0d-479b-b5ef-50b17991dbfb",
   "metadata": {},
   "outputs": [],
   "source": [
    "from giza.agents import AgentResult, GizaAgent\n"
   ]
  },
  {
   "cell_type": "code",
   "execution_count": 6,
   "id": "d56d3fc3-c801-4e4c-97bc-371da4aa5884",
   "metadata": {},
   "outputs": [],
   "source": [
    "from addresses import ADDRESSES"
   ]
  },
  {
   "cell_type": "code",
   "execution_count": 7,
   "id": "54bc08cb-6a45-4bea-8e01-72cd517c6353",
   "metadata": {},
   "outputs": [],
   "source": [
    "# from lp_tools import get_tick_range\n",
    "# from uni_helpers import (approve_token, check_allowance, close_position,\n",
    "#                          get_all_user_positions, get_mint_params)"
   ]
  },
  {
   "cell_type": "code",
   "execution_count": 8,
   "id": "9ffff2fb-6391-4e4a-905e-0eb8401534b0",
   "metadata": {},
   "outputs": [
    {
     "data": {
      "text/plain": [
       "True"
      ]
     },
     "execution_count": 8,
     "metadata": {},
     "output_type": "execute_result"
    }
   ],
   "source": [
    "load_dotenv(find_dotenv())"
   ]
  },
  {
   "cell_type": "code",
   "execution_count": 9,
   "id": "1ae54b10-d516-4cf5-8dd7-33d73735211f",
   "metadata": {},
   "outputs": [],
   "source": [
    "dev_passphrase = os.environ.get(\"DEV_PASSPHRASE\")\n",
    "sepolia_rpc_url = os.environ.get(\"SEPOLIA_RPC_URL\")\n",
    "GIZA1_PASSPHRASE = os.environ.get(\"GIZA1_PASSPHRASE\")"
   ]
  },
  {
   "cell_type": "code",
   "execution_count": null,
   "id": "28e76f56-34ac-49c8-9f1f-7706d1555518",
   "metadata": {},
   "outputs": [],
   "source": []
  },
  {
   "cell_type": "code",
   "execution_count": 10,
   "id": "fe79bc0f-f726-4951-8a4d-3c3040ee2f00",
   "metadata": {},
   "outputs": [],
   "source": [
    "logging.basicConfig(level=logging.INFO)"
   ]
  },
  {
   "cell_type": "code",
   "execution_count": 11,
   "id": "05326b6e-7467-4f42-adae-25e7b8e39bf4",
   "metadata": {},
   "outputs": [],
   "source": [
    "def create_agent(\n",
    "    model_id: int, version_id: int, chain: str, contracts: dict, account: str\n",
    "):\n",
    "    \"\"\"\n",
    "    Create a Giza agent for the regression model\n",
    "    \"\"\"\n",
    "    agent = GizaAgent(\n",
    "        contracts=contracts,\n",
    "        id=model_id,\n",
    "        version_id=version_id,\n",
    "        chain=chain,\n",
    "        account=account,\n",
    "    )\n",
    "    return agent"
   ]
  },
  {
   "cell_type": "code",
   "execution_count": 12,
   "id": "c2b4cc71-82fe-4ac7-8cb9-d07c98790846",
   "metadata": {},
   "outputs": [],
   "source": [
    "def predict(agent: GizaAgent, X: np.ndarray):\n",
    "    \"\"\"\n",
    "    Predict the next day volatility.\n",
    "\n",
    "    Args:\n",
    "        X (np.ndarray): Input to the model.\n",
    "\n",
    "    Returns:\n",
    "        int: Predicted value.\n",
    "    \"\"\"\n",
    "    prediction = agent.predict(input_feed={\"val\": X}, verifiable=True, job_size=\"XL\")\n",
    "    return prediction"
   ]
  },
  {
   "cell_type": "code",
   "execution_count": 13,
   "id": "2e157a36-ccb9-4209-af49-0503723414ff",
   "metadata": {},
   "outputs": [],
   "source": [
    "def get_pred_val(prediction: AgentResult):\n",
    "    \"\"\"\n",
    "    Get the value from the prediction.\n",
    "\n",
    "    Args:\n",
    "        prediction (dict): Prediction from the model.\n",
    "\n",
    "    Returns:\n",
    "        int: Predicted value.\n",
    "    \"\"\"\n",
    "    # This will block the executon until the prediction has generated the proof\n",
    "    # and the proof has been verified\n",
    "    return prediction.value[0][0]"
   ]
  },
  {
   "cell_type": "code",
   "execution_count": 14,
   "id": "97965995",
   "metadata": {},
   "outputs": [],
   "source": [
    "# def eval_quote(\n",
    "#     #agent_id: int,\n",
    "#     pred_model_id:int,\n",
    "#     pred_version_id:int,\n",
    "#     policyId:int,\n",
    "#     quote: float,\n",
    "#     bmi:float,\n",
    "#     account=\"chainaimlabs3003\",\n",
    "#     chain=f\"ethereum:sepolia:{sepolia_rpc_url}\",\n",
    "# ):\n",
    "    \n",
    "#     ## Change the INS-ENROLLMENT-AGENT_PASSPHRASE to be {AGENT-NAME}_PASSPHRASE\n",
    "#     # os.environ[\"INS_ENROLLMENT-AGENT_PASSPHRASE\"] = os.environ.get(\"DEV_PASSPHRASE\")\n",
    "\n",
    "#     # Create logger\n",
    "\n",
    "#     logger = getLogger(\"agent_logger\")\n",
    "\n",
    "#     networks.parse_network_choice(f\"ethereum:sepolia:{sepolia_rpc_url}\").__enter__()\n",
    "#     chain_id = chain.chain_id\n",
    "\n",
    "#     # Load the addresses\n",
    "  \n",
    "#     insuranceEnrollmentContractAddress = Contract(ADDRESSES[\"INSE\"][chain_id])\n",
    "\n",
    "#     #wallet_address = accounts.load(account).address\n",
    "\n",
    "#     # Load the data, this can be changed to retrieve live data\n",
    "#     #file_path = \"data/data_array.npy\"\n",
    "#     #X = np.load(file_path)\n",
    "     \n",
    "#     #input = np.array([[30.1]]).astype(np.float32)\n",
    "\n",
    "#     # input = np.array([[bmi]]).astype(np.float32)\n",
    "#     inputTotalETF = 453.1;\n",
    "\n",
    "#     input = np.array([[inputTotalETF]]).astype(np.float32)\n",
    "\n",
    "#     # Fill this contracts dictionary with the contract addresses that our agent will interact with\n",
    "#     contracts = {\n",
    "#         \"insuranceEnrollmentContract\": insuranceEnrollmentContractAddress,\n",
    "#     }\n",
    "\n",
    "#     # Create the agent\n",
    "\n",
    "#     agent = create_agent(\n",
    "#         model_id=pred_model_id,\n",
    "#         version_id=pred_version_id,\n",
    "#         chain=chain,\n",
    "#         contracts=contracts,\n",
    "#         account=account,\n",
    "#     )\n",
    "\n",
    "#     result = predict(agent, input)\n",
    "\n",
    "#     #if (quote<result){\n",
    "\n",
    "#     #if(true)(\n",
    "\n",
    "#     with agent.execute() as contracts:\n",
    "        \n",
    "#         logger.info(\"Executing INSE contract\")\n",
    "#         contracts.InsuranceEnrollmentContract.buyPolicy(policyId)\n",
    "#         logger.info(\"Executing INSE contract\")\n",
    "#     #)\n",
    "\n",
    "#     \"\"\"\n",
    "#     Get the value from the prediction.\n",
    "\n",
    "#     Args:\n",
    "#         prediction (dict): Prediction from the model.\n",
    "\n",
    "#     Returns:\n",
    "#         int: \n",
    "\n",
    "#     \"\"\"\n",
    "#     # This will block the executon until the prediction has generated the proof\n",
    "#     # and the proof has been verified\n",
    "\n",
    "#     print(result)\n",
    "\n",
    "#     return result"
   ]
  },
  {
   "cell_type": "code",
   "execution_count": 40,
   "id": "ef937fe5-f61f-476f-9841-6c36e99abafa",
   "metadata": {},
   "outputs": [],
   "source": [
    "def get_eth_price():\n",
    "    url = \"https://api.coingecko.com/api/v3/simple/price?ids=ethereum&vs_currencies=usd\"\n",
    "    response = requests.get(url)\n",
    "    data = response.json()\n",
    "    return data['ethereum']['usd']"
   ]
  },
  {
   "cell_type": "code",
   "execution_count": 41,
   "id": "d69aabb5-e547-400b-b93b-05980173adfb",
   "metadata": {},
   "outputs": [
    {
     "data": {
      "text/plain": [
       "3678.04"
      ]
     },
     "execution_count": 41,
     "metadata": {},
     "output_type": "execute_result"
    }
   ],
   "source": [
    "current_eth_price = get_eth_price()\n",
    "current_eth_price"
   ]
  },
  {
   "cell_type": "code",
   "execution_count": 31,
   "id": "6a81f969-55af-4a17-b0bc-f3155cf0cf4e",
   "metadata": {},
   "outputs": [],
   "source": [
    "def  rebalance_lp(\n",
    "    tokenWETH_amount: int,\n",
    "    tokenUSDC_amount: int,\n",
    "    pred_model_id: int,\n",
    "    pred_version_id: int,\n",
    "    account=\"giza1\",\n",
    "    chain1=f\"ethereum:sepolia:{sepolia_rpc_url}\",\n",
    "    nft_id=None,\n",
    "):\n",
    "    logger = getLogger(\"agent_logger\")\n",
    "    networks.parse_network_choice(f\"ethereum:sepolia:{sepolia_rpc_url}\").__enter__()\n",
    "\n",
    "    chain_id = chain.chain_id\n",
    "    # weth_mint_amount = 0.01\n",
    "    weth_mint_amount = tokenWETH_amount\n",
    "    pool_fee = 3000\n",
    "    uni = Contract(ADDRESSES[\"UNI\"][chain_id])\n",
    "    weth = Contract(ADDRESSES[\"WETH\"][chain_id])\n",
    "    # wbtc = Contract(ADDRESSES[\"WETH\"][chain_id])\n",
    "    wusdc = Contract(ADDRESSES[\"USDC\"][chain_id])\n",
    "    print(\"weth address: \", weth)\n",
    "    # wbtc = Contract('0x66194f6c999b28965e0303a84cb8b797273b6b8b')\n",
    "    weth_decimals = weth.decimals()\n",
    "    # wbtc_decimals = wbtc.decimals()\n",
    "    uni_decimals = uni.decimals()\n",
    "    wusdc_decimals = wusdc.decimals()\n",
    "    weth_mint_amount = int(weth_mint_amount * 10**weth_decimals)\n",
    "    uni_mint_amount = int(0.5 * weth_mint_amount)\n",
    "    contracts = {\n",
    "        \"weth\": weth,\n",
    "        \"wusdc\": wusdc,\n",
    "    }\n",
    "    # nft_manager_address = ADDRESSES[\"NonfungiblePositionManager\"][11155111]\n",
    "    # tokenA_address = ADDRESSES[\"UNI\"][11155111]\n",
    "    # tokenB_address = ADDRESSES[\"WETH\"][11155111]\n",
    "    # pool_address = \"0x287B0e934ed0439E2a7b1d5F0FC25eA2c24b64f7\"\n",
    "    # print(\"pool address: \", pool_address)\n",
    "    # contracts = {\n",
    "    #     \"nft_manager\": nft_manager_address,\n",
    "    #     \"tokenA\": tokenA_address,\n",
    "    #     \"tokenB\": tokenB_address,\n",
    "    #     \"pool\": pool_address,\n",
    "    # }    \n",
    "\n",
    "\n",
    "    inputTotalETF = 453.1;\n",
    "    input = np.array([[inputTotalETF]]).astype(np.float32)\n",
    "\n",
    "    # Create the agent\n",
    "\n",
    "    agent = create_agent(\n",
    "        model_id=pred_model_id,\n",
    "        version_id=pred_version_id,\n",
    "        chain=chain1,\n",
    "        contracts=contracts,\n",
    "        account=account,\n",
    "    )\n",
    "\n",
    "    result = predict(agent, input)\n",
    "    print(\"model result = \", result)\n",
    "\n",
    "    with agent.execute() as contracts:\n",
    "    \n",
    "        logger.info(\"Executing contract\")\n",
    "        # contracts.InsuranceEnrollmentContract.buyPolicy(policyId)\n",
    "        # logger.info(\"Executing INSE contract\")\n",
    "        # print(f\"Your WETH balance: {contracts.weth.balanceOf(wallet.address)/10**weth_decimals}\")\n",
    "        # print(f\"Your WUSDC balance: {contracts.wusdc.balanceOf(wallet.address)/10**wusdc_decimals}\")\n",
    "    \n",
    "    # with accounts.use_sender(\"giza1\"):\n",
    "    #     # print(f\"Minting {weth_mint_amount/10**weth_decimals} WETH\")\n",
    "    #     # weth.deposit(value=weth_mint_amount)\n",
    "    #     # print(\"Approving WETH for swap\")\n",
    "    #     # weth.approve(swap_router.address, weth_mint_amount)\n",
    "    #     swap_params = {\n",
    "    #         \"tokenIn\": weth.address,\n",
    "    #         \"tokenOut\": wusdc.address,\n",
    "    #         \"fee\": pool_fee,\n",
    "    #         \"recipient\": wallet.address,\n",
    "    #         \"amountIn\": weth_mint_amount,\n",
    "    #         \"amountOutMinimum\": 0,\n",
    "    #         \"sqrtPriceLimitX96\": 0,\n",
    "    #     }\n",
    "    #     swap_params = tuple(swap_params.values())\n",
    "    #     print(\"Swapping WETH for USDC\")\n",
    "    #     # amountOut = swap_router.exactInputSingle(swap_params)\n",
    "    #     # print(f\"Successfully minted {uni_mint_amount/10**uni_decimals} USDC\")\n",
    "    \n",
    "\n",
    "    "
   ]
  },
  {
   "cell_type": "code",
   "execution_count": 37,
   "id": "0b64f811-814e-4ca2-9686-8a920738c1e6",
   "metadata": {},
   "outputs": [],
   "source": [
    "def  rebalance_lp_NOMODEL(\n",
    "    tokenWETH_amount: int,\n",
    "    tokenUSDC_amount: int,\n",
    "    pred_model_id: int,\n",
    "    pred_version_id: int,\n",
    "    account=\"giza1\",\n",
    "    chain1=f\"ethereum:sepolia:{sepolia_rpc_url}\",\n",
    "    nft_id=None,\n",
    "):\n",
    "    logger = getLogger(\"agent_logger\")\n",
    "    networks.parse_network_choice(f\"ethereum:sepolia:{sepolia_rpc_url}\").__enter__()\n",
    "\n",
    "    chain_id = chain.chain_id\n",
    "    # weth_mint_amount = 0.01\n",
    "    weth_mint_amount = tokenWETH_amount\n",
    "    pool_fee = 3000\n",
    "    uni = Contract(ADDRESSES[\"UNI\"][chain_id])\n",
    "    weth = Contract(ADDRESSES[\"WETH\"][chain_id])\n",
    "    # wbtc = Contract(ADDRESSES[\"WETH\"][chain_id])\n",
    "    wusdc = Contract(ADDRESSES[\"USDC\"][chain_id])\n",
    "    print(\"weth address: \", weth)\n",
    "    # wbtc = Contract('0x66194f6c999b28965e0303a84cb8b797273b6b8b')\n",
    "    weth_decimals = weth.decimals()\n",
    "    # wbtc_decimals = wbtc.decimals()\n",
    "    uni_decimals = uni.decimals()\n",
    "    wusdc_decimals = wusdc.decimals()\n",
    "    weth_mint_amount = int(weth_mint_amount * 10**weth_decimals)\n",
    "    uni_mint_amount = int(0.5 * weth_mint_amount)\n",
    "  \n",
    "    wallet = accounts.load(\"giza1\")\n",
    "\n",
    "    # inputTotalETF = 453.1;\n",
    "    # input = np.array([[inputTotalETF]]).astype(np.float32)\n",
    "\n",
    "    # Create the agent\n",
    "\n",
    "    # agent = create_agent(\n",
    "    #     model_id=pred_model_id,\n",
    "    #     version_id=pred_version_id,\n",
    "    #     chain=chain1,\n",
    "    #     contracts=contracts,\n",
    "    #     account=account,\n",
    "    # )\n",
    "\n",
    "    # result = predict(agent, input)\n",
    "    # print(\"model result = \", result)\n",
    "\n",
    "    # with agent.execute() as contracts:\n",
    "    \n",
    "    logger.info(\"Executing contract\")\n",
    "    print(f\"Your WETH balance: {weth.balanceOf(wallet.address)/10**weth_decimals}\")\n",
    "    print(f\"Your WUSDC balance: {wusdc.balanceOf(wallet.address)/10**wusdc_decimals}\")"
   ]
  },
  {
   "cell_type": "code",
   "execution_count": 33,
   "id": "7a67b390-33fb-4f17-aec5-6fb75818d730",
   "metadata": {},
   "outputs": [
    {
     "name": "stdout",
     "output_type": "stream",
     "text": [
      "739\n",
      "1\n",
      "weth address:  0xfFf9976782d46CC05630D1f6eBAb18b2324d6B14\n"
     ]
    },
    {
     "name": "stderr",
     "output_type": "stream",
     "text": [
      "INFO:giza.agents.model:Could not download model: 'GizaAgent' object has no attribute '_output_path'\n",
      "INFO:giza.agents.model:Model already downloaded at: C:\\Users\\CHUCK~1.RAG\\AppData\\Local\\Temp\\739_1_linear_regression-betf6 ✅\n",
      "INFO:giza.agents.model:Predicting\n",
      "ERROR:giza.agents.model:An error occurred in predict: 500 Server Error: Internal Server Error for url: https://endpoint-giza1-739-1-a8a598d9-7i3yxzspbq-ew.a.run.app/cairo_run\n",
      "ERROR:giza.agents.model:Deployment predict error: Error processing proof for request\n",
      "ERROR:giza.agents.model:An error occurred in predict: 500 Server Error: Internal Server Error for url: https://endpoint-giza1-739-1-a8a598d9-7i3yxzspbq-ew.a.run.app/cairo_run\n"
     ]
    },
    {
     "ename": "HTTPError",
     "evalue": "500 Server Error: Internal Server Error for url: https://endpoint-giza1-739-1-a8a598d9-7i3yxzspbq-ew.a.run.app/cairo_run",
     "output_type": "error",
     "traceback": [
      "\u001b[1;31m---------------------------------------------------------------------------\u001b[0m",
      "\u001b[1;31mHTTPError\u001b[0m                                 Traceback (most recent call last)",
      "Cell \u001b[1;32mIn[33], line 10\u001b[0m\n\u001b[0;32m      7\u001b[0m tokenWETH_amount \u001b[38;5;241m=\u001b[39m \u001b[38;5;241m2500000\u001b[39m\n\u001b[0;32m      8\u001b[0m tokenUSDC_amount \u001b[38;5;241m=\u001b[39m \u001b[38;5;241m1000000\u001b[39m\n\u001b[1;32m---> 10\u001b[0m \u001b[43mrebalance_lp\u001b[49m\u001b[43m(\u001b[49m\u001b[43mtokenWETH_amount\u001b[49m\u001b[43m,\u001b[49m\u001b[43m \u001b[49m\u001b[43mtokenUSDC_amount\u001b[49m\u001b[43m,\u001b[49m\u001b[43m \u001b[49m\u001b[43mMODEL_ID\u001b[49m\u001b[43m,\u001b[49m\u001b[43m \u001b[49m\u001b[43mVERSION_ID\u001b[49m\u001b[43m)\u001b[49m\n",
      "Cell \u001b[1;32mIn[31], line 59\u001b[0m, in \u001b[0;36mrebalance_lp\u001b[1;34m(tokenWETH_amount, tokenUSDC_amount, pred_model_id, pred_version_id, account, chain1, nft_id)\u001b[0m\n\u001b[0;32m     49\u001b[0m \u001b[38;5;66;03m# Create the agent\u001b[39;00m\n\u001b[0;32m     51\u001b[0m agent \u001b[38;5;241m=\u001b[39m create_agent(\n\u001b[0;32m     52\u001b[0m     model_id\u001b[38;5;241m=\u001b[39mpred_model_id,\n\u001b[0;32m     53\u001b[0m     version_id\u001b[38;5;241m=\u001b[39mpred_version_id,\n\u001b[1;32m   (...)\u001b[0m\n\u001b[0;32m     56\u001b[0m     account\u001b[38;5;241m=\u001b[39maccount,\n\u001b[0;32m     57\u001b[0m )\n\u001b[1;32m---> 59\u001b[0m result \u001b[38;5;241m=\u001b[39m \u001b[43mpredict\u001b[49m\u001b[43m(\u001b[49m\u001b[43magent\u001b[49m\u001b[43m,\u001b[49m\u001b[43m \u001b[49m\u001b[38;5;28;43minput\u001b[39;49m\u001b[43m)\u001b[49m\n\u001b[0;32m     60\u001b[0m \u001b[38;5;28mprint\u001b[39m(\u001b[38;5;124m\"\u001b[39m\u001b[38;5;124mmodel result = \u001b[39m\u001b[38;5;124m\"\u001b[39m, result)\n\u001b[0;32m     62\u001b[0m \u001b[38;5;28;01mwith\u001b[39;00m agent\u001b[38;5;241m.\u001b[39mexecute() \u001b[38;5;28;01mas\u001b[39;00m contracts:\n",
      "Cell \u001b[1;32mIn[12], line 11\u001b[0m, in \u001b[0;36mpredict\u001b[1;34m(agent, X)\u001b[0m\n\u001b[0;32m      1\u001b[0m \u001b[38;5;28;01mdef\u001b[39;00m \u001b[38;5;21mpredict\u001b[39m(agent: GizaAgent, X: np\u001b[38;5;241m.\u001b[39mndarray):\n\u001b[0;32m      2\u001b[0m \u001b[38;5;250m    \u001b[39m\u001b[38;5;124;03m\"\"\"\u001b[39;00m\n\u001b[0;32m      3\u001b[0m \u001b[38;5;124;03m    Predict the next day volatility.\u001b[39;00m\n\u001b[0;32m      4\u001b[0m \n\u001b[1;32m   (...)\u001b[0m\n\u001b[0;32m      9\u001b[0m \u001b[38;5;124;03m        int: Predicted value.\u001b[39;00m\n\u001b[0;32m     10\u001b[0m \u001b[38;5;124;03m    \"\"\"\u001b[39;00m\n\u001b[1;32m---> 11\u001b[0m     prediction \u001b[38;5;241m=\u001b[39m \u001b[43magent\u001b[49m\u001b[38;5;241;43m.\u001b[39;49m\u001b[43mpredict\u001b[49m\u001b[43m(\u001b[49m\u001b[43minput_feed\u001b[49m\u001b[38;5;241;43m=\u001b[39;49m\u001b[43m{\u001b[49m\u001b[38;5;124;43m\"\u001b[39;49m\u001b[38;5;124;43mval\u001b[39;49m\u001b[38;5;124;43m\"\u001b[39;49m\u001b[43m:\u001b[49m\u001b[43m \u001b[49m\u001b[43mX\u001b[49m\u001b[43m}\u001b[49m\u001b[43m,\u001b[49m\u001b[43m \u001b[49m\u001b[43mverifiable\u001b[49m\u001b[38;5;241;43m=\u001b[39;49m\u001b[38;5;28;43;01mTrue\u001b[39;49;00m\u001b[43m,\u001b[49m\u001b[43m \u001b[49m\u001b[43mjob_size\u001b[49m\u001b[38;5;241;43m=\u001b[39;49m\u001b[38;5;124;43m\"\u001b[39;49m\u001b[38;5;124;43mXL\u001b[39;49m\u001b[38;5;124;43m\"\u001b[39;49m\u001b[43m)\u001b[49m\n\u001b[0;32m     12\u001b[0m     \u001b[38;5;28;01mreturn\u001b[39;00m prediction\n",
      "File \u001b[1;32m~\\AppData\\Roaming\\Python\\Python311\\site-packages\\giza\\agents\\agent.py:266\u001b[0m, in \u001b[0;36mGizaAgent.predict\u001b[1;34m(self, input_file, input_feed, verifiable, fp_impl, custom_output_dtype, job_size, dry_run, model_category, **result_kwargs)\u001b[0m\n\u001b[0;32m    246\u001b[0m \u001b[38;5;28;01mdef\u001b[39;00m \u001b[38;5;21mpredict\u001b[39m(\n\u001b[0;32m    247\u001b[0m     \u001b[38;5;28mself\u001b[39m,\n\u001b[0;32m    248\u001b[0m     input_file: Optional[\u001b[38;5;28mstr\u001b[39m] \u001b[38;5;241m=\u001b[39m \u001b[38;5;28;01mNone\u001b[39;00m,\n\u001b[1;32m   (...)\u001b[0m\n\u001b[0;32m    256\u001b[0m     \u001b[38;5;241m*\u001b[39m\u001b[38;5;241m*\u001b[39mresult_kwargs: Any,\n\u001b[0;32m    257\u001b[0m ) \u001b[38;5;241m-\u001b[39m\u001b[38;5;241m>\u001b[39m Optional[Union[Tuple[Any, Any], \u001b[38;5;124m\"\u001b[39m\u001b[38;5;124mAgentResult\u001b[39m\u001b[38;5;124m\"\u001b[39m]]:\n\u001b[0;32m    258\u001b[0m \u001b[38;5;250m    \u001b[39m\u001b[38;5;124;03m\"\"\"\u001b[39;00m\n\u001b[0;32m    259\u001b[0m \u001b[38;5;124;03m    Runs a round of inference on the model and saves the result.\u001b[39;00m\n\u001b[0;32m    260\u001b[0m \n\u001b[1;32m   (...)\u001b[0m\n\u001b[0;32m    264\u001b[0m \u001b[38;5;124;03m        job_size: The size of the job to run\u001b[39;00m\n\u001b[0;32m    265\u001b[0m \u001b[38;5;124;03m    \"\"\"\u001b[39;00m\n\u001b[1;32m--> 266\u001b[0m     result \u001b[38;5;241m=\u001b[39m \u001b[38;5;28;43msuper\u001b[39;49m\u001b[43m(\u001b[49m\u001b[43m)\u001b[49m\u001b[38;5;241;43m.\u001b[39;49m\u001b[43mpredict\u001b[49m\u001b[43m(\u001b[49m\n\u001b[0;32m    267\u001b[0m \u001b[43m        \u001b[49m\u001b[43minput_file\u001b[49m\u001b[38;5;241;43m=\u001b[39;49m\u001b[43minput_file\u001b[49m\u001b[43m,\u001b[49m\n\u001b[0;32m    268\u001b[0m \u001b[43m        \u001b[49m\u001b[43minput_feed\u001b[49m\u001b[38;5;241;43m=\u001b[39;49m\u001b[43minput_feed\u001b[49m\u001b[43m,\u001b[49m\n\u001b[0;32m    269\u001b[0m \u001b[43m        \u001b[49m\u001b[43mverifiable\u001b[49m\u001b[38;5;241;43m=\u001b[39;49m\u001b[43mverifiable\u001b[49m\u001b[43m,\u001b[49m\n\u001b[0;32m    270\u001b[0m \u001b[43m        \u001b[49m\u001b[43mfp_impl\u001b[49m\u001b[38;5;241;43m=\u001b[39;49m\u001b[43mfp_impl\u001b[49m\u001b[43m,\u001b[49m\n\u001b[0;32m    271\u001b[0m \u001b[43m        \u001b[49m\u001b[43mcustom_output_dtype\u001b[49m\u001b[38;5;241;43m=\u001b[39;49m\u001b[43mcustom_output_dtype\u001b[49m\u001b[43m,\u001b[49m\n\u001b[0;32m    272\u001b[0m \u001b[43m        \u001b[49m\u001b[43mjob_size\u001b[49m\u001b[38;5;241;43m=\u001b[39;49m\u001b[43mjob_size\u001b[49m\u001b[43m,\u001b[49m\n\u001b[0;32m    273\u001b[0m \u001b[43m        \u001b[49m\u001b[43mdry_run\u001b[49m\u001b[38;5;241;43m=\u001b[39;49m\u001b[43mdry_run\u001b[49m\u001b[43m,\u001b[49m\n\u001b[0;32m    274\u001b[0m \u001b[43m        \u001b[49m\u001b[43mmodel_category\u001b[49m\u001b[38;5;241;43m=\u001b[39;49m\u001b[43mmodel_category\u001b[49m\u001b[43m,\u001b[49m\n\u001b[0;32m    275\u001b[0m \u001b[43m    \u001b[49m\u001b[43m)\u001b[49m\n\u001b[0;32m    277\u001b[0m     \u001b[38;5;28mself\u001b[39m\u001b[38;5;241m.\u001b[39mverifiable \u001b[38;5;241m=\u001b[39m verifiable\n\u001b[0;32m    279\u001b[0m     \u001b[38;5;28;01mif\u001b[39;00m \u001b[38;5;129;01mnot\u001b[39;00m verifiable:\n",
      "File \u001b[1;32m~\\AppData\\Roaming\\Python\\Python311\\site-packages\\giza\\agents\\model.py:333\u001b[0m, in \u001b[0;36mGizaModel.predict\u001b[1;34m(self, input_file, input_feed, verifiable, fp_impl, custom_output_dtype, model_category, job_size, dry_run)\u001b[0m\n\u001b[0;32m    331\u001b[0m \u001b[38;5;28;01mexcept\u001b[39;00m \u001b[38;5;167;01mException\u001b[39;00m \u001b[38;5;28;01mas\u001b[39;00m e:\n\u001b[0;32m    332\u001b[0m     logger\u001b[38;5;241m.\u001b[39merror(\u001b[38;5;124mf\u001b[39m\u001b[38;5;124m\"\u001b[39m\u001b[38;5;124mAn error occurred in predict: \u001b[39m\u001b[38;5;132;01m{\u001b[39;00me\u001b[38;5;132;01m}\u001b[39;00m\u001b[38;5;124m\"\u001b[39m)\n\u001b[1;32m--> 333\u001b[0m     \u001b[38;5;28;01mraise\u001b[39;00m e\n",
      "File \u001b[1;32m~\\AppData\\Roaming\\Python\\Python311\\site-packages\\giza\\agents\\model.py:297\u001b[0m, in \u001b[0;36mGizaModel.predict\u001b[1;34m(self, input_file, input_feed, verifiable, fp_impl, custom_output_dtype, model_category, job_size, dry_run)\u001b[0m\n\u001b[0;32m    295\u001b[0m     error_message \u001b[38;5;241m=\u001b[39m \u001b[38;5;124mf\u001b[39m\u001b[38;5;124m\"\u001b[39m\u001b[38;5;124mDeployment predict error: \u001b[39m\u001b[38;5;132;01m{\u001b[39;00mresponse\u001b[38;5;241m.\u001b[39mtext\u001b[38;5;132;01m}\u001b[39;00m\u001b[38;5;124m\"\u001b[39m\n\u001b[0;32m    296\u001b[0m     logger\u001b[38;5;241m.\u001b[39merror(error_message)\n\u001b[1;32m--> 297\u001b[0m     \u001b[38;5;28;01mraise\u001b[39;00m e\n\u001b[0;32m    299\u001b[0m body \u001b[38;5;241m=\u001b[39m response\u001b[38;5;241m.\u001b[39mjson()\n\u001b[0;32m    300\u001b[0m serialized_output \u001b[38;5;241m=\u001b[39m body[\u001b[38;5;124m\"\u001b[39m\u001b[38;5;124mresult\u001b[39m\u001b[38;5;124m\"\u001b[39m]\n",
      "File \u001b[1;32m~\\AppData\\Roaming\\Python\\Python311\\site-packages\\giza\\agents\\model.py:292\u001b[0m, in \u001b[0;36mGizaModel.predict\u001b[1;34m(self, input_file, input_feed, verifiable, fp_impl, custom_output_dtype, model_category, job_size, dry_run)\u001b[0m\n\u001b[0;32m    289\u001b[0m response \u001b[38;5;241m=\u001b[39m requests\u001b[38;5;241m.\u001b[39mpost(\u001b[38;5;28mself\u001b[39m\u001b[38;5;241m.\u001b[39muri, json\u001b[38;5;241m=\u001b[39mpayload)\n\u001b[0;32m    291\u001b[0m \u001b[38;5;28;01mtry\u001b[39;00m:\n\u001b[1;32m--> 292\u001b[0m     \u001b[43mresponse\u001b[49m\u001b[38;5;241;43m.\u001b[39;49m\u001b[43mraise_for_status\u001b[49m\u001b[43m(\u001b[49m\u001b[43m)\u001b[49m\n\u001b[0;32m    293\u001b[0m \u001b[38;5;28;01mexcept\u001b[39;00m requests\u001b[38;5;241m.\u001b[39mexceptions\u001b[38;5;241m.\u001b[39mHTTPError \u001b[38;5;28;01mas\u001b[39;00m e:\n\u001b[0;32m    294\u001b[0m     logger\u001b[38;5;241m.\u001b[39merror(\u001b[38;5;124mf\u001b[39m\u001b[38;5;124m\"\u001b[39m\u001b[38;5;124mAn error occurred in predict: \u001b[39m\u001b[38;5;132;01m{\u001b[39;00me\u001b[38;5;132;01m}\u001b[39;00m\u001b[38;5;124m\"\u001b[39m)\n",
      "File \u001b[1;32m~\\AppData\\Roaming\\Python\\Python311\\site-packages\\requests\\models.py:1024\u001b[0m, in \u001b[0;36mResponse.raise_for_status\u001b[1;34m(self)\u001b[0m\n\u001b[0;32m   1019\u001b[0m     http_error_msg \u001b[38;5;241m=\u001b[39m (\n\u001b[0;32m   1020\u001b[0m         \u001b[38;5;124mf\u001b[39m\u001b[38;5;124m\"\u001b[39m\u001b[38;5;132;01m{\u001b[39;00m\u001b[38;5;28mself\u001b[39m\u001b[38;5;241m.\u001b[39mstatus_code\u001b[38;5;132;01m}\u001b[39;00m\u001b[38;5;124m Server Error: \u001b[39m\u001b[38;5;132;01m{\u001b[39;00mreason\u001b[38;5;132;01m}\u001b[39;00m\u001b[38;5;124m for url: \u001b[39m\u001b[38;5;132;01m{\u001b[39;00m\u001b[38;5;28mself\u001b[39m\u001b[38;5;241m.\u001b[39murl\u001b[38;5;132;01m}\u001b[39;00m\u001b[38;5;124m\"\u001b[39m\n\u001b[0;32m   1021\u001b[0m     )\n\u001b[0;32m   1023\u001b[0m \u001b[38;5;28;01mif\u001b[39;00m http_error_msg:\n\u001b[1;32m-> 1024\u001b[0m     \u001b[38;5;28;01mraise\u001b[39;00m HTTPError(http_error_msg, response\u001b[38;5;241m=\u001b[39m\u001b[38;5;28mself\u001b[39m)\n",
      "\u001b[1;31mHTTPError\u001b[0m: 500 Server Error: Internal Server Error for url: https://endpoint-giza1-739-1-a8a598d9-7i3yxzspbq-ew.a.run.app/cairo_run"
     ]
    }
   ],
   "source": [
    "MODEL_ID = 739\n",
    "VERSION_ID = 1\n",
    "\n",
    "print(MODEL_ID)\n",
    "print(VERSION_ID)\n",
    "\n",
    "tokenWETH_amount = 2500000\n",
    "tokenUSDC_amount = 1000000\n",
    "\n",
    "rebalance_lp(tokenWETH_amount, tokenUSDC_amount, MODEL_ID, VERSION_ID)"
   ]
  },
  {
   "cell_type": "markdown",
   "id": "8f2c9cc8-f584-42c0-965c-ea16f08412b6",
   "metadata": {},
   "source": [
    "### No model call - just Ape contracts"
   ]
  },
  {
   "cell_type": "code",
   "execution_count": 38,
   "id": "0fa378bb-7084-41a5-8c2a-d22827198300",
   "metadata": {},
   "outputs": [
    {
     "name": "stdout",
     "output_type": "stream",
     "text": [
      "739\n",
      "1\n",
      "weth address:  0xfFf9976782d46CC05630D1f6eBAb18b2324d6B14\n"
     ]
    },
    {
     "name": "stderr",
     "output_type": "stream",
     "text": [
      "INFO:agent_logger:Executing contract\n"
     ]
    },
    {
     "name": "stdout",
     "output_type": "stream",
     "text": [
      "Your WETH balance: 0.02\n",
      "Your WUSDC balance: 5.436197\n"
     ]
    }
   ],
   "source": [
    "MODEL_ID = 739\n",
    "VERSION_ID = 1\n",
    "\n",
    "print(MODEL_ID)\n",
    "print(VERSION_ID)\n",
    "\n",
    "tokenWETH_amount = 2500000\n",
    "tokenUSDC_amount = 1000000\n",
    "\n",
    "rebalance_lp_NOMODEL(tokenWETH_amount, tokenUSDC_amount, MODEL_ID, VERSION_ID)"
   ]
  },
  {
   "cell_type": "code",
   "execution_count": 26,
   "id": "545a3bdb-21ee-4667-8b87-bd0a710d114e",
   "metadata": {},
   "outputs": [
    {
     "name": "stdout",
     "output_type": "stream",
     "text": [
      "739\n",
      "1\n",
      "weth address:  0xfFf9976782d46CC05630D1f6eBAb18b2324d6B14\n"
     ]
    },
    {
     "name": "stderr",
     "output_type": "stream",
     "text": [
      "INFO:giza.agents.model:Could not download model: 'GizaAgent' object has no attribute '_output_path'\n",
      "INFO:giza.agents.model:Model already downloaded at: C:\\Users\\CHUCK~1.RAG\\AppData\\Local\\Temp\\739_1_linear_regression-betf6 ✅\n",
      "INFO:giza.agents.model:Predicting\n",
      "INFO:giza.agents.model:Serialized: [1 1] [3933011291 false]\n"
     ]
    },
    {
     "name": "stdout",
     "output_type": "stream",
     "text": [
      "🚀 Starting deserialization process...\n",
      "✅ Deserialization completed! 🎉\n"
     ]
    },
    {
     "name": "stderr",
     "output_type": "stream",
     "text": [
      "INFO:giza.agents.agent:Updating agent with chain ethereum:sepolia:https://eth-sepolia.g.alchemy.com/v2/alcht_qTqyinch9eBi0vF09MR064gABbQbLI\n",
      "INFO:giza.agents.agent:Updating agent with latest contracts\n"
     ]
    },
    {
     "name": "stdout",
     "output_type": "stream",
     "text": [
      "model result =  AgentResult(input={'val': array([[453.1]], dtype=float32)}, request_id=7525e11b94024d8c820b15f04816d4be, value=[[60012.9896698]])\n"
     ]
    },
    {
     "ename": "TypeError",
     "evalue": "Object of type ContractInstance is not JSON serializable",
     "output_type": "error",
     "traceback": [
      "\u001b[1;31m---------------------------------------------------------------------------\u001b[0m",
      "\u001b[1;31mTypeError\u001b[0m                                 Traceback (most recent call last)",
      "Cell \u001b[1;32mIn[26], line 27\u001b[0m\n\u001b[0;32m     24\u001b[0m tokenWETH_amount \u001b[38;5;241m=\u001b[39m \u001b[38;5;241m2500000\u001b[39m\n\u001b[0;32m     25\u001b[0m tokenUSDC_amount \u001b[38;5;241m=\u001b[39m \u001b[38;5;241m1000000\u001b[39m\n\u001b[1;32m---> 27\u001b[0m \u001b[43mrebalance_lp\u001b[49m\u001b[43m(\u001b[49m\u001b[43mtokenWETH_amount\u001b[49m\u001b[43m,\u001b[49m\u001b[43m \u001b[49m\u001b[43mtokenUSDC_amount\u001b[49m\u001b[43m,\u001b[49m\u001b[43m \u001b[49m\u001b[43mMODEL_ID\u001b[49m\u001b[43m,\u001b[49m\u001b[43m \u001b[49m\u001b[43mVERSION_ID\u001b[49m\u001b[43m)\u001b[49m\n",
      "Cell \u001b[1;32mIn[24], line 51\u001b[0m, in \u001b[0;36mrebalance_lp\u001b[1;34m(tokenWETH_amount, tokenUSDC_amount, pred_model_id, pred_version_id, account, chain1, nft_id)\u001b[0m\n\u001b[0;32m     48\u001b[0m result \u001b[38;5;241m=\u001b[39m predict(agent, \u001b[38;5;28minput\u001b[39m)\n\u001b[0;32m     49\u001b[0m \u001b[38;5;28mprint\u001b[39m(\u001b[38;5;124m\"\u001b[39m\u001b[38;5;124mmodel result = \u001b[39m\u001b[38;5;124m\"\u001b[39m, result)\n\u001b[1;32m---> 51\u001b[0m \u001b[43m\u001b[49m\u001b[38;5;28;43;01mwith\u001b[39;49;00m\u001b[43m \u001b[49m\u001b[43magent\u001b[49m\u001b[38;5;241;43m.\u001b[39;49m\u001b[43mexecute\u001b[49m\u001b[43m(\u001b[49m\u001b[43m)\u001b[49m\u001b[43m \u001b[49m\u001b[38;5;28;43;01mas\u001b[39;49;00m\u001b[43m \u001b[49m\u001b[43mcontracts\u001b[49m\u001b[43m:\u001b[49m\n\u001b[0;32m     53\u001b[0m \u001b[43m    \u001b[49m\u001b[43mlogger\u001b[49m\u001b[38;5;241;43m.\u001b[39;49m\u001b[43minfo\u001b[49m\u001b[43m(\u001b[49m\u001b[38;5;124;43m\"\u001b[39;49m\u001b[38;5;124;43mExecuting contract\u001b[39;49m\u001b[38;5;124;43m\"\u001b[39;49m\u001b[43m)\u001b[49m\n",
      "File \u001b[1;32m~\\AppData\\Local\\anaconda3\\envs\\giza3\\Lib\\contextlib.py:137\u001b[0m, in \u001b[0;36m_GeneratorContextManager.__enter__\u001b[1;34m(self)\u001b[0m\n\u001b[0;32m    135\u001b[0m \u001b[38;5;28;01mdel\u001b[39;00m \u001b[38;5;28mself\u001b[39m\u001b[38;5;241m.\u001b[39margs, \u001b[38;5;28mself\u001b[39m\u001b[38;5;241m.\u001b[39mkwds, \u001b[38;5;28mself\u001b[39m\u001b[38;5;241m.\u001b[39mfunc\n\u001b[0;32m    136\u001b[0m \u001b[38;5;28;01mtry\u001b[39;00m:\n\u001b[1;32m--> 137\u001b[0m     \u001b[38;5;28;01mreturn\u001b[39;00m \u001b[38;5;28mnext\u001b[39m(\u001b[38;5;28mself\u001b[39m\u001b[38;5;241m.\u001b[39mgen)\n\u001b[0;32m    138\u001b[0m \u001b[38;5;28;01mexcept\u001b[39;00m \u001b[38;5;167;01mStopIteration\u001b[39;00m:\n\u001b[0;32m    139\u001b[0m     \u001b[38;5;28;01mraise\u001b[39;00m \u001b[38;5;167;01mRuntimeError\u001b[39;00m(\u001b[38;5;124m\"\u001b[39m\u001b[38;5;124mgenerator didn\u001b[39m\u001b[38;5;124m'\u001b[39m\u001b[38;5;124mt yield\u001b[39m\u001b[38;5;124m\"\u001b[39m) \u001b[38;5;28;01mfrom\u001b[39;00m \u001b[38;5;28;01mNone\u001b[39;00m\n",
      "File \u001b[1;32m~\\AppData\\Roaming\\Python\\Python311\\site-packages\\giza\\agents\\agent.py:225\u001b[0m, in \u001b[0;36mGizaAgent.execute\u001b[1;34m(self)\u001b[0m\n\u001b[0;32m    218\u001b[0m \u001b[38;5;250m\u001b[39m\u001b[38;5;124;03m\"\"\"\u001b[39;00m\n\u001b[0;32m    219\u001b[0m \u001b[38;5;124;03mExecute the agent in the given ecosystem. Return the contract instace so the user can execute it.\u001b[39;00m\n\u001b[0;32m    220\u001b[0m \n\u001b[0;32m    221\u001b[0m \u001b[38;5;124;03mArgs:\u001b[39;00m\n\u001b[0;32m    222\u001b[0m \u001b[38;5;124;03m    ecosystem: The ecosystem to execute the agent in.\u001b[39;00m\n\u001b[0;32m    223\u001b[0m \u001b[38;5;124;03m\"\"\"\u001b[39;00m\n\u001b[0;32m    224\u001b[0m logger\u001b[38;5;241m.\u001b[39mdebug(\u001b[38;5;124m\"\u001b[39m\u001b[38;5;124mProvider configured\u001b[39m\u001b[38;5;124m\"\u001b[39m)\n\u001b[1;32m--> 225\u001b[0m \u001b[38;5;28;43mself\u001b[39;49m\u001b[38;5;241;43m.\u001b[39;49m\u001b[43m_update_agent\u001b[49m\u001b[43m(\u001b[49m\u001b[43m)\u001b[49m\n\u001b[0;32m    226\u001b[0m \u001b[38;5;28;01mwith\u001b[39;00m \u001b[38;5;28mself\u001b[39m\u001b[38;5;241m.\u001b[39m_provider:\n\u001b[0;32m    227\u001b[0m     \u001b[38;5;28mself\u001b[39m\u001b[38;5;241m.\u001b[39m_account \u001b[38;5;241m=\u001b[39m accounts\u001b[38;5;241m.\u001b[39mload(\u001b[38;5;28mself\u001b[39m\u001b[38;5;241m.\u001b[39maccount)\n",
      "File \u001b[1;32m~\\AppData\\Roaming\\Python\\Python311\\site-packages\\giza\\agents\\agent.py:195\u001b[0m, in \u001b[0;36mGizaAgent._update_agent\u001b[1;34m(self)\u001b[0m\n\u001b[0;32m    193\u001b[0m         logger\u001b[38;5;241m.\u001b[39minfo(\u001b[38;5;124m\"\u001b[39m\u001b[38;5;124mUpdating agent with latest contracts\u001b[39m\u001b[38;5;124m\"\u001b[39m)\n\u001b[0;32m    194\u001b[0m     agent \u001b[38;5;241m=\u001b[39m AgentUpdate(parameters\u001b[38;5;241m=\u001b[39mparameters)\n\u001b[1;32m--> 195\u001b[0m     \u001b[38;5;28;43mself\u001b[39;49m\u001b[38;5;241;43m.\u001b[39;49m\u001b[43m_agents_client\u001b[49m\u001b[38;5;241;43m.\u001b[39;49m\u001b[43mpatch\u001b[49m\u001b[43m(\u001b[49m\u001b[38;5;28;43mself\u001b[39;49m\u001b[38;5;241;43m.\u001b[39;49m\u001b[43m_agent\u001b[49m\u001b[38;5;241;43m.\u001b[39;49m\u001b[43mid\u001b[49m\u001b[43m,\u001b[49m\u001b[43m \u001b[49m\u001b[43magent\u001b[49m\u001b[43m)\u001b[49m\n\u001b[0;32m    196\u001b[0m     logger\u001b[38;5;241m.\u001b[39minfo(\u001b[38;5;124m\"\u001b[39m\u001b[38;5;124mAgent updated!\u001b[39m\u001b[38;5;124m\"\u001b[39m)\n\u001b[0;32m    197\u001b[0m \u001b[38;5;28;01mexcept\u001b[39;00m HTTPError \u001b[38;5;28;01mas\u001b[39;00m e:\n",
      "File \u001b[1;32m~\\AppData\\Roaming\\Python\\Python311\\site-packages\\giza\\cli\\utils\\decorators.py:51\u001b[0m, in \u001b[0;36mauth.<locals>.wrapper\u001b[1;34m(*args, **kwargs)\u001b[0m\n\u001b[0;32m     47\u001b[0m \u001b[38;5;28;01mif\u001b[39;00m (self_\u001b[38;5;241m.\u001b[39mtoken \u001b[38;5;129;01mis\u001b[39;00m \u001b[38;5;28;01mNone\u001b[39;00m \u001b[38;5;129;01mor\u001b[39;00m expired) \u001b[38;5;129;01mand\u001b[39;00m self_\u001b[38;5;241m.\u001b[39mapi_key \u001b[38;5;129;01mis\u001b[39;00m \u001b[38;5;28;01mNone\u001b[39;00m:\n\u001b[0;32m     48\u001b[0m     \u001b[38;5;28;01mraise\u001b[39;00m \u001b[38;5;167;01mException\u001b[39;00m(\n\u001b[0;32m     49\u001b[0m         \u001b[38;5;124m\"\u001b[39m\u001b[38;5;124mToken expired or not set. API Key not available. Log in again.\u001b[39m\u001b[38;5;124m\"\u001b[39m\n\u001b[0;32m     50\u001b[0m     )\n\u001b[1;32m---> 51\u001b[0m \u001b[38;5;28;01mreturn\u001b[39;00m \u001b[43mfunc\u001b[49m\u001b[43m(\u001b[49m\u001b[38;5;241;43m*\u001b[39;49m\u001b[43margs\u001b[49m\u001b[43m,\u001b[49m\u001b[43m \u001b[49m\u001b[38;5;241;43m*\u001b[39;49m\u001b[38;5;241;43m*\u001b[39;49m\u001b[43mkwargs\u001b[49m\u001b[43m)\u001b[49m\n",
      "File \u001b[1;32m~\\AppData\\Roaming\\Python\\Python311\\site-packages\\giza\\cli\\client.py:1838\u001b[0m, in \u001b[0;36mAgentsClient.patch\u001b[1;34m(self, agent_id, agent_update)\u001b[0m\n\u001b[0;32m   1835\u001b[0m headers \u001b[38;5;241m=\u001b[39m copy\u001b[38;5;241m.\u001b[39mdeepcopy(\u001b[38;5;28mself\u001b[39m\u001b[38;5;241m.\u001b[39mdefault_headers)\n\u001b[0;32m   1836\u001b[0m headers\u001b[38;5;241m.\u001b[39mupdate(\u001b[38;5;28mself\u001b[39m\u001b[38;5;241m.\u001b[39m_get_auth_header())\n\u001b[1;32m-> 1838\u001b[0m response \u001b[38;5;241m=\u001b[39m \u001b[38;5;28;43mself\u001b[39;49m\u001b[38;5;241;43m.\u001b[39;49m\u001b[43msession\u001b[49m\u001b[38;5;241;43m.\u001b[39;49m\u001b[43mpatch\u001b[49m\u001b[43m(\u001b[49m\n\u001b[0;32m   1839\u001b[0m \u001b[43m    \u001b[49m\u001b[38;5;124;43m\"\u001b[39;49m\u001b[38;5;124;43m/\u001b[39;49m\u001b[38;5;124;43m\"\u001b[39;49m\u001b[38;5;241;43m.\u001b[39;49m\u001b[43mjoin\u001b[49m\u001b[43m(\u001b[49m\n\u001b[0;32m   1840\u001b[0m \u001b[43m        \u001b[49m\u001b[43m[\u001b[49m\n\u001b[0;32m   1841\u001b[0m \u001b[43m            \u001b[49m\u001b[38;5;28;43mself\u001b[39;49m\u001b[38;5;241;43m.\u001b[39;49m\u001b[43murl\u001b[49m\u001b[43m,\u001b[49m\n\u001b[0;32m   1842\u001b[0m \u001b[43m            \u001b[49m\u001b[38;5;28;43mself\u001b[39;49m\u001b[38;5;241;43m.\u001b[39;49m\u001b[43mAGENTS_ENDPOINT\u001b[49m\u001b[43m,\u001b[49m\n\u001b[0;32m   1843\u001b[0m \u001b[43m            \u001b[49m\u001b[38;5;28;43mstr\u001b[39;49m\u001b[43m(\u001b[49m\u001b[43magent_id\u001b[49m\u001b[43m)\u001b[49m\u001b[43m,\u001b[49m\n\u001b[0;32m   1844\u001b[0m \u001b[43m        \u001b[49m\u001b[43m]\u001b[49m\n\u001b[0;32m   1845\u001b[0m \u001b[43m    \u001b[49m\u001b[43m)\u001b[49m\u001b[43m,\u001b[49m\n\u001b[0;32m   1846\u001b[0m \u001b[43m    \u001b[49m\u001b[43mheaders\u001b[49m\u001b[38;5;241;43m=\u001b[39;49m\u001b[43mheaders\u001b[49m\u001b[43m,\u001b[49m\n\u001b[0;32m   1847\u001b[0m \u001b[43m    \u001b[49m\u001b[43mjson\u001b[49m\u001b[38;5;241;43m=\u001b[39;49m\u001b[43magent_update\u001b[49m\u001b[38;5;241;43m.\u001b[39;49m\u001b[43mmodel_dump\u001b[49m\u001b[43m(\u001b[49m\u001b[43mexclude_none\u001b[49m\u001b[38;5;241;43m=\u001b[39;49m\u001b[38;5;28;43;01mTrue\u001b[39;49;00m\u001b[43m)\u001b[49m\u001b[43m,\u001b[49m\n\u001b[0;32m   1848\u001b[0m \u001b[43m\u001b[49m\u001b[43m)\u001b[49m\n\u001b[0;32m   1849\u001b[0m \u001b[38;5;28mself\u001b[39m\u001b[38;5;241m.\u001b[39m_echo_debug(\u001b[38;5;28mstr\u001b[39m(response))\n\u001b[0;32m   1850\u001b[0m response\u001b[38;5;241m.\u001b[39mraise_for_status()\n",
      "File \u001b[1;32m~\\AppData\\Roaming\\Python\\Python311\\site-packages\\requests\\sessions.py:661\u001b[0m, in \u001b[0;36mSession.patch\u001b[1;34m(self, url, data, **kwargs)\u001b[0m\n\u001b[0;32m    651\u001b[0m \u001b[38;5;28;01mdef\u001b[39;00m \u001b[38;5;21mpatch\u001b[39m(\u001b[38;5;28mself\u001b[39m, url, data\u001b[38;5;241m=\u001b[39m\u001b[38;5;28;01mNone\u001b[39;00m, \u001b[38;5;241m*\u001b[39m\u001b[38;5;241m*\u001b[39mkwargs):\n\u001b[0;32m    652\u001b[0m \u001b[38;5;250m    \u001b[39m\u001b[38;5;124mr\u001b[39m\u001b[38;5;124;03m\"\"\"Sends a PATCH request. Returns :class:`Response` object.\u001b[39;00m\n\u001b[0;32m    653\u001b[0m \n\u001b[0;32m    654\u001b[0m \u001b[38;5;124;03m    :param url: URL for the new :class:`Request` object.\u001b[39;00m\n\u001b[1;32m   (...)\u001b[0m\n\u001b[0;32m    658\u001b[0m \u001b[38;5;124;03m    :rtype: requests.Response\u001b[39;00m\n\u001b[0;32m    659\u001b[0m \u001b[38;5;124;03m    \"\"\"\u001b[39;00m\n\u001b[1;32m--> 661\u001b[0m     \u001b[38;5;28;01mreturn\u001b[39;00m \u001b[38;5;28;43mself\u001b[39;49m\u001b[38;5;241;43m.\u001b[39;49m\u001b[43mrequest\u001b[49m\u001b[43m(\u001b[49m\u001b[38;5;124;43m\"\u001b[39;49m\u001b[38;5;124;43mPATCH\u001b[39;49m\u001b[38;5;124;43m\"\u001b[39;49m\u001b[43m,\u001b[49m\u001b[43m \u001b[49m\u001b[43murl\u001b[49m\u001b[43m,\u001b[49m\u001b[43m \u001b[49m\u001b[43mdata\u001b[49m\u001b[38;5;241;43m=\u001b[39;49m\u001b[43mdata\u001b[49m\u001b[43m,\u001b[49m\u001b[43m \u001b[49m\u001b[38;5;241;43m*\u001b[39;49m\u001b[38;5;241;43m*\u001b[39;49m\u001b[43mkwargs\u001b[49m\u001b[43m)\u001b[49m\n",
      "File \u001b[1;32m~\\AppData\\Roaming\\Python\\Python311\\site-packages\\requests\\sessions.py:575\u001b[0m, in \u001b[0;36mSession.request\u001b[1;34m(self, method, url, params, data, headers, cookies, files, auth, timeout, allow_redirects, proxies, hooks, stream, verify, cert, json)\u001b[0m\n\u001b[0;32m    562\u001b[0m \u001b[38;5;66;03m# Create the Request.\u001b[39;00m\n\u001b[0;32m    563\u001b[0m req \u001b[38;5;241m=\u001b[39m Request(\n\u001b[0;32m    564\u001b[0m     method\u001b[38;5;241m=\u001b[39mmethod\u001b[38;5;241m.\u001b[39mupper(),\n\u001b[0;32m    565\u001b[0m     url\u001b[38;5;241m=\u001b[39murl,\n\u001b[1;32m   (...)\u001b[0m\n\u001b[0;32m    573\u001b[0m     hooks\u001b[38;5;241m=\u001b[39mhooks,\n\u001b[0;32m    574\u001b[0m )\n\u001b[1;32m--> 575\u001b[0m prep \u001b[38;5;241m=\u001b[39m \u001b[38;5;28;43mself\u001b[39;49m\u001b[38;5;241;43m.\u001b[39;49m\u001b[43mprepare_request\u001b[49m\u001b[43m(\u001b[49m\u001b[43mreq\u001b[49m\u001b[43m)\u001b[49m\n\u001b[0;32m    577\u001b[0m proxies \u001b[38;5;241m=\u001b[39m proxies \u001b[38;5;129;01mor\u001b[39;00m {}\n\u001b[0;32m    579\u001b[0m settings \u001b[38;5;241m=\u001b[39m \u001b[38;5;28mself\u001b[39m\u001b[38;5;241m.\u001b[39mmerge_environment_settings(\n\u001b[0;32m    580\u001b[0m     prep\u001b[38;5;241m.\u001b[39murl, proxies, stream, verify, cert\n\u001b[0;32m    581\u001b[0m )\n",
      "File \u001b[1;32m~\\AppData\\Roaming\\Python\\Python311\\site-packages\\requests\\sessions.py:484\u001b[0m, in \u001b[0;36mSession.prepare_request\u001b[1;34m(self, request)\u001b[0m\n\u001b[0;32m    481\u001b[0m     auth \u001b[38;5;241m=\u001b[39m get_netrc_auth(request\u001b[38;5;241m.\u001b[39murl)\n\u001b[0;32m    483\u001b[0m p \u001b[38;5;241m=\u001b[39m PreparedRequest()\n\u001b[1;32m--> 484\u001b[0m \u001b[43mp\u001b[49m\u001b[38;5;241;43m.\u001b[39;49m\u001b[43mprepare\u001b[49m\u001b[43m(\u001b[49m\n\u001b[0;32m    485\u001b[0m \u001b[43m    \u001b[49m\u001b[43mmethod\u001b[49m\u001b[38;5;241;43m=\u001b[39;49m\u001b[43mrequest\u001b[49m\u001b[38;5;241;43m.\u001b[39;49m\u001b[43mmethod\u001b[49m\u001b[38;5;241;43m.\u001b[39;49m\u001b[43mupper\u001b[49m\u001b[43m(\u001b[49m\u001b[43m)\u001b[49m\u001b[43m,\u001b[49m\n\u001b[0;32m    486\u001b[0m \u001b[43m    \u001b[49m\u001b[43murl\u001b[49m\u001b[38;5;241;43m=\u001b[39;49m\u001b[43mrequest\u001b[49m\u001b[38;5;241;43m.\u001b[39;49m\u001b[43murl\u001b[49m\u001b[43m,\u001b[49m\n\u001b[0;32m    487\u001b[0m \u001b[43m    \u001b[49m\u001b[43mfiles\u001b[49m\u001b[38;5;241;43m=\u001b[39;49m\u001b[43mrequest\u001b[49m\u001b[38;5;241;43m.\u001b[39;49m\u001b[43mfiles\u001b[49m\u001b[43m,\u001b[49m\n\u001b[0;32m    488\u001b[0m \u001b[43m    \u001b[49m\u001b[43mdata\u001b[49m\u001b[38;5;241;43m=\u001b[39;49m\u001b[43mrequest\u001b[49m\u001b[38;5;241;43m.\u001b[39;49m\u001b[43mdata\u001b[49m\u001b[43m,\u001b[49m\n\u001b[0;32m    489\u001b[0m \u001b[43m    \u001b[49m\u001b[43mjson\u001b[49m\u001b[38;5;241;43m=\u001b[39;49m\u001b[43mrequest\u001b[49m\u001b[38;5;241;43m.\u001b[39;49m\u001b[43mjson\u001b[49m\u001b[43m,\u001b[49m\n\u001b[0;32m    490\u001b[0m \u001b[43m    \u001b[49m\u001b[43mheaders\u001b[49m\u001b[38;5;241;43m=\u001b[39;49m\u001b[43mmerge_setting\u001b[49m\u001b[43m(\u001b[49m\n\u001b[0;32m    491\u001b[0m \u001b[43m        \u001b[49m\u001b[43mrequest\u001b[49m\u001b[38;5;241;43m.\u001b[39;49m\u001b[43mheaders\u001b[49m\u001b[43m,\u001b[49m\u001b[43m \u001b[49m\u001b[38;5;28;43mself\u001b[39;49m\u001b[38;5;241;43m.\u001b[39;49m\u001b[43mheaders\u001b[49m\u001b[43m,\u001b[49m\u001b[43m \u001b[49m\u001b[43mdict_class\u001b[49m\u001b[38;5;241;43m=\u001b[39;49m\u001b[43mCaseInsensitiveDict\u001b[49m\n\u001b[0;32m    492\u001b[0m \u001b[43m    \u001b[49m\u001b[43m)\u001b[49m\u001b[43m,\u001b[49m\n\u001b[0;32m    493\u001b[0m \u001b[43m    \u001b[49m\u001b[43mparams\u001b[49m\u001b[38;5;241;43m=\u001b[39;49m\u001b[43mmerge_setting\u001b[49m\u001b[43m(\u001b[49m\u001b[43mrequest\u001b[49m\u001b[38;5;241;43m.\u001b[39;49m\u001b[43mparams\u001b[49m\u001b[43m,\u001b[49m\u001b[43m \u001b[49m\u001b[38;5;28;43mself\u001b[39;49m\u001b[38;5;241;43m.\u001b[39;49m\u001b[43mparams\u001b[49m\u001b[43m)\u001b[49m\u001b[43m,\u001b[49m\n\u001b[0;32m    494\u001b[0m \u001b[43m    \u001b[49m\u001b[43mauth\u001b[49m\u001b[38;5;241;43m=\u001b[39;49m\u001b[43mmerge_setting\u001b[49m\u001b[43m(\u001b[49m\u001b[43mauth\u001b[49m\u001b[43m,\u001b[49m\u001b[43m \u001b[49m\u001b[38;5;28;43mself\u001b[39;49m\u001b[38;5;241;43m.\u001b[39;49m\u001b[43mauth\u001b[49m\u001b[43m)\u001b[49m\u001b[43m,\u001b[49m\n\u001b[0;32m    495\u001b[0m \u001b[43m    \u001b[49m\u001b[43mcookies\u001b[49m\u001b[38;5;241;43m=\u001b[39;49m\u001b[43mmerged_cookies\u001b[49m\u001b[43m,\u001b[49m\n\u001b[0;32m    496\u001b[0m \u001b[43m    \u001b[49m\u001b[43mhooks\u001b[49m\u001b[38;5;241;43m=\u001b[39;49m\u001b[43mmerge_hooks\u001b[49m\u001b[43m(\u001b[49m\u001b[43mrequest\u001b[49m\u001b[38;5;241;43m.\u001b[39;49m\u001b[43mhooks\u001b[49m\u001b[43m,\u001b[49m\u001b[43m \u001b[49m\u001b[38;5;28;43mself\u001b[39;49m\u001b[38;5;241;43m.\u001b[39;49m\u001b[43mhooks\u001b[49m\u001b[43m)\u001b[49m\u001b[43m,\u001b[49m\n\u001b[0;32m    497\u001b[0m \u001b[43m\u001b[49m\u001b[43m)\u001b[49m\n\u001b[0;32m    498\u001b[0m \u001b[38;5;28;01mreturn\u001b[39;00m p\n",
      "File \u001b[1;32m~\\AppData\\Roaming\\Python\\Python311\\site-packages\\requests\\models.py:370\u001b[0m, in \u001b[0;36mPreparedRequest.prepare\u001b[1;34m(self, method, url, headers, files, data, params, auth, cookies, hooks, json)\u001b[0m\n\u001b[0;32m    368\u001b[0m \u001b[38;5;28mself\u001b[39m\u001b[38;5;241m.\u001b[39mprepare_headers(headers)\n\u001b[0;32m    369\u001b[0m \u001b[38;5;28mself\u001b[39m\u001b[38;5;241m.\u001b[39mprepare_cookies(cookies)\n\u001b[1;32m--> 370\u001b[0m \u001b[38;5;28;43mself\u001b[39;49m\u001b[38;5;241;43m.\u001b[39;49m\u001b[43mprepare_body\u001b[49m\u001b[43m(\u001b[49m\u001b[43mdata\u001b[49m\u001b[43m,\u001b[49m\u001b[43m \u001b[49m\u001b[43mfiles\u001b[49m\u001b[43m,\u001b[49m\u001b[43m \u001b[49m\u001b[43mjson\u001b[49m\u001b[43m)\u001b[49m\n\u001b[0;32m    371\u001b[0m \u001b[38;5;28mself\u001b[39m\u001b[38;5;241m.\u001b[39mprepare_auth(auth, url)\n\u001b[0;32m    373\u001b[0m \u001b[38;5;66;03m# Note that prepare_auth must be last to enable authentication schemes\u001b[39;00m\n\u001b[0;32m    374\u001b[0m \u001b[38;5;66;03m# such as OAuth to work on a fully prepared request.\u001b[39;00m\n\u001b[0;32m    375\u001b[0m \n\u001b[0;32m    376\u001b[0m \u001b[38;5;66;03m# This MUST go after prepare_auth. Authenticators could add a hook\u001b[39;00m\n",
      "File \u001b[1;32m~\\AppData\\Roaming\\Python\\Python311\\site-packages\\requests\\models.py:510\u001b[0m, in \u001b[0;36mPreparedRequest.prepare_body\u001b[1;34m(self, data, files, json)\u001b[0m\n\u001b[0;32m    507\u001b[0m content_type \u001b[38;5;241m=\u001b[39m \u001b[38;5;124m\"\u001b[39m\u001b[38;5;124mapplication/json\u001b[39m\u001b[38;5;124m\"\u001b[39m\n\u001b[0;32m    509\u001b[0m \u001b[38;5;28;01mtry\u001b[39;00m:\n\u001b[1;32m--> 510\u001b[0m     body \u001b[38;5;241m=\u001b[39m \u001b[43mcomplexjson\u001b[49m\u001b[38;5;241;43m.\u001b[39;49m\u001b[43mdumps\u001b[49m\u001b[43m(\u001b[49m\u001b[43mjson\u001b[49m\u001b[43m,\u001b[49m\u001b[43m \u001b[49m\u001b[43mallow_nan\u001b[49m\u001b[38;5;241;43m=\u001b[39;49m\u001b[38;5;28;43;01mFalse\u001b[39;49;00m\u001b[43m)\u001b[49m\n\u001b[0;32m    511\u001b[0m \u001b[38;5;28;01mexcept\u001b[39;00m \u001b[38;5;167;01mValueError\u001b[39;00m \u001b[38;5;28;01mas\u001b[39;00m ve:\n\u001b[0;32m    512\u001b[0m     \u001b[38;5;28;01mraise\u001b[39;00m InvalidJSONError(ve, request\u001b[38;5;241m=\u001b[39m\u001b[38;5;28mself\u001b[39m)\n",
      "File \u001b[1;32m~\\AppData\\Local\\anaconda3\\envs\\giza3\\Lib\\json\\__init__.py:238\u001b[0m, in \u001b[0;36mdumps\u001b[1;34m(obj, skipkeys, ensure_ascii, check_circular, allow_nan, cls, indent, separators, default, sort_keys, **kw)\u001b[0m\n\u001b[0;32m    232\u001b[0m \u001b[38;5;28;01mif\u001b[39;00m \u001b[38;5;28mcls\u001b[39m \u001b[38;5;129;01mis\u001b[39;00m \u001b[38;5;28;01mNone\u001b[39;00m:\n\u001b[0;32m    233\u001b[0m     \u001b[38;5;28mcls\u001b[39m \u001b[38;5;241m=\u001b[39m JSONEncoder\n\u001b[0;32m    234\u001b[0m \u001b[38;5;28;01mreturn\u001b[39;00m \u001b[38;5;28;43mcls\u001b[39;49m\u001b[43m(\u001b[49m\n\u001b[0;32m    235\u001b[0m \u001b[43m    \u001b[49m\u001b[43mskipkeys\u001b[49m\u001b[38;5;241;43m=\u001b[39;49m\u001b[43mskipkeys\u001b[49m\u001b[43m,\u001b[49m\u001b[43m \u001b[49m\u001b[43mensure_ascii\u001b[49m\u001b[38;5;241;43m=\u001b[39;49m\u001b[43mensure_ascii\u001b[49m\u001b[43m,\u001b[49m\n\u001b[0;32m    236\u001b[0m \u001b[43m    \u001b[49m\u001b[43mcheck_circular\u001b[49m\u001b[38;5;241;43m=\u001b[39;49m\u001b[43mcheck_circular\u001b[49m\u001b[43m,\u001b[49m\u001b[43m \u001b[49m\u001b[43mallow_nan\u001b[49m\u001b[38;5;241;43m=\u001b[39;49m\u001b[43mallow_nan\u001b[49m\u001b[43m,\u001b[49m\u001b[43m \u001b[49m\u001b[43mindent\u001b[49m\u001b[38;5;241;43m=\u001b[39;49m\u001b[43mindent\u001b[49m\u001b[43m,\u001b[49m\n\u001b[0;32m    237\u001b[0m \u001b[43m    \u001b[49m\u001b[43mseparators\u001b[49m\u001b[38;5;241;43m=\u001b[39;49m\u001b[43mseparators\u001b[49m\u001b[43m,\u001b[49m\u001b[43m \u001b[49m\u001b[43mdefault\u001b[49m\u001b[38;5;241;43m=\u001b[39;49m\u001b[43mdefault\u001b[49m\u001b[43m,\u001b[49m\u001b[43m \u001b[49m\u001b[43msort_keys\u001b[49m\u001b[38;5;241;43m=\u001b[39;49m\u001b[43msort_keys\u001b[49m\u001b[43m,\u001b[49m\n\u001b[1;32m--> 238\u001b[0m \u001b[43m    \u001b[49m\u001b[38;5;241;43m*\u001b[39;49m\u001b[38;5;241;43m*\u001b[39;49m\u001b[43mkw\u001b[49m\u001b[43m)\u001b[49m\u001b[38;5;241;43m.\u001b[39;49m\u001b[43mencode\u001b[49m\u001b[43m(\u001b[49m\u001b[43mobj\u001b[49m\u001b[43m)\u001b[49m\n",
      "File \u001b[1;32m~\\AppData\\Local\\anaconda3\\envs\\giza3\\Lib\\json\\encoder.py:200\u001b[0m, in \u001b[0;36mJSONEncoder.encode\u001b[1;34m(self, o)\u001b[0m\n\u001b[0;32m    196\u001b[0m         \u001b[38;5;28;01mreturn\u001b[39;00m encode_basestring(o)\n\u001b[0;32m    197\u001b[0m \u001b[38;5;66;03m# This doesn't pass the iterator directly to ''.join() because the\u001b[39;00m\n\u001b[0;32m    198\u001b[0m \u001b[38;5;66;03m# exceptions aren't as detailed.  The list call should be roughly\u001b[39;00m\n\u001b[0;32m    199\u001b[0m \u001b[38;5;66;03m# equivalent to the PySequence_Fast that ''.join() would do.\u001b[39;00m\n\u001b[1;32m--> 200\u001b[0m chunks \u001b[38;5;241m=\u001b[39m \u001b[38;5;28;43mself\u001b[39;49m\u001b[38;5;241;43m.\u001b[39;49m\u001b[43miterencode\u001b[49m\u001b[43m(\u001b[49m\u001b[43mo\u001b[49m\u001b[43m,\u001b[49m\u001b[43m \u001b[49m\u001b[43m_one_shot\u001b[49m\u001b[38;5;241;43m=\u001b[39;49m\u001b[38;5;28;43;01mTrue\u001b[39;49;00m\u001b[43m)\u001b[49m\n\u001b[0;32m    201\u001b[0m \u001b[38;5;28;01mif\u001b[39;00m \u001b[38;5;129;01mnot\u001b[39;00m \u001b[38;5;28misinstance\u001b[39m(chunks, (\u001b[38;5;28mlist\u001b[39m, \u001b[38;5;28mtuple\u001b[39m)):\n\u001b[0;32m    202\u001b[0m     chunks \u001b[38;5;241m=\u001b[39m \u001b[38;5;28mlist\u001b[39m(chunks)\n",
      "File \u001b[1;32m~\\AppData\\Local\\anaconda3\\envs\\giza3\\Lib\\json\\encoder.py:258\u001b[0m, in \u001b[0;36mJSONEncoder.iterencode\u001b[1;34m(self, o, _one_shot)\u001b[0m\n\u001b[0;32m    253\u001b[0m \u001b[38;5;28;01melse\u001b[39;00m:\n\u001b[0;32m    254\u001b[0m     _iterencode \u001b[38;5;241m=\u001b[39m _make_iterencode(\n\u001b[0;32m    255\u001b[0m         markers, \u001b[38;5;28mself\u001b[39m\u001b[38;5;241m.\u001b[39mdefault, _encoder, \u001b[38;5;28mself\u001b[39m\u001b[38;5;241m.\u001b[39mindent, floatstr,\n\u001b[0;32m    256\u001b[0m         \u001b[38;5;28mself\u001b[39m\u001b[38;5;241m.\u001b[39mkey_separator, \u001b[38;5;28mself\u001b[39m\u001b[38;5;241m.\u001b[39mitem_separator, \u001b[38;5;28mself\u001b[39m\u001b[38;5;241m.\u001b[39msort_keys,\n\u001b[0;32m    257\u001b[0m         \u001b[38;5;28mself\u001b[39m\u001b[38;5;241m.\u001b[39mskipkeys, _one_shot)\n\u001b[1;32m--> 258\u001b[0m \u001b[38;5;28;01mreturn\u001b[39;00m \u001b[43m_iterencode\u001b[49m\u001b[43m(\u001b[49m\u001b[43mo\u001b[49m\u001b[43m,\u001b[49m\u001b[43m \u001b[49m\u001b[38;5;241;43m0\u001b[39;49m\u001b[43m)\u001b[49m\n",
      "File \u001b[1;32m~\\AppData\\Local\\anaconda3\\envs\\giza3\\Lib\\json\\encoder.py:180\u001b[0m, in \u001b[0;36mJSONEncoder.default\u001b[1;34m(self, o)\u001b[0m\n\u001b[0;32m    161\u001b[0m \u001b[38;5;28;01mdef\u001b[39;00m \u001b[38;5;21mdefault\u001b[39m(\u001b[38;5;28mself\u001b[39m, o):\n\u001b[0;32m    162\u001b[0m \u001b[38;5;250m    \u001b[39m\u001b[38;5;124;03m\"\"\"Implement this method in a subclass such that it returns\u001b[39;00m\n\u001b[0;32m    163\u001b[0m \u001b[38;5;124;03m    a serializable object for ``o``, or calls the base implementation\u001b[39;00m\n\u001b[0;32m    164\u001b[0m \u001b[38;5;124;03m    (to raise a ``TypeError``).\u001b[39;00m\n\u001b[1;32m   (...)\u001b[0m\n\u001b[0;32m    178\u001b[0m \n\u001b[0;32m    179\u001b[0m \u001b[38;5;124;03m    \"\"\"\u001b[39;00m\n\u001b[1;32m--> 180\u001b[0m     \u001b[38;5;28;01mraise\u001b[39;00m \u001b[38;5;167;01mTypeError\u001b[39;00m(\u001b[38;5;124mf\u001b[39m\u001b[38;5;124m'\u001b[39m\u001b[38;5;124mObject of type \u001b[39m\u001b[38;5;132;01m{\u001b[39;00mo\u001b[38;5;241m.\u001b[39m\u001b[38;5;18m__class__\u001b[39m\u001b[38;5;241m.\u001b[39m\u001b[38;5;18m__name__\u001b[39m\u001b[38;5;132;01m}\u001b[39;00m\u001b[38;5;124m \u001b[39m\u001b[38;5;124m'\u001b[39m\n\u001b[0;32m    181\u001b[0m                     \u001b[38;5;124mf\u001b[39m\u001b[38;5;124m'\u001b[39m\u001b[38;5;124mis not JSON serializable\u001b[39m\u001b[38;5;124m'\u001b[39m)\n",
      "\u001b[1;31mTypeError\u001b[0m: Object of type ContractInstance is not JSON serializable"
     ]
    }
   ],
   "source": [
    "if __name__ == \"__main__\":\n",
    "     \n",
    "    # Create the parser\n",
    "\n",
    "    # parser = argparse.ArgumentParser()\n",
    "    # # # Add arguments\n",
    "    # parser.add_argument(\"--model-id\", metavar=\"M\", type=int, help=\"model-id\")\n",
    "    # parser.add_argument(\"--version-id\", metavar=\"V\", type=int, help=\"version-id\")\n",
    "    # parser.add_argument(\"--quote\", metavar=\"A\", type=int, help=\"quote\")\n",
    "    # # parser.add_argument(\"--tokenB-amount\", metavar=\"B\", type=int, help=\"tokenB-amount\")\n",
    "    # # # Parse arguments\n",
    "    # args=parser.parse_args()\n",
    "\n",
    "    # for now we will just get it from .env\n",
    "    #model_id = os.environ.get(\"MODEL_ID\")\n",
    "    #version_id = os.environ.get(\"VERSION_ID\")\n",
    "    \n",
    "    MODEL_ID = 739\n",
    "    VERSION_ID = 1\n",
    "\n",
    "    print(MODEL_ID)\n",
    "    print(VERSION_ID)\n",
    "\n",
    "    tokenWETH_amount = 2500000\n",
    "    tokenUSDC_amount = 1000000\n",
    "\n",
    "    rebalance_lp(tokenWETH_amount, tokenUSDC_amount, MODEL_ID, VERSION_ID)"
   ]
  },
  {
   "cell_type": "code",
   "execution_count": null,
   "id": "2a51d71a-c37e-4a15-a46d-8a3b36425785",
   "metadata": {},
   "outputs": [],
   "source": []
  }
 ],
 "metadata": {
  "kernelspec": {
   "display_name": "Python 3 (ipykernel)",
   "language": "python",
   "name": "python3"
  },
  "language_info": {
   "codemirror_mode": {
    "name": "ipython",
    "version": 3
   },
   "file_extension": ".py",
   "mimetype": "text/x-python",
   "name": "python",
   "nbconvert_exporter": "python",
   "pygments_lexer": "ipython3",
   "version": "3.11.9"
  }
 },
 "nbformat": 4,
 "nbformat_minor": 5
}
