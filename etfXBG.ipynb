{
 "cells": [
  {
   "cell_type": "markdown",
   "id": "afb5d31a-296a-4fb1-90ac-f9a2136e27a4",
   "metadata": {},
   "source": [
    "### testing the XGBoost Diabetes example to transpile\n",
    "##### used conda env giza from ll laptop"
   ]
  },
  {
   "cell_type": "markdown",
   "id": "78186bb5-98ce-471c-93d3-ca19386ca744",
   "metadata": {},
   "source": [
    "## Create and Train an XGBoost Model\n",
    "### We'll start by creating a simple XGBoost model using Scikit-Learn and train it on diabetes dataset"
   ]
  },
  {
   "cell_type": "code",
   "execution_count": 1,
   "id": "ae27a3e5-d5d6-487d-83f8-d1f61f3a5f22",
   "metadata": {},
   "outputs": [],
   "source": [
    "import numpy as np\n",
    "import pandas as pd\n",
    "import xgboost as xgb\n",
    "# import matplotlib.pyplot as plt\n",
    "# import seaborn as sns\n",
    "# import xgboost as xgb"
   ]
  },
  {
   "cell_type": "code",
   "execution_count": 2,
   "id": "b60fabc3-dc33-4f66-9350-d5611479bb30",
   "metadata": {},
   "outputs": [
    {
     "data": {
      "text/html": [
       "<div>\n",
       "<style scoped>\n",
       "    .dataframe tbody tr th:only-of-type {\n",
       "        vertical-align: middle;\n",
       "    }\n",
       "\n",
       "    .dataframe tbody tr th {\n",
       "        vertical-align: top;\n",
       "    }\n",
       "\n",
       "    .dataframe thead th {\n",
       "        text-align: right;\n",
       "    }\n",
       "</style>\n",
       "<table border=\"1\" class=\"dataframe\">\n",
       "  <thead>\n",
       "    <tr style=\"text-align: right;\">\n",
       "      <th></th>\n",
       "      <th>Date</th>\n",
       "      <th>Closing Price</th>\n",
       "      <th>IBIT</th>\n",
       "      <th>FBTC</th>\n",
       "      <th>BITB</th>\n",
       "      <th>ARKB</th>\n",
       "      <th>BTCO</th>\n",
       "      <th>EZBC</th>\n",
       "      <th>BRRR</th>\n",
       "      <th>HODL</th>\n",
       "      <th>BTCW</th>\n",
       "      <th>GBTC</th>\n",
       "      <th>Total</th>\n",
       "    </tr>\n",
       "  </thead>\n",
       "  <tbody>\n",
       "    <tr>\n",
       "      <th>0</th>\n",
       "      <td>11-01-2024</td>\n",
       "      <td>46368.58594</td>\n",
       "      <td>111.7</td>\n",
       "      <td>227.0</td>\n",
       "      <td>237.9</td>\n",
       "      <td>65.3</td>\n",
       "      <td>17.4</td>\n",
       "      <td>50.1</td>\n",
       "      <td>29.4</td>\n",
       "      <td>10.6</td>\n",
       "      <td>1.0</td>\n",
       "      <td>-95.1</td>\n",
       "      <td>655.3</td>\n",
       "    </tr>\n",
       "    <tr>\n",
       "      <th>1</th>\n",
       "      <td>12-01-2024</td>\n",
       "      <td>42853.16797</td>\n",
       "      <td>386.0</td>\n",
       "      <td>195.3</td>\n",
       "      <td>17.4</td>\n",
       "      <td>39.8</td>\n",
       "      <td>28.4</td>\n",
       "      <td>0.0</td>\n",
       "      <td>20.2</td>\n",
       "      <td>0.0</td>\n",
       "      <td>0.0</td>\n",
       "      <td>-484.1</td>\n",
       "      <td>203.0</td>\n",
       "    </tr>\n",
       "    <tr>\n",
       "      <th>2</th>\n",
       "      <td>16-01-2024</td>\n",
       "      <td>43154.94531</td>\n",
       "      <td>212.7</td>\n",
       "      <td>102.0</td>\n",
       "      <td>50.2</td>\n",
       "      <td>122.3</td>\n",
       "      <td>31.9</td>\n",
       "      <td>0.0</td>\n",
       "      <td>15.3</td>\n",
       "      <td>7.3</td>\n",
       "      <td>0.0</td>\n",
       "      <td>-594.4</td>\n",
       "      <td>-52.7</td>\n",
       "    </tr>\n",
       "    <tr>\n",
       "      <th>3</th>\n",
       "      <td>17-01-2024</td>\n",
       "      <td>42742.65234</td>\n",
       "      <td>371.4</td>\n",
       "      <td>358.1</td>\n",
       "      <td>68.2</td>\n",
       "      <td>50.3</td>\n",
       "      <td>57.6</td>\n",
       "      <td>1.2</td>\n",
       "      <td>1.2</td>\n",
       "      <td>4.8</td>\n",
       "      <td>1.6</td>\n",
       "      <td>-460.6</td>\n",
       "      <td>453.8</td>\n",
       "    </tr>\n",
       "    <tr>\n",
       "      <th>4</th>\n",
       "      <td>18-01-2024</td>\n",
       "      <td>41262.05859</td>\n",
       "      <td>145.5</td>\n",
       "      <td>177.9</td>\n",
       "      <td>20.1</td>\n",
       "      <td>41.8</td>\n",
       "      <td>58.8</td>\n",
       "      <td>0.0</td>\n",
       "      <td>9.3</td>\n",
       "      <td>2.3</td>\n",
       "      <td>0.0</td>\n",
       "      <td>-582.3</td>\n",
       "      <td>-126.6</td>\n",
       "    </tr>\n",
       "    <tr>\n",
       "      <th>5</th>\n",
       "      <td>19-01-2024</td>\n",
       "      <td>41618.40625</td>\n",
       "      <td>201.5</td>\n",
       "      <td>222.3</td>\n",
       "      <td>56.7</td>\n",
       "      <td>62.6</td>\n",
       "      <td>63.4</td>\n",
       "      <td>0.0</td>\n",
       "      <td>10.4</td>\n",
       "      <td>14.2</td>\n",
       "      <td>2.9</td>\n",
       "      <td>-590.4</td>\n",
       "      <td>43.6</td>\n",
       "    </tr>\n",
       "    <tr>\n",
       "      <th>6</th>\n",
       "      <td>22-01-2024</td>\n",
       "      <td>39507.36719</td>\n",
       "      <td>260.6</td>\n",
       "      <td>158.7</td>\n",
       "      <td>41.6</td>\n",
       "      <td>65.0</td>\n",
       "      <td>5.6</td>\n",
       "      <td>4.7</td>\n",
       "      <td>9.7</td>\n",
       "      <td>6.8</td>\n",
       "      <td>0.4</td>\n",
       "      <td>-640.5</td>\n",
       "      <td>-87.4</td>\n",
       "    </tr>\n",
       "    <tr>\n",
       "      <th>7</th>\n",
       "      <td>23-01-2024</td>\n",
       "      <td>39845.55078</td>\n",
       "      <td>160.1</td>\n",
       "      <td>157.7</td>\n",
       "      <td>26.3</td>\n",
       "      <td>61.8</td>\n",
       "      <td>0.0</td>\n",
       "      <td>1.1</td>\n",
       "      <td>0.0</td>\n",
       "      <td>2.2</td>\n",
       "      <td>0.0</td>\n",
       "      <td>-515.3</td>\n",
       "      <td>-106.1</td>\n",
       "    </tr>\n",
       "    <tr>\n",
       "      <th>8</th>\n",
       "      <td>24-01-2024</td>\n",
       "      <td>40077.07422</td>\n",
       "      <td>66.2</td>\n",
       "      <td>125.7</td>\n",
       "      <td>19.1</td>\n",
       "      <td>24.9</td>\n",
       "      <td>19.9</td>\n",
       "      <td>1.2</td>\n",
       "      <td>9.1</td>\n",
       "      <td>4.5</td>\n",
       "      <td>0.4</td>\n",
       "      <td>-429.3</td>\n",
       "      <td>-158.3</td>\n",
       "    </tr>\n",
       "    <tr>\n",
       "      <th>9</th>\n",
       "      <td>25-01-2024</td>\n",
       "      <td>39933.80859</td>\n",
       "      <td>170.7</td>\n",
       "      <td>101.0</td>\n",
       "      <td>20.0</td>\n",
       "      <td>16.1</td>\n",
       "      <td>0.0</td>\n",
       "      <td>0.0</td>\n",
       "      <td>6.5</td>\n",
       "      <td>0.0</td>\n",
       "      <td>0.0</td>\n",
       "      <td>-394.1</td>\n",
       "      <td>-79.8</td>\n",
       "    </tr>\n",
       "  </tbody>\n",
       "</table>\n",
       "</div>"
      ],
      "text/plain": [
       "         Date  Closing Price   IBIT   FBTC   BITB   ARKB  BTCO  EZBC  BRRR  \\\n",
       "0  11-01-2024    46368.58594  111.7  227.0  237.9   65.3  17.4  50.1  29.4   \n",
       "1  12-01-2024    42853.16797  386.0  195.3   17.4   39.8  28.4   0.0  20.2   \n",
       "2  16-01-2024    43154.94531  212.7  102.0   50.2  122.3  31.9   0.0  15.3   \n",
       "3  17-01-2024    42742.65234  371.4  358.1   68.2   50.3  57.6   1.2   1.2   \n",
       "4  18-01-2024    41262.05859  145.5  177.9   20.1   41.8  58.8   0.0   9.3   \n",
       "5  19-01-2024    41618.40625  201.5  222.3   56.7   62.6  63.4   0.0  10.4   \n",
       "6  22-01-2024    39507.36719  260.6  158.7   41.6   65.0   5.6   4.7   9.7   \n",
       "7  23-01-2024    39845.55078  160.1  157.7   26.3   61.8   0.0   1.1   0.0   \n",
       "8  24-01-2024    40077.07422   66.2  125.7   19.1   24.9  19.9   1.2   9.1   \n",
       "9  25-01-2024    39933.80859  170.7  101.0   20.0   16.1   0.0   0.0   6.5   \n",
       "\n",
       "   HODL  BTCW   GBTC  Total  \n",
       "0  10.6   1.0  -95.1  655.3  \n",
       "1   0.0   0.0 -484.1  203.0  \n",
       "2   7.3   0.0 -594.4  -52.7  \n",
       "3   4.8   1.6 -460.6  453.8  \n",
       "4   2.3   0.0 -582.3 -126.6  \n",
       "5  14.2   2.9 -590.4   43.6  \n",
       "6   6.8   0.4 -640.5  -87.4  \n",
       "7   2.2   0.0 -515.3 -106.1  \n",
       "8   4.5   0.4 -429.3 -158.3  \n",
       "9   0.0   0.0 -394.1  -79.8  "
      ]
     },
     "execution_count": 2,
     "metadata": {},
     "output_type": "execute_result"
    }
   ],
   "source": [
    "df = pd.read_csv('BETF Final.csv')\n",
    "df.head(10)"
   ]
  },
  {
   "cell_type": "code",
   "execution_count": 3,
   "id": "bdfb88e1-3d85-4e4c-b1a5-5f47d3d0693a",
   "metadata": {},
   "outputs": [],
   "source": [
    "y = df['Closing Price']"
   ]
  },
  {
   "cell_type": "code",
   "execution_count": 4,
   "id": "18f4920c-9306-4bf8-947d-d419a3138232",
   "metadata": {},
   "outputs": [],
   "source": [
    "X = df[['IBIT', 'FBTC', 'BITB', 'ARKB', 'BTCO',\n",
    "       'EZBC', 'BRRR', 'HODL', 'BTCW',\n",
    "       'GBTC', ]]"
   ]
  },
  {
   "cell_type": "code",
   "execution_count": 5,
   "id": "a23d5292-6a9b-41b8-b1d8-297b19cae50b",
   "metadata": {},
   "outputs": [],
   "source": [
    "from sklearn.model_selection import train_test_split\n",
    "X_train, X_test, y_train, y_test = train_test_split(X, y, test_size=0.3, random_state=410)"
   ]
  },
  {
   "cell_type": "code",
   "execution_count": 6,
   "id": "9df3f7dc-c1b6-428e-aa11-0baa65a1f40b",
   "metadata": {},
   "outputs": [],
   "source": [
    "from sklearn.linear_model import LinearRegression"
   ]
  },
  {
   "cell_type": "code",
   "execution_count": 7,
   "id": "7536532e-c34c-4815-8c06-24e53ee22d5c",
   "metadata": {},
   "outputs": [
    {
     "data": {
      "text/html": [
       "<style>#sk-container-id-1 {\n",
       "  /* Definition of color scheme common for light and dark mode */\n",
       "  --sklearn-color-text: black;\n",
       "  --sklearn-color-line: gray;\n",
       "  /* Definition of color scheme for unfitted estimators */\n",
       "  --sklearn-color-unfitted-level-0: #fff5e6;\n",
       "  --sklearn-color-unfitted-level-1: #f6e4d2;\n",
       "  --sklearn-color-unfitted-level-2: #ffe0b3;\n",
       "  --sklearn-color-unfitted-level-3: chocolate;\n",
       "  /* Definition of color scheme for fitted estimators */\n",
       "  --sklearn-color-fitted-level-0: #f0f8ff;\n",
       "  --sklearn-color-fitted-level-1: #d4ebff;\n",
       "  --sklearn-color-fitted-level-2: #b3dbfd;\n",
       "  --sklearn-color-fitted-level-3: cornflowerblue;\n",
       "\n",
       "  /* Specific color for light theme */\n",
       "  --sklearn-color-text-on-default-background: var(--sg-text-color, var(--theme-code-foreground, var(--jp-content-font-color1, black)));\n",
       "  --sklearn-color-background: var(--sg-background-color, var(--theme-background, var(--jp-layout-color0, white)));\n",
       "  --sklearn-color-border-box: var(--sg-text-color, var(--theme-code-foreground, var(--jp-content-font-color1, black)));\n",
       "  --sklearn-color-icon: #696969;\n",
       "\n",
       "  @media (prefers-color-scheme: dark) {\n",
       "    /* Redefinition of color scheme for dark theme */\n",
       "    --sklearn-color-text-on-default-background: var(--sg-text-color, var(--theme-code-foreground, var(--jp-content-font-color1, white)));\n",
       "    --sklearn-color-background: var(--sg-background-color, var(--theme-background, var(--jp-layout-color0, #111)));\n",
       "    --sklearn-color-border-box: var(--sg-text-color, var(--theme-code-foreground, var(--jp-content-font-color1, white)));\n",
       "    --sklearn-color-icon: #878787;\n",
       "  }\n",
       "}\n",
       "\n",
       "#sk-container-id-1 {\n",
       "  color: var(--sklearn-color-text);\n",
       "}\n",
       "\n",
       "#sk-container-id-1 pre {\n",
       "  padding: 0;\n",
       "}\n",
       "\n",
       "#sk-container-id-1 input.sk-hidden--visually {\n",
       "  border: 0;\n",
       "  clip: rect(1px 1px 1px 1px);\n",
       "  clip: rect(1px, 1px, 1px, 1px);\n",
       "  height: 1px;\n",
       "  margin: -1px;\n",
       "  overflow: hidden;\n",
       "  padding: 0;\n",
       "  position: absolute;\n",
       "  width: 1px;\n",
       "}\n",
       "\n",
       "#sk-container-id-1 div.sk-dashed-wrapped {\n",
       "  border: 1px dashed var(--sklearn-color-line);\n",
       "  margin: 0 0.4em 0.5em 0.4em;\n",
       "  box-sizing: border-box;\n",
       "  padding-bottom: 0.4em;\n",
       "  background-color: var(--sklearn-color-background);\n",
       "}\n",
       "\n",
       "#sk-container-id-1 div.sk-container {\n",
       "  /* jupyter's `normalize.less` sets `[hidden] { display: none; }`\n",
       "     but bootstrap.min.css set `[hidden] { display: none !important; }`\n",
       "     so we also need the `!important` here to be able to override the\n",
       "     default hidden behavior on the sphinx rendered scikit-learn.org.\n",
       "     See: https://github.com/scikit-learn/scikit-learn/issues/21755 */\n",
       "  display: inline-block !important;\n",
       "  position: relative;\n",
       "}\n",
       "\n",
       "#sk-container-id-1 div.sk-text-repr-fallback {\n",
       "  display: none;\n",
       "}\n",
       "\n",
       "div.sk-parallel-item,\n",
       "div.sk-serial,\n",
       "div.sk-item {\n",
       "  /* draw centered vertical line to link estimators */\n",
       "  background-image: linear-gradient(var(--sklearn-color-text-on-default-background), var(--sklearn-color-text-on-default-background));\n",
       "  background-size: 2px 100%;\n",
       "  background-repeat: no-repeat;\n",
       "  background-position: center center;\n",
       "}\n",
       "\n",
       "/* Parallel-specific style estimator block */\n",
       "\n",
       "#sk-container-id-1 div.sk-parallel-item::after {\n",
       "  content: \"\";\n",
       "  width: 100%;\n",
       "  border-bottom: 2px solid var(--sklearn-color-text-on-default-background);\n",
       "  flex-grow: 1;\n",
       "}\n",
       "\n",
       "#sk-container-id-1 div.sk-parallel {\n",
       "  display: flex;\n",
       "  align-items: stretch;\n",
       "  justify-content: center;\n",
       "  background-color: var(--sklearn-color-background);\n",
       "  position: relative;\n",
       "}\n",
       "\n",
       "#sk-container-id-1 div.sk-parallel-item {\n",
       "  display: flex;\n",
       "  flex-direction: column;\n",
       "}\n",
       "\n",
       "#sk-container-id-1 div.sk-parallel-item:first-child::after {\n",
       "  align-self: flex-end;\n",
       "  width: 50%;\n",
       "}\n",
       "\n",
       "#sk-container-id-1 div.sk-parallel-item:last-child::after {\n",
       "  align-self: flex-start;\n",
       "  width: 50%;\n",
       "}\n",
       "\n",
       "#sk-container-id-1 div.sk-parallel-item:only-child::after {\n",
       "  width: 0;\n",
       "}\n",
       "\n",
       "/* Serial-specific style estimator block */\n",
       "\n",
       "#sk-container-id-1 div.sk-serial {\n",
       "  display: flex;\n",
       "  flex-direction: column;\n",
       "  align-items: center;\n",
       "  background-color: var(--sklearn-color-background);\n",
       "  padding-right: 1em;\n",
       "  padding-left: 1em;\n",
       "}\n",
       "\n",
       "\n",
       "/* Toggleable style: style used for estimator/Pipeline/ColumnTransformer box that is\n",
       "clickable and can be expanded/collapsed.\n",
       "- Pipeline and ColumnTransformer use this feature and define the default style\n",
       "- Estimators will overwrite some part of the style using the `sk-estimator` class\n",
       "*/\n",
       "\n",
       "/* Pipeline and ColumnTransformer style (default) */\n",
       "\n",
       "#sk-container-id-1 div.sk-toggleable {\n",
       "  /* Default theme specific background. It is overwritten whether we have a\n",
       "  specific estimator or a Pipeline/ColumnTransformer */\n",
       "  background-color: var(--sklearn-color-background);\n",
       "}\n",
       "\n",
       "/* Toggleable label */\n",
       "#sk-container-id-1 label.sk-toggleable__label {\n",
       "  cursor: pointer;\n",
       "  display: block;\n",
       "  width: 100%;\n",
       "  margin-bottom: 0;\n",
       "  padding: 0.5em;\n",
       "  box-sizing: border-box;\n",
       "  text-align: center;\n",
       "}\n",
       "\n",
       "#sk-container-id-1 label.sk-toggleable__label-arrow:before {\n",
       "  /* Arrow on the left of the label */\n",
       "  content: \"▸\";\n",
       "  float: left;\n",
       "  margin-right: 0.25em;\n",
       "  color: var(--sklearn-color-icon);\n",
       "}\n",
       "\n",
       "#sk-container-id-1 label.sk-toggleable__label-arrow:hover:before {\n",
       "  color: var(--sklearn-color-text);\n",
       "}\n",
       "\n",
       "/* Toggleable content - dropdown */\n",
       "\n",
       "#sk-container-id-1 div.sk-toggleable__content {\n",
       "  max-height: 0;\n",
       "  max-width: 0;\n",
       "  overflow: hidden;\n",
       "  text-align: left;\n",
       "  /* unfitted */\n",
       "  background-color: var(--sklearn-color-unfitted-level-0);\n",
       "}\n",
       "\n",
       "#sk-container-id-1 div.sk-toggleable__content.fitted {\n",
       "  /* fitted */\n",
       "  background-color: var(--sklearn-color-fitted-level-0);\n",
       "}\n",
       "\n",
       "#sk-container-id-1 div.sk-toggleable__content pre {\n",
       "  margin: 0.2em;\n",
       "  border-radius: 0.25em;\n",
       "  color: var(--sklearn-color-text);\n",
       "  /* unfitted */\n",
       "  background-color: var(--sklearn-color-unfitted-level-0);\n",
       "}\n",
       "\n",
       "#sk-container-id-1 div.sk-toggleable__content.fitted pre {\n",
       "  /* unfitted */\n",
       "  background-color: var(--sklearn-color-fitted-level-0);\n",
       "}\n",
       "\n",
       "#sk-container-id-1 input.sk-toggleable__control:checked~div.sk-toggleable__content {\n",
       "  /* Expand drop-down */\n",
       "  max-height: 200px;\n",
       "  max-width: 100%;\n",
       "  overflow: auto;\n",
       "}\n",
       "\n",
       "#sk-container-id-1 input.sk-toggleable__control:checked~label.sk-toggleable__label-arrow:before {\n",
       "  content: \"▾\";\n",
       "}\n",
       "\n",
       "/* Pipeline/ColumnTransformer-specific style */\n",
       "\n",
       "#sk-container-id-1 div.sk-label input.sk-toggleable__control:checked~label.sk-toggleable__label {\n",
       "  color: var(--sklearn-color-text);\n",
       "  background-color: var(--sklearn-color-unfitted-level-2);\n",
       "}\n",
       "\n",
       "#sk-container-id-1 div.sk-label.fitted input.sk-toggleable__control:checked~label.sk-toggleable__label {\n",
       "  background-color: var(--sklearn-color-fitted-level-2);\n",
       "}\n",
       "\n",
       "/* Estimator-specific style */\n",
       "\n",
       "/* Colorize estimator box */\n",
       "#sk-container-id-1 div.sk-estimator input.sk-toggleable__control:checked~label.sk-toggleable__label {\n",
       "  /* unfitted */\n",
       "  background-color: var(--sklearn-color-unfitted-level-2);\n",
       "}\n",
       "\n",
       "#sk-container-id-1 div.sk-estimator.fitted input.sk-toggleable__control:checked~label.sk-toggleable__label {\n",
       "  /* fitted */\n",
       "  background-color: var(--sklearn-color-fitted-level-2);\n",
       "}\n",
       "\n",
       "#sk-container-id-1 div.sk-label label.sk-toggleable__label,\n",
       "#sk-container-id-1 div.sk-label label {\n",
       "  /* The background is the default theme color */\n",
       "  color: var(--sklearn-color-text-on-default-background);\n",
       "}\n",
       "\n",
       "/* On hover, darken the color of the background */\n",
       "#sk-container-id-1 div.sk-label:hover label.sk-toggleable__label {\n",
       "  color: var(--sklearn-color-text);\n",
       "  background-color: var(--sklearn-color-unfitted-level-2);\n",
       "}\n",
       "\n",
       "/* Label box, darken color on hover, fitted */\n",
       "#sk-container-id-1 div.sk-label.fitted:hover label.sk-toggleable__label.fitted {\n",
       "  color: var(--sklearn-color-text);\n",
       "  background-color: var(--sklearn-color-fitted-level-2);\n",
       "}\n",
       "\n",
       "/* Estimator label */\n",
       "\n",
       "#sk-container-id-1 div.sk-label label {\n",
       "  font-family: monospace;\n",
       "  font-weight: bold;\n",
       "  display: inline-block;\n",
       "  line-height: 1.2em;\n",
       "}\n",
       "\n",
       "#sk-container-id-1 div.sk-label-container {\n",
       "  text-align: center;\n",
       "}\n",
       "\n",
       "/* Estimator-specific */\n",
       "#sk-container-id-1 div.sk-estimator {\n",
       "  font-family: monospace;\n",
       "  border: 1px dotted var(--sklearn-color-border-box);\n",
       "  border-radius: 0.25em;\n",
       "  box-sizing: border-box;\n",
       "  margin-bottom: 0.5em;\n",
       "  /* unfitted */\n",
       "  background-color: var(--sklearn-color-unfitted-level-0);\n",
       "}\n",
       "\n",
       "#sk-container-id-1 div.sk-estimator.fitted {\n",
       "  /* fitted */\n",
       "  background-color: var(--sklearn-color-fitted-level-0);\n",
       "}\n",
       "\n",
       "/* on hover */\n",
       "#sk-container-id-1 div.sk-estimator:hover {\n",
       "  /* unfitted */\n",
       "  background-color: var(--sklearn-color-unfitted-level-2);\n",
       "}\n",
       "\n",
       "#sk-container-id-1 div.sk-estimator.fitted:hover {\n",
       "  /* fitted */\n",
       "  background-color: var(--sklearn-color-fitted-level-2);\n",
       "}\n",
       "\n",
       "/* Specification for estimator info (e.g. \"i\" and \"?\") */\n",
       "\n",
       "/* Common style for \"i\" and \"?\" */\n",
       "\n",
       ".sk-estimator-doc-link,\n",
       "a:link.sk-estimator-doc-link,\n",
       "a:visited.sk-estimator-doc-link {\n",
       "  float: right;\n",
       "  font-size: smaller;\n",
       "  line-height: 1em;\n",
       "  font-family: monospace;\n",
       "  background-color: var(--sklearn-color-background);\n",
       "  border-radius: 1em;\n",
       "  height: 1em;\n",
       "  width: 1em;\n",
       "  text-decoration: none !important;\n",
       "  margin-left: 1ex;\n",
       "  /* unfitted */\n",
       "  border: var(--sklearn-color-unfitted-level-1) 1pt solid;\n",
       "  color: var(--sklearn-color-unfitted-level-1);\n",
       "}\n",
       "\n",
       ".sk-estimator-doc-link.fitted,\n",
       "a:link.sk-estimator-doc-link.fitted,\n",
       "a:visited.sk-estimator-doc-link.fitted {\n",
       "  /* fitted */\n",
       "  border: var(--sklearn-color-fitted-level-1) 1pt solid;\n",
       "  color: var(--sklearn-color-fitted-level-1);\n",
       "}\n",
       "\n",
       "/* On hover */\n",
       "div.sk-estimator:hover .sk-estimator-doc-link:hover,\n",
       ".sk-estimator-doc-link:hover,\n",
       "div.sk-label-container:hover .sk-estimator-doc-link:hover,\n",
       ".sk-estimator-doc-link:hover {\n",
       "  /* unfitted */\n",
       "  background-color: var(--sklearn-color-unfitted-level-3);\n",
       "  color: var(--sklearn-color-background);\n",
       "  text-decoration: none;\n",
       "}\n",
       "\n",
       "div.sk-estimator.fitted:hover .sk-estimator-doc-link.fitted:hover,\n",
       ".sk-estimator-doc-link.fitted:hover,\n",
       "div.sk-label-container:hover .sk-estimator-doc-link.fitted:hover,\n",
       ".sk-estimator-doc-link.fitted:hover {\n",
       "  /* fitted */\n",
       "  background-color: var(--sklearn-color-fitted-level-3);\n",
       "  color: var(--sklearn-color-background);\n",
       "  text-decoration: none;\n",
       "}\n",
       "\n",
       "/* Span, style for the box shown on hovering the info icon */\n",
       ".sk-estimator-doc-link span {\n",
       "  display: none;\n",
       "  z-index: 9999;\n",
       "  position: relative;\n",
       "  font-weight: normal;\n",
       "  right: .2ex;\n",
       "  padding: .5ex;\n",
       "  margin: .5ex;\n",
       "  width: min-content;\n",
       "  min-width: 20ex;\n",
       "  max-width: 50ex;\n",
       "  color: var(--sklearn-color-text);\n",
       "  box-shadow: 2pt 2pt 4pt #999;\n",
       "  /* unfitted */\n",
       "  background: var(--sklearn-color-unfitted-level-0);\n",
       "  border: .5pt solid var(--sklearn-color-unfitted-level-3);\n",
       "}\n",
       "\n",
       ".sk-estimator-doc-link.fitted span {\n",
       "  /* fitted */\n",
       "  background: var(--sklearn-color-fitted-level-0);\n",
       "  border: var(--sklearn-color-fitted-level-3);\n",
       "}\n",
       "\n",
       ".sk-estimator-doc-link:hover span {\n",
       "  display: block;\n",
       "}\n",
       "\n",
       "/* \"?\"-specific style due to the `<a>` HTML tag */\n",
       "\n",
       "#sk-container-id-1 a.estimator_doc_link {\n",
       "  float: right;\n",
       "  font-size: 1rem;\n",
       "  line-height: 1em;\n",
       "  font-family: monospace;\n",
       "  background-color: var(--sklearn-color-background);\n",
       "  border-radius: 1rem;\n",
       "  height: 1rem;\n",
       "  width: 1rem;\n",
       "  text-decoration: none;\n",
       "  /* unfitted */\n",
       "  color: var(--sklearn-color-unfitted-level-1);\n",
       "  border: var(--sklearn-color-unfitted-level-1) 1pt solid;\n",
       "}\n",
       "\n",
       "#sk-container-id-1 a.estimator_doc_link.fitted {\n",
       "  /* fitted */\n",
       "  border: var(--sklearn-color-fitted-level-1) 1pt solid;\n",
       "  color: var(--sklearn-color-fitted-level-1);\n",
       "}\n",
       "\n",
       "/* On hover */\n",
       "#sk-container-id-1 a.estimator_doc_link:hover {\n",
       "  /* unfitted */\n",
       "  background-color: var(--sklearn-color-unfitted-level-3);\n",
       "  color: var(--sklearn-color-background);\n",
       "  text-decoration: none;\n",
       "}\n",
       "\n",
       "#sk-container-id-1 a.estimator_doc_link.fitted:hover {\n",
       "  /* fitted */\n",
       "  background-color: var(--sklearn-color-fitted-level-3);\n",
       "}\n",
       "</style><div id=\"sk-container-id-1\" class=\"sk-top-container\"><div class=\"sk-text-repr-fallback\"><pre>XGBRegressor(base_score=None, booster=None, callbacks=None,\n",
       "             colsample_bylevel=None, colsample_bynode=None,\n",
       "             colsample_bytree=None, device=None, early_stopping_rounds=None,\n",
       "             enable_categorical=False, eval_metric=None, feature_types=None,\n",
       "             gamma=None, grow_policy=None, importance_type=None,\n",
       "             interaction_constraints=None, learning_rate=None, max_bin=None,\n",
       "             max_cat_threshold=None, max_cat_to_onehot=None,\n",
       "             max_delta_step=None, max_depth=None, max_leaves=None,\n",
       "             min_child_weight=None, missing=nan, monotone_constraints=None,\n",
       "             multi_strategy=None, n_estimators=100, n_jobs=None,\n",
       "             num_parallel_tree=None, random_state=410, ...)</pre><b>In a Jupyter environment, please rerun this cell to show the HTML representation or trust the notebook. <br />On GitHub, the HTML representation is unable to render, please try loading this page with nbviewer.org.</b></div><div class=\"sk-container\" hidden><div class=\"sk-item\"><div class=\"sk-estimator fitted sk-toggleable\"><input class=\"sk-toggleable__control sk-hidden--visually\" id=\"sk-estimator-id-1\" type=\"checkbox\" checked><label for=\"sk-estimator-id-1\" class=\"sk-toggleable__label fitted sk-toggleable__label-arrow fitted\">&nbsp;XGBRegressor<span class=\"sk-estimator-doc-link fitted\">i<span>Fitted</span></span></label><div class=\"sk-toggleable__content fitted\"><pre>XGBRegressor(base_score=None, booster=None, callbacks=None,\n",
       "             colsample_bylevel=None, colsample_bynode=None,\n",
       "             colsample_bytree=None, device=None, early_stopping_rounds=None,\n",
       "             enable_categorical=False, eval_metric=None, feature_types=None,\n",
       "             gamma=None, grow_policy=None, importance_type=None,\n",
       "             interaction_constraints=None, learning_rate=None, max_bin=None,\n",
       "             max_cat_threshold=None, max_cat_to_onehot=None,\n",
       "             max_delta_step=None, max_depth=None, max_leaves=None,\n",
       "             min_child_weight=None, missing=nan, monotone_constraints=None,\n",
       "             multi_strategy=None, n_estimators=100, n_jobs=None,\n",
       "             num_parallel_tree=None, random_state=410, ...)</pre></div> </div></div></div></div>"
      ],
      "text/plain": [
       "XGBRegressor(base_score=None, booster=None, callbacks=None,\n",
       "             colsample_bylevel=None, colsample_bynode=None,\n",
       "             colsample_bytree=None, device=None, early_stopping_rounds=None,\n",
       "             enable_categorical=False, eval_metric=None, feature_types=None,\n",
       "             gamma=None, grow_policy=None, importance_type=None,\n",
       "             interaction_constraints=None, learning_rate=None, max_bin=None,\n",
       "             max_cat_threshold=None, max_cat_to_onehot=None,\n",
       "             max_delta_step=None, max_depth=None, max_leaves=None,\n",
       "             min_child_weight=None, missing=nan, monotone_constraints=None,\n",
       "             multi_strategy=None, n_estimators=100, n_jobs=None,\n",
       "             num_parallel_tree=None, random_state=410, ...)"
      ]
     },
     "execution_count": 7,
     "metadata": {},
     "output_type": "execute_result"
    }
   ],
   "source": [
    "xgb_model = xgb.XGBRegressor(n_estimators=100, random_state=410)\n",
    "xgb_model.fit(X_train, y_train)"
   ]
  },
  {
   "cell_type": "code",
   "execution_count": 9,
   "id": "e4c2d8e4-5b51-47f5-b421-898d5142250c",
   "metadata": {},
   "outputs": [
    {
     "data": {
      "text/plain": [
       "array([57026.3  , 57109.89 , 68121.38 , 46540.348, 61123.418, 61416.383,\n",
       "       52103.418, 62789.984, 61848.367, 62689.957, 61015.64 , 62924.355,\n",
       "       56717.832, 61962.96 , 59422.047, 51762.324, 62287.754, 66328.1  ,\n",
       "       45815.62 , 68623.61 , 65385.88 , 65655.62 , 44231.605, 60906.49 ,\n",
       "       62002.926, 40723.25 , 59347.02 , 68672.375, 62167.168, 68079.04 ],\n",
       "      dtype=float32)"
      ]
     },
     "execution_count": 9,
     "metadata": {},
     "output_type": "execute_result"
    }
   ],
   "source": [
    "predictions = xgb_model.predict(X_test)\n",
    "predictions"
   ]
  },
  {
   "cell_type": "code",
   "execution_count": null,
   "id": "5650a200-f157-4c3d-b352-282380f05abd",
   "metadata": {},
   "outputs": [],
   "source": [
    "# import xgboost as xgb\n",
    "# from sklearn.datasets import load_diabetes\n",
    "# from sklearn.model_selection import train_test_split\n",
    "\n",
    "# data = load_diabetes()\n",
    "# X, y = data.data, data.target\n",
    "\n",
    "# X_train, X_test, y_train, y_test = train_test_split(X, y, test_size=0.2, random_state=42)\n",
    "\n",
    "# # Increase the number of trees and maximum depth\n",
    "# n_estimators = 2  # Increase the number of trees\n",
    "# max_depth = 6  # Increase the maximum depth of each tree\n",
    "\n",
    "# xgb_reg = xgb.XGBRegressor(n_estimators=n_estimators, max_depth=max_depth)\n",
    "# xgb_reg.fit(X_train, y_train)"
   ]
  },
  {
   "cell_type": "markdown",
   "id": "10569dc0-0494-4370-b84f-365d4a18dfd3",
   "metadata": {},
   "source": [
    "## Save the model\n",
    "### Save the model in Json format"
   ]
  },
  {
   "cell_type": "code",
   "execution_count": null,
   "id": "abe18478-37c7-4b40-b549-8e8dd3324c0e",
   "metadata": {},
   "outputs": [],
   "source": [
    "from giza.zkcook import serialize_model\n",
    "serialize_model(xgb_model, \"etf_xgb1.json\")"
   ]
  },
  {
   "cell_type": "markdown",
   "id": "becd66e2-de26-4358-adcc-fc058a6698e8",
   "metadata": {},
   "source": [
    "## Transpile your model to Orion Cairo\n",
    "### We will use Giza-CLI to transpile our saved model to Orion Cairo."
   ]
  },
  {
   "cell_type": "markdown",
   "id": "31c49d75-4ff7-4b3b-b4f3-8fe09c06dd34",
   "metadata": {},
   "source": [
    "\n",
    "$ giza transpile etf_xgb1.json --output-path etf_xgb1\n",
    "[giza][2024-06-03 19:00:12.216] No model id provided, checking if model exists ✅\n",
    "[giza][2024-06-03 19:00:12.229] Model name is: etf_xgb1\n",
    "[giza][2024-06-03 19:00:12.813] Model Created with id -> 690! ✅\n",
    "[giza][2024-06-03 19:00:13.400] Version Created with id -> 1! ✅\n",
    "[giza][2024-06-03 19:00:13.413] Sending model for transpilation ✅\n",
    "[giza][2024-06-03 19:01:06.244] Transpilation is fully compatible. Version compiled and Sierra is saved at Giza ✅\n",
    "[giza][2024-06-03 19:01:07.583] Downloading model ✅\n",
    "[giza][2024-06-03 19:01:07.594] model saved at: etf_xgb1\n",
    "\n"
   ]
  },
  {
   "cell_type": "markdown",
   "id": "bd00d799-97cb-44a2-bde5-03a433b5f507",
   "metadata": {},
   "source": [
    "## Deploy an inference endpoint#1\n",
    "### Issue - was small. so re-created again\n",
    "### Now that our model is transpiled to Cairo we can deploy an endpoint to run verifiable inferences. We will use Giza CLI again to run and deploy an endpoint. Ensure to replace model-id and version-id with your ids provided during transpilation.\n"
   ]
  },
  {
   "cell_type": "markdown",
   "id": "f989d383-1aaf-4bf1-b6be-8fbb63e61e1c",
   "metadata": {},
   "source": [
    "$ giza endpoints deploy --model-id 690 --version-id 1\n",
    "▰▰▰▰▱▱▱ Creating endpoint!\n",
    "[giza][2024-06-03 19:03:08.874] Endpoint is successful ✅\n",
    "[giza][2024-06-03 19:03:08.880] Endpoint created with id -> 261 ✅\n",
    "[giza][2024-06-03 19:03:08.882] Endpoint created with endpoint URL: https://endpoint-giza1-690-1-62d762c5-7i3yxzspbq-ew.a.run.app 🎉"
   ]
  },
  {
   "cell_type": "markdown",
   "id": "3181d79b-aa97-4eac-bdd3-b49ffa1fb931",
   "metadata": {},
   "source": [
    "## Deploy an inference endpoint # 2\n",
    "### with --size M"
   ]
  },
  {
   "cell_type": "markdown",
   "id": "3b3eb6cb-265d-42fa-a7fa-8058706065fb",
   "metadata": {},
   "source": [
    "$ giza endpoints deploy --size M --model-id 690 --version-id 1\n",
    "▰▰▰▰▰▱▱ Creating endpoint!\n",
    "[giza][2024-06-04 19:01:39.665] Endpoint is successful ✅\n",
    "[giza][2024-06-04 19:01:39.671] Endpoint created with id -> 269 ✅\n",
    "[giza][2024-06-04 19:01:39.673] Endpoint created with endpoint URL: https://endpoint-giza1-690-1-ea92df7f-7i3yxzspbq-ew.a.run.app 🎉"
   ]
  },
  {
   "cell_type": "markdown",
   "id": "eac6b2ce-98d4-44da-8da9-9e897544efe4",
   "metadata": {},
   "source": [
    "## Deploy an inference endpoint # 3\n",
    "### with --size XL"
   ]
  },
  {
   "cell_type": "markdown",
   "id": "ab4ecfdb-6e3b-477d-b4f8-983315366545",
   "metadata": {},
   "source": [
    "$ giza endpoints deploy --size XL --model-id 690 --version-id 1\n",
    "▰▰▱▱▱▱▱ Creating endpoint!\n",
    "[giza][2024-06-04 19:18:42.443] Endpoint is successful ✅\n",
    "[giza][2024-06-04 19:18:42.448] Endpoint created with id -> 270 ✅\n",
    "[giza][2024-06-04 19:18:42.451] Endpoint created with endpoint URL: https://endpoint-giza1-690-1-ae65a898-7i3yxzspbq-ew.a.run.app 🎉"
   ]
  },
  {
   "cell_type": "markdown",
   "id": "b8e6bac9-3052-40e2-85c8-6b89a8367ec8",
   "metadata": {},
   "source": [
    "### Create and Agent using the CLI # 1 -- size issue"
   ]
  },
  {
   "cell_type": "markdown",
   "id": "10fc7376-6f3e-497d-b38b-d1e120cc8ea9",
   "metadata": {},
   "source": [
    "$ giza agents create --model-id 690 --version-id 1 --name etfXGB --description etfXGB\n",
    "[giza][2024-06-03 19:11:50.498] Creating agent ✅\n",
    "[giza][2024-06-03 19:11:50.506] Using model id and version id to create agent\n",
    "[giza][2024-06-03 19:11:50.780] Select an existing account to create the agent.\n",
    "[giza][2024-06-03 19:11:50.787] Available accounts are:\n",
    "┌──────────┐\n",
    "│ Accounts │\n",
    "├──────────┤\n",
    "│  giza1   │\n",
    "└──────────┘\n",
    "Enter the account name: giza1\n",
    "{\n",
    "  \"id\": 34,\n",
    "  \"name\": \"etfXGB\",\n",
    "  \"description\": \"etfXGB\",\n",
    "  \"parameters\": {\n",
    "    \"model_id\": 690,\n",
    "    \"version_id\": 1,\n",
    "    \"endpoint_id\": 261,\n",
    "    \"account\": \"giza1\"\n",
    "  },\n",
    "  \"created_date\": \"2024-06-04T02:11:57.598948\",\n",
    "  \"last_update\": \"2024-06-04T02:11:57.598948\"\n",
    "}"
   ]
  },
  {
   "cell_type": "markdown",
   "id": "710aff90-46e0-48f5-8549-9c80dce0bbba",
   "metadata": {},
   "source": [
    "### Create and Agent using the CLI # 2 \n",
    "create again after size is M"
   ]
  },
  {
   "cell_type": "markdown",
   "id": "ff5c314b-51f7-4b45-9008-0ee2d70c5bda",
   "metadata": {},
   "source": [
    "$ giza agents create --model-id 690 --version-id 1 --name etfXGB --description etfXGB\n",
    "[giza][2024-06-04 19:06:18.403] Creating agent ✅\n",
    "[giza][2024-06-04 19:06:18.411] Using model id and version id to create agent\n",
    "[giza][2024-06-04 19:06:18.672] Select an existing account to create the agent.\n",
    "[giza][2024-06-04 19:06:18.676] Available accounts are:\n",
    "┌──────────┐\n",
    "│ Accounts │\n",
    "├──────────┤\n",
    "│  giza1   │\n",
    "└──────────┘\n",
    "Enter the account name: giza1\n",
    "{\n",
    "  \"id\": 37,\n",
    "  \"name\": \"etfXGB\",\n",
    "  \"description\": \"etfXGB\",\n",
    "  \"parameters\": {\n",
    "    \"model_id\": 690,\n",
    "    \"version_id\": 1,\n",
    "    \"endpoint_id\": 269,\n",
    "    \"account\": \"giza1\"\n",
    "  },\n",
    "  \"created_date\": \"2024-06-05T02:06:25.417540\",\n",
    "  \"last_update\": \"2024-06-05T02:06:25.417540\"\n",
    "}"
   ]
  },
  {
   "cell_type": "markdown",
   "id": "ba3668bd-efa5-4586-b30c-f8a9252b6329",
   "metadata": {},
   "source": [
    "### Create and Agent using the CLI # 2 \n",
    "create again after size is XL"
   ]
  },
  {
   "cell_type": "markdown",
   "id": "f21fa10f-8494-4330-8f1f-6d0e178effc0",
   "metadata": {},
   "source": [
    "$ giza agents create --model-id 690 --version-id 1 --endpoint-id 270 --name etfXGB2 --description etfXGB2\n",
    "[giza][2024-06-04 19:24:46.361] Creating agent ✅\n",
    "[giza][2024-06-04 19:24:46.370] Using endpoint id to create agent, retrieving model id and version id\n",
    "[giza][2024-06-04 19:24:46.626] Select an existing account to create the agent.\n",
    "[giza][2024-06-04 19:24:46.629] Available accounts are:\n",
    "┌──────────┐\n",
    "│ Accounts │\n",
    "├──────────┤\n",
    "│  giza1   │\n",
    "└──────────┘\n",
    "Enter the account name: giza1\n",
    "{\n",
    "  \"id\": 40,\n",
    "  \"name\": \"etfXGB2\",\n",
    "  \"description\": \"etfXGB2\",\n",
    "  \"parameters\": {\n",
    "    \"model_id\": 690,\n",
    "    \"version_id\": 1,\n",
    "    \"endpoint_id\": 270,\n",
    "    \"account\": \"giza1\"\n",
    "  },\n",
    "  \"created_date\": \"2024-06-05T02:24:51.304557\",\n",
    "  \"last_update\": \"2024-06-05T02:24:51.304557\"\n",
    "}"
   ]
  },
  {
   "cell_type": "code",
   "execution_count": null,
   "id": "29ebae06-8a57-40e1-b9d5-990936f896e6",
   "metadata": {},
   "outputs": [],
   "source": [
    "X_test"
   ]
  },
  {
   "cell_type": "code",
   "execution_count": 8,
   "id": "4c39550c-a76f-4f8c-ab1d-69166b17eebf",
   "metadata": {},
   "outputs": [],
   "source": [
    "new_data = pd.DataFrame({\n",
    "    'IBIT': [120],\n",
    "    'FBTC': [175],\n",
    "    'BITB': [5],\n",
    "    'ARKB': [50],\n",
    "    'BTCO': [1],\n",
    "    'EZBC': [2],\n",
    "    'BRRR': [3],\n",
    "    'HODL': [4],\n",
    "    'BTCW': [5],\n",
    "    'GBTC': [-20]\n",
    "})"
   ]
  },
  {
   "cell_type": "code",
   "execution_count": 9,
   "id": "a66e9d1e-0618-4c36-be36-5afb93f57da6",
   "metadata": {},
   "outputs": [
    {
     "data": {
      "text/plain": [
       "array([120., 175.,   5.,  50.,   1.,   2.,   3.,   4.,   5., -20.],\n",
       "      dtype=float32)"
      ]
     },
     "execution_count": 9,
     "metadata": {},
     "output_type": "execute_result"
    }
   ],
   "source": [
    "input_array = new_data.astype(np.float32).values.flatten()\n",
    "input_array"
   ]
  },
  {
   "cell_type": "code",
   "execution_count": 10,
   "id": "a6a30786-247b-4d7a-8d7c-754876255150",
   "metadata": {},
   "outputs": [
    {
     "data": {
      "text/plain": [
       "array([[120., 175.,   5.,  50.,   1.,   2.,   3.,   4.,   5., -20.]],\n",
       "      dtype=float32)"
      ]
     },
     "execution_count": 10,
     "metadata": {},
     "output_type": "execute_result"
    }
   ],
   "source": [
    "input_array2 = new_data.astype(np.float32).values\n",
    "input_array2"
   ]
  },
  {
   "cell_type": "code",
   "execution_count": 11,
   "id": "dee33039-fb53-448e-81cf-9174fe164aa1",
   "metadata": {},
   "outputs": [
    {
     "data": {
      "text/plain": [
       "array([[120.],\n",
       "       [175.],\n",
       "       [  5.],\n",
       "       [ 50.],\n",
       "       [  1.],\n",
       "       [  2.],\n",
       "       [  3.],\n",
       "       [  4.],\n",
       "       [  5.],\n",
       "       [-20.]], dtype=float32)"
      ]
     },
     "execution_count": 11,
     "metadata": {},
     "output_type": "execute_result"
    }
   ],
   "source": [
    "# Convert the DataFrame to a 2D NumPy array, where each value is in its own sub-array\n",
    "input_array2D = new_data.T.astype(np.float32).values.reshape(-1, 1)\n",
    "input_array2D"
   ]
  },
  {
   "cell_type": "code",
   "execution_count": 12,
   "id": "c0519c27-e968-4636-9176-6d9827b7c7b2",
   "metadata": {},
   "outputs": [
    {
     "data": {
      "text/plain": [
       "array([57026.3  , 57109.89 , 68121.38 , 46540.348, 61123.418, 61416.383,\n",
       "       52103.418, 62789.984, 61848.367, 62689.957, 61015.64 , 62924.355,\n",
       "       56717.832, 61962.96 , 59422.047, 51762.324, 62287.754, 66328.1  ,\n",
       "       45815.62 , 68623.61 , 65385.88 , 65655.62 , 44231.605, 60906.49 ,\n",
       "       62002.926, 40723.25 , 59347.02 , 68672.375, 62167.168, 68079.04 ],\n",
       "      dtype=float32)"
      ]
     },
     "execution_count": 12,
     "metadata": {},
     "output_type": "execute_result"
    }
   ],
   "source": [
    "predictions = xgb_model.predict(X_test)\n",
    "predictions"
   ]
  },
  {
   "cell_type": "code",
   "execution_count": 13,
   "id": "de4e4b6a-eb2d-45cc-a4f1-400ea3481a99",
   "metadata": {},
   "outputs": [
    {
     "data": {
      "text/plain": [
       "array([56899.145], dtype=float32)"
      ]
     },
     "execution_count": 13,
     "metadata": {},
     "output_type": "execute_result"
    }
   ],
   "source": [
    "predictions1 = xgb_model.predict(new_data)\n",
    "predictions1"
   ]
  },
  {
   "cell_type": "code",
   "execution_count": 14,
   "id": "d20a3abb-35f4-4745-8927-4a4e1003fe22",
   "metadata": {},
   "outputs": [
    {
     "data": {
      "text/html": [
       "<div>\n",
       "<style scoped>\n",
       "    .dataframe tbody tr th:only-of-type {\n",
       "        vertical-align: middle;\n",
       "    }\n",
       "\n",
       "    .dataframe tbody tr th {\n",
       "        vertical-align: top;\n",
       "    }\n",
       "\n",
       "    .dataframe thead th {\n",
       "        text-align: right;\n",
       "    }\n",
       "</style>\n",
       "<table border=\"1\" class=\"dataframe\">\n",
       "  <thead>\n",
       "    <tr style=\"text-align: right;\">\n",
       "      <th></th>\n",
       "      <th>IBIT</th>\n",
       "      <th>FBTC</th>\n",
       "      <th>BITB</th>\n",
       "      <th>ARKB</th>\n",
       "      <th>BTCO</th>\n",
       "      <th>EZBC</th>\n",
       "      <th>BRRR</th>\n",
       "      <th>HODL</th>\n",
       "      <th>BTCW</th>\n",
       "      <th>GBTC</th>\n",
       "    </tr>\n",
       "  </thead>\n",
       "  <tbody>\n",
       "    <tr>\n",
       "      <th>0</th>\n",
       "      <td>120</td>\n",
       "      <td>175</td>\n",
       "      <td>5</td>\n",
       "      <td>50</td>\n",
       "      <td>1</td>\n",
       "      <td>2</td>\n",
       "      <td>3</td>\n",
       "      <td>4</td>\n",
       "      <td>5</td>\n",
       "      <td>-20</td>\n",
       "    </tr>\n",
       "  </tbody>\n",
       "</table>\n",
       "</div>"
      ],
      "text/plain": [
       "   IBIT  FBTC  BITB  ARKB  BTCO  EZBC  BRRR  HODL  BTCW  GBTC\n",
       "0   120   175     5    50     1     2     3     4     5   -20"
      ]
     },
     "execution_count": 14,
     "metadata": {},
     "output_type": "execute_result"
    }
   ],
   "source": [
    "new_data"
   ]
  },
  {
   "cell_type": "code",
   "execution_count": 15,
   "id": "7d0bf15b-77cb-4695-8768-347f106c4521",
   "metadata": {},
   "outputs": [
    {
     "data": {
      "text/plain": [
       "array([[56899.145]], dtype=float32)"
      ]
     },
     "execution_count": 15,
     "metadata": {},
     "output_type": "execute_result"
    }
   ],
   "source": [
    "# Assuming Giza model requires predictions as a 2D array with each prediction in its sub-array\n",
    "formatted_input_for_giza = np.array([[prediction] for prediction in predictions1]).astype(np.float32)\n",
    "formatted_input_for_giza"
   ]
  },
  {
   "cell_type": "code",
   "execution_count": 21,
   "id": "464c2266-4832-46c1-bfcb-417d907e87f9",
   "metadata": {},
   "outputs": [
    {
     "data": {
      "text/plain": [
       "array([[120, 175,   5,  50,   1,   2,   3,   4,   5, -20]], dtype=int64)"
      ]
     },
     "execution_count": 21,
     "metadata": {},
     "output_type": "execute_result"
    }
   ],
   "source": [
    "# Assuming you need to convert this DataFrame to the same format as X_test\n",
    "# It needs to be a NumPy array of shape (n_samples, n_features)\n",
    "input_for_giza = new_data.values\n",
    "input_for_giza"
   ]
  },
  {
   "cell_type": "code",
   "execution_count": 23,
   "id": "f188ef73-ac81-469b-a482-532e0b0c3047",
   "metadata": {},
   "outputs": [
    {
     "data": {
      "text/plain": [
       "array([120, 175,   5,  50,   1,   2,   3,   4,   5, -20], dtype=int64)"
      ]
     },
     "execution_count": 23,
     "metadata": {},
     "output_type": "execute_result"
    }
   ],
   "source": [
    "input_arrayFlattened = new_data.values.flatten()\n",
    "input_arrayFlattened"
   ]
  },
  {
   "cell_type": "code",
   "execution_count": 27,
   "id": "41b16ff0-6267-4981-ba5d-2c2019544e79",
   "metadata": {},
   "outputs": [
    {
     "data": {
      "text/plain": [
       "120"
      ]
     },
     "execution_count": 27,
     "metadata": {},
     "output_type": "execute_result"
    }
   ],
   "source": [
    "input_arrayFlattened[0]"
   ]
  },
  {
   "cell_type": "code",
   "execution_count": 24,
   "id": "440b37da-12af-449a-8615-0f56f14f5845",
   "metadata": {},
   "outputs": [
    {
     "data": {
      "text/plain": [
       "[120, 175, 5, 50, 1, 2, 3, 4, 5, -20]"
      ]
     },
     "execution_count": 24,
     "metadata": {},
     "output_type": "execute_result"
    }
   ],
   "source": [
    "array1 = [120, 175,   5,  50,   1,   2,   3,   4,   5, -20]\n",
    "array1"
   ]
  },
  {
   "cell_type": "markdown",
   "id": "377dcf19-aff5-456a-9776-bb30dcc7f954",
   "metadata": {},
   "source": [
    "## Run a verifiable inference\n",
    "##### To streamline verifiable inference, you might consider using the endpoint URL obtained after transpilation. However, this approach requires manual serialization of the input for the Cairo program and handling the deserialization process. To make this process more user-friendly and keep you within a Python environment, we've introduced a Python SDK designed to facilitate the creation of ML workflows and execution of verifiable predictions. When you initiate a prediction, our system automatically retrieves the endpoint URL you deployed earlier, converts your input into Cairo-compatible format, executes the prediction, and then converts the output back into a numpy object. "
   ]
  },
  {
   "cell_type": "markdown",
   "id": "dec72a7b-96e2-4b9f-ad3d-f22b067cc49c",
   "metadata": {},
   "source": []
  },
  {
   "cell_type": "code",
   "execution_count": null,
   "id": "66247cbc-4dd0-4a93-80a8-13172668783e",
   "metadata": {},
   "outputs": [],
   "source": [
    "X_test[1, :]"
   ]
  },
  {
   "cell_type": "code",
   "execution_count": 26,
   "id": "5dbf104f-5868-4084-a496-321ae40e4aee",
   "metadata": {},
   "outputs": [
    {
     "name": "stderr",
     "output_type": "stream",
     "text": [
      "An error occurred in predict: 500 Server Error: Internal Server Error for url: https://endpoint-giza1-690-1-ae65a898-7i3yxzspbq-ew.a.run.app/cairo_run\n",
      "Deployment predict error: Running the Cairo  programm failed\n",
      "An error occurred in predict: 500 Server Error: Internal Server Error for url: https://endpoint-giza1-690-1-ae65a898-7i3yxzspbq-ew.a.run.app/cairo_run\n"
     ]
    },
    {
     "ename": "HTTPError",
     "evalue": "500 Server Error: Internal Server Error for url: https://endpoint-giza1-690-1-ae65a898-7i3yxzspbq-ew.a.run.app/cairo_run",
     "output_type": "error",
     "traceback": [
      "\u001b[1;31m---------------------------------------------------------------------------\u001b[0m",
      "\u001b[1;31mHTTPError\u001b[0m                                 Traceback (most recent call last)",
      "Cell \u001b[1;32mIn[26], line 70\u001b[0m\n\u001b[0;32m     63\u001b[0m \u001b[38;5;28;01mif\u001b[39;00m \u001b[38;5;18m__name__\u001b[39m \u001b[38;5;241m==\u001b[39m \u001b[38;5;124m\"\u001b[39m\u001b[38;5;124m__main__\u001b[39m\u001b[38;5;124m\"\u001b[39m:\n\u001b[0;32m     64\u001b[0m     \u001b[38;5;66;03m# data = load_diabetes()\u001b[39;00m\n\u001b[0;32m     65\u001b[0m     \u001b[38;5;66;03m# X, y = data.data, data.target\u001b[39;00m\n\u001b[0;32m     67\u001b[0m     X_train, X_test, y_train, y_test \u001b[38;5;241m=\u001b[39m train_test_split(\n\u001b[0;32m     68\u001b[0m         X, y, test_size\u001b[38;5;241m=\u001b[39m\u001b[38;5;241m0.2\u001b[39m, random_state\u001b[38;5;241m=\u001b[39m\u001b[38;5;241m42\u001b[39m\n\u001b[0;32m     69\u001b[0m     )\n\u001b[1;32m---> 70\u001b[0m     _, proof_id \u001b[38;5;241m=\u001b[39m \u001b[43mexecution\u001b[49m\u001b[43m(\u001b[49m\u001b[43m)\u001b[49m\n\u001b[0;32m     71\u001b[0m     \u001b[38;5;28mprint\u001b[39m(\u001b[38;5;124mf\u001b[39m\u001b[38;5;124m\"\u001b[39m\u001b[38;5;124mProof ID: \u001b[39m\u001b[38;5;132;01m{\u001b[39;00mproof_id\u001b[38;5;132;01m}\u001b[39;00m\u001b[38;5;124m\"\u001b[39m)\n",
      "Cell \u001b[1;32mIn[26], line 53\u001b[0m, in \u001b[0;36mexecution\u001b[1;34m()\u001b[0m\n\u001b[0;32m     48\u001b[0m input_array \u001b[38;5;241m=\u001b[39m new_data\u001b[38;5;241m.\u001b[39mastype(np\u001b[38;5;241m.\u001b[39mfloat32)\u001b[38;5;241m.\u001b[39mvalues\u001b[38;5;241m.\u001b[39mflatten()\n\u001b[0;32m     50\u001b[0m \u001b[38;5;66;03m# (result, proof_id) = prediction(input_array2D, MODEL_ID, VERSION_ID)\u001b[39;00m\n\u001b[0;32m     51\u001b[0m \u001b[38;5;66;03m# (result, proof_id) = prediction(input_for_giza, MODEL_ID, VERSION_ID)\u001b[39;00m\n\u001b[0;32m     52\u001b[0m \u001b[38;5;66;03m# (result, proof_id) = prediction(input1, MODEL_ID, VERSION_ID)\u001b[39;00m\n\u001b[1;32m---> 53\u001b[0m (result, proof_id) \u001b[38;5;241m=\u001b[39m \u001b[43mprediction\u001b[49m\u001b[43m(\u001b[49m\u001b[43marray1\u001b[49m\u001b[43m,\u001b[49m\u001b[43m \u001b[49m\u001b[43mMODEL_ID\u001b[49m\u001b[43m,\u001b[49m\u001b[43m \u001b[49m\u001b[43mVERSION_ID\u001b[49m\u001b[43m)\u001b[49m\n\u001b[0;32m     54\u001b[0m \u001b[38;5;66;03m# (result, proof_id) = prediction(new_data, MODEL_ID, VERSION_ID)\u001b[39;00m\n\u001b[0;32m     55\u001b[0m \n\u001b[0;32m     56\u001b[0m \n\u001b[0;32m     57\u001b[0m \u001b[38;5;66;03m# print(f\"Predicted value for input {new_data.flatten()[0]} is {result}\")\u001b[39;00m\n\u001b[0;32m     58\u001b[0m \u001b[38;5;28mprint\u001b[39m(\u001b[38;5;124mf\u001b[39m\u001b[38;5;124m\"\u001b[39m\u001b[38;5;124mPredicted value for input is \u001b[39m\u001b[38;5;132;01m{\u001b[39;00mresult\u001b[38;5;132;01m}\u001b[39;00m\u001b[38;5;124m\"\u001b[39m)\n",
      "Cell \u001b[1;32mIn[26], line 14\u001b[0m, in \u001b[0;36mprediction\u001b[1;34m(input, model_id, version_id)\u001b[0m\n\u001b[0;32m     11\u001b[0m \u001b[38;5;28;01mdef\u001b[39;00m \u001b[38;5;21mprediction\u001b[39m(\u001b[38;5;28minput\u001b[39m, model_id, version_id):\n\u001b[0;32m     12\u001b[0m     model \u001b[38;5;241m=\u001b[39m GizaModel(\u001b[38;5;28mid\u001b[39m\u001b[38;5;241m=\u001b[39mmodel_id, version\u001b[38;5;241m=\u001b[39mversion_id)\n\u001b[1;32m---> 14\u001b[0m     (result, proof_id) \u001b[38;5;241m=\u001b[39m \u001b[43mmodel\u001b[49m\u001b[38;5;241;43m.\u001b[39;49m\u001b[43mpredict\u001b[49m\u001b[43m(\u001b[49m\n\u001b[0;32m     15\u001b[0m \u001b[43m        \u001b[49m\u001b[43minput_feed\u001b[49m\u001b[38;5;241;43m=\u001b[39;49m\u001b[43m{\u001b[49m\u001b[38;5;124;43m\"\u001b[39;49m\u001b[38;5;124;43minput\u001b[39;49m\u001b[38;5;124;43m\"\u001b[39;49m\u001b[43m:\u001b[49m\u001b[43m \u001b[49m\u001b[38;5;28;43minput\u001b[39;49m\u001b[43m}\u001b[49m\u001b[43m,\u001b[49m\u001b[43m \u001b[49m\u001b[43mverifiable\u001b[49m\u001b[38;5;241;43m=\u001b[39;49m\u001b[38;5;28;43;01mTrue\u001b[39;49;00m\u001b[43m,\u001b[49m\u001b[43m \u001b[49m\u001b[43mmodel_category\u001b[49m\u001b[38;5;241;43m=\u001b[39;49m\u001b[38;5;124;43m\"\u001b[39;49m\u001b[38;5;124;43mXGB\u001b[39;49m\u001b[38;5;124;43m\"\u001b[39;49m\n\u001b[0;32m     16\u001b[0m \u001b[43m    \u001b[49m\u001b[43m)\u001b[49m\n\u001b[0;32m     18\u001b[0m     \u001b[38;5;28;01mreturn\u001b[39;00m result, proof_id\n",
      "File \u001b[1;32m~\\AppData\\Roaming\\Python\\Python311\\site-packages\\giza\\agents\\model.py:333\u001b[0m, in \u001b[0;36mGizaModel.predict\u001b[1;34m(self, input_file, input_feed, verifiable, fp_impl, custom_output_dtype, model_category, job_size, dry_run)\u001b[0m\n\u001b[0;32m    331\u001b[0m \u001b[38;5;28;01mexcept\u001b[39;00m \u001b[38;5;167;01mException\u001b[39;00m \u001b[38;5;28;01mas\u001b[39;00m e:\n\u001b[0;32m    332\u001b[0m     logger\u001b[38;5;241m.\u001b[39merror(\u001b[38;5;124mf\u001b[39m\u001b[38;5;124m\"\u001b[39m\u001b[38;5;124mAn error occurred in predict: \u001b[39m\u001b[38;5;132;01m{\u001b[39;00me\u001b[38;5;132;01m}\u001b[39;00m\u001b[38;5;124m\"\u001b[39m)\n\u001b[1;32m--> 333\u001b[0m     \u001b[38;5;28;01mraise\u001b[39;00m e\n",
      "File \u001b[1;32m~\\AppData\\Roaming\\Python\\Python311\\site-packages\\giza\\agents\\model.py:297\u001b[0m, in \u001b[0;36mGizaModel.predict\u001b[1;34m(self, input_file, input_feed, verifiable, fp_impl, custom_output_dtype, model_category, job_size, dry_run)\u001b[0m\n\u001b[0;32m    295\u001b[0m     error_message \u001b[38;5;241m=\u001b[39m \u001b[38;5;124mf\u001b[39m\u001b[38;5;124m\"\u001b[39m\u001b[38;5;124mDeployment predict error: \u001b[39m\u001b[38;5;132;01m{\u001b[39;00mresponse\u001b[38;5;241m.\u001b[39mtext\u001b[38;5;132;01m}\u001b[39;00m\u001b[38;5;124m\"\u001b[39m\n\u001b[0;32m    296\u001b[0m     logger\u001b[38;5;241m.\u001b[39merror(error_message)\n\u001b[1;32m--> 297\u001b[0m     \u001b[38;5;28;01mraise\u001b[39;00m e\n\u001b[0;32m    299\u001b[0m body \u001b[38;5;241m=\u001b[39m response\u001b[38;5;241m.\u001b[39mjson()\n\u001b[0;32m    300\u001b[0m serialized_output \u001b[38;5;241m=\u001b[39m body[\u001b[38;5;124m\"\u001b[39m\u001b[38;5;124mresult\u001b[39m\u001b[38;5;124m\"\u001b[39m]\n",
      "File \u001b[1;32m~\\AppData\\Roaming\\Python\\Python311\\site-packages\\giza\\agents\\model.py:292\u001b[0m, in \u001b[0;36mGizaModel.predict\u001b[1;34m(self, input_file, input_feed, verifiable, fp_impl, custom_output_dtype, model_category, job_size, dry_run)\u001b[0m\n\u001b[0;32m    289\u001b[0m response \u001b[38;5;241m=\u001b[39m requests\u001b[38;5;241m.\u001b[39mpost(\u001b[38;5;28mself\u001b[39m\u001b[38;5;241m.\u001b[39muri, json\u001b[38;5;241m=\u001b[39mpayload)\n\u001b[0;32m    291\u001b[0m \u001b[38;5;28;01mtry\u001b[39;00m:\n\u001b[1;32m--> 292\u001b[0m     \u001b[43mresponse\u001b[49m\u001b[38;5;241;43m.\u001b[39;49m\u001b[43mraise_for_status\u001b[49m\u001b[43m(\u001b[49m\u001b[43m)\u001b[49m\n\u001b[0;32m    293\u001b[0m \u001b[38;5;28;01mexcept\u001b[39;00m requests\u001b[38;5;241m.\u001b[39mexceptions\u001b[38;5;241m.\u001b[39mHTTPError \u001b[38;5;28;01mas\u001b[39;00m e:\n\u001b[0;32m    294\u001b[0m     logger\u001b[38;5;241m.\u001b[39merror(\u001b[38;5;124mf\u001b[39m\u001b[38;5;124m\"\u001b[39m\u001b[38;5;124mAn error occurred in predict: \u001b[39m\u001b[38;5;132;01m{\u001b[39;00me\u001b[38;5;132;01m}\u001b[39;00m\u001b[38;5;124m\"\u001b[39m)\n",
      "File \u001b[1;32m~\\AppData\\Roaming\\Python\\Python311\\site-packages\\requests\\models.py:1024\u001b[0m, in \u001b[0;36mResponse.raise_for_status\u001b[1;34m(self)\u001b[0m\n\u001b[0;32m   1019\u001b[0m     http_error_msg \u001b[38;5;241m=\u001b[39m (\n\u001b[0;32m   1020\u001b[0m         \u001b[38;5;124mf\u001b[39m\u001b[38;5;124m\"\u001b[39m\u001b[38;5;132;01m{\u001b[39;00m\u001b[38;5;28mself\u001b[39m\u001b[38;5;241m.\u001b[39mstatus_code\u001b[38;5;132;01m}\u001b[39;00m\u001b[38;5;124m Server Error: \u001b[39m\u001b[38;5;132;01m{\u001b[39;00mreason\u001b[38;5;132;01m}\u001b[39;00m\u001b[38;5;124m for url: \u001b[39m\u001b[38;5;132;01m{\u001b[39;00m\u001b[38;5;28mself\u001b[39m\u001b[38;5;241m.\u001b[39murl\u001b[38;5;132;01m}\u001b[39;00m\u001b[38;5;124m\"\u001b[39m\n\u001b[0;32m   1021\u001b[0m     )\n\u001b[0;32m   1023\u001b[0m \u001b[38;5;28;01mif\u001b[39;00m http_error_msg:\n\u001b[1;32m-> 1024\u001b[0m     \u001b[38;5;28;01mraise\u001b[39;00m HTTPError(http_error_msg, response\u001b[38;5;241m=\u001b[39m\u001b[38;5;28mself\u001b[39m)\n",
      "\u001b[1;31mHTTPError\u001b[0m: 500 Server Error: Internal Server Error for url: https://endpoint-giza1-690-1-ae65a898-7i3yxzspbq-ew.a.run.app/cairo_run"
     ]
    }
   ],
   "source": [
    "import xgboost as xgb\n",
    "from sklearn.datasets import load_diabetes\n",
    "from sklearn.model_selection import train_test_split\n",
    "\n",
    "from giza.agents.model import GizaModel\n",
    "\n",
    "\n",
    "MODEL_ID = 690  # Update with your model ID\n",
    "VERSION_ID = 1  # Update with your version ID\n",
    "\n",
    "def prediction(input, model_id, version_id):\n",
    "    model = GizaModel(id=model_id, version=version_id)\n",
    "\n",
    "    (result, proof_id) = model.predict(\n",
    "        input_feed={\"input\": input}, verifiable=True, model_category=\"XGB\"\n",
    "    )\n",
    "\n",
    "    return result, proof_id\n",
    "\n",
    "\n",
    "def execution():\n",
    "    # The input data type should match the model's expected input\n",
    "    # input = X_test[1, :]\n",
    "    input = X_test\n",
    "\n",
    "    new_data = pd.DataFrame({\n",
    "    'IBIT': [120],\n",
    "    'FBTC': [175],\n",
    "    'BITB': [5],\n",
    "    'ARKB': [50],\n",
    "    'BTCO': [1],\n",
    "    'EZBC': [2],\n",
    "    'BRRR': [3],\n",
    "    'HODL': [4],\n",
    "    'BTCW': [5],\n",
    "    'GBTC': [-20]\n",
    "})\n",
    "\n",
    "    new_data1 = pd.DataFrame({\n",
    "    'IBIT': [120]\n",
    "})\n",
    "    # Convert the DataFrame to a NumPy array and ensure it is of type float32\n",
    "    input1 = new_data1.astype(np.float32).values\n",
    "\n",
    "    # Convert the DataFrame to a NumPy array and ensure it is of type float32\n",
    "    # input_array = new_data.astype(np.float32).values\n",
    "    # Convert DataFrame to a NumPy array, ensure it is float32, and flatten it\n",
    "    input_array = new_data.astype(np.float32).values.flatten()\n",
    "\n",
    "    # (result, proof_id) = prediction(input_array2D, MODEL_ID, VERSION_ID)\n",
    "    # (result, proof_id) = prediction(input_for_giza, MODEL_ID, VERSION_ID)\n",
    "    # (result, proof_id) = prediction(input1, MODEL_ID, VERSION_ID)\n",
    "    (result, proof_id) = prediction(array1, MODEL_ID, VERSION_ID)\n",
    "    # (result, proof_id) = prediction(new_data, MODEL_ID, VERSION_ID)\n",
    "\n",
    "    \n",
    "    # print(f\"Predicted value for input {new_data.flatten()[0]} is {result}\")\n",
    "    print(f\"Predicted value for input is {result}\")\n",
    "\n",
    "    return result, proof_id\n",
    "\n",
    "\n",
    "if __name__ == \"__main__\":\n",
    "    # data = load_diabetes()\n",
    "    # X, y = data.data, data.target\n",
    "\n",
    "    X_train, X_test, y_train, y_test = train_test_split(\n",
    "        X, y, test_size=0.2, random_state=42\n",
    "    )\n",
    "    _, proof_id = execution()\n",
    "    print(f\"Proof ID: {proof_id}\")"
   ]
  },
  {
   "cell_type": "code",
   "execution_count": null,
   "id": "8d55f279-3629-4615-8ebf-d6547e73e49a",
   "metadata": {},
   "outputs": [],
   "source": []
  },
  {
   "cell_type": "markdown",
   "id": "7b44f1d7-6254-4380-aaa4-ecd141fc17e7",
   "metadata": {},
   "source": [
    "## Download the proof\n",
    "#### Initiating a verifiable inference sets off a proving job on our server, sparing you the complexities of installing and configuring the prover yourself. Upon completion, you can download your proof.\n",
    "\n",
    "First, let's check the status of the proving job to ensure that it has been completed."
   ]
  },
  {
   "cell_type": "markdown",
   "id": "f25f8d23-0d83-412a-9e3b-fca989972f0a",
   "metadata": {},
   "source": [
    "$ giza endpoints get-proof --endpoint-id 234 --proof-id \"10c164e6c2364ab6b5491702127979a6\"\n",
    "[giza][2024-05-30 00:40:39.691] Getting proof from endpoint 234 ✅\n",
    "{\n",
    "  \"id\": 967,\n",
    "  \"job_id\": 1121,\n",
    "  \"metrics\": {\n",
    "    \"proving_time\": 17.249508\n",
    "  },\n",
    "  \"created_date\": \"2024-05-30T07:33:12.532659\"\n",
    "}"
   ]
  },
  {
   "cell_type": "markdown",
   "id": "4f427ceb-61d7-4ffc-ba4f-15d4dad1ec2c",
   "metadata": {},
   "source": [
    "Once the proof is ready, you can download it."
   ]
  },
  {
   "cell_type": "markdown",
   "id": "43c280b5-8b29-4a7d-8b0e-a5b90e408852",
   "metadata": {},
   "source": [
    "$ giza endpoints download-proof --endpoint-id 234 --proof-id \"10c164e6c2364ab6b5491702127979a6\" --output-path zk_xgboost.proof\n",
    "[giza][2024-05-30 00:51:52.048] Getting proof from endpoint 234 ✅\n",
    "[giza][2024-05-30 00:51:53.800] Proof downloaded to zk_xgboost.proof ✅\n",
    "(giza3)"
   ]
  },
  {
   "cell_type": "markdown",
   "id": "a36fb812-b3ef-4c4e-a142-c3c9263be989",
   "metadata": {},
   "source": [
    "## Verify the proof\n",
    "#### Finally, you can verify the proof."
   ]
  },
  {
   "cell_type": "markdown",
   "id": "139ac5f2-0bd8-40d7-88c3-75e162febfb8",
   "metadata": {},
   "source": [
    "$ giza verify --proof-id 967\n",
    "[giza][2024-05-30 00:56:05.847] Verifying proof...\n",
    "[giza][2024-05-30 00:56:07.140] Verification result: True\n",
    "[giza][2024-05-30 00:56:07.145] Verification time: 0.454667226\n",
    "(giza3)"
   ]
  },
  {
   "cell_type": "code",
   "execution_count": null,
   "id": "8859806a-01d8-40d9-a445-cbe3c8a733fd",
   "metadata": {},
   "outputs": [],
   "source": []
  }
 ],
 "metadata": {
  "kernelspec": {
   "display_name": "giza3",
   "language": "python",
   "name": "giza3"
  },
  "language_info": {
   "codemirror_mode": {
    "name": "ipython",
    "version": 3
   },
   "file_extension": ".py",
   "mimetype": "text/x-python",
   "name": "python",
   "nbconvert_exporter": "python",
   "pygments_lexer": "ipython3",
   "version": "3.11.9"
  }
 },
 "nbformat": 4,
 "nbformat_minor": 5
}
