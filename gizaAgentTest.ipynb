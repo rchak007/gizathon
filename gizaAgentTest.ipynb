{
 "cells": [
  {
   "cell_type": "code",
   "execution_count": 1,
   "id": "48530ee8-f107-4e80-a3e3-8bf326ec909a",
   "metadata": {},
   "outputs": [],
   "source": [
    "import argparse\n",
    "import logging\n",
    "import os\n",
    "import pprint\n",
    "from logging import getLogger"
   ]
  },
  {
   "cell_type": "code",
   "execution_count": 2,
   "id": "609cf662-423c-4769-a64d-fd3cfa4d3eb5",
   "metadata": {},
   "outputs": [],
   "source": [
    "import numpy as np"
   ]
  },
  {
   "cell_type": "code",
   "execution_count": 3,
   "id": "e4b7ff52-8e40-4354-bb37-8aca73b84a01",
   "metadata": {},
   "outputs": [],
   "source": [
    "from dotenv import find_dotenv, load_dotenv"
   ]
  },
  {
   "cell_type": "code",
   "execution_count": 4,
   "id": "15661fbb-fe0d-479b-b5ef-50b17991dbfb",
   "metadata": {},
   "outputs": [
    {
     "name": "stderr",
     "output_type": "stream",
     "text": [
      "C:\\Users\\chuck.raghavan\\AppData\\Roaming\\Python\\Python311\\site-packages\\tqdm\\auto.py:21: TqdmWarning: IProgress not found. Please update jupyter and ipywidgets. See https://ipywidgets.readthedocs.io/en/stable/user_install.html\n",
      "  from .autonotebook import tqdm as notebook_tqdm\n"
     ]
    }
   ],
   "source": [
    "from giza.agents import AgentResult, GizaAgent\n"
   ]
  },
  {
   "cell_type": "code",
   "execution_count": 5,
   "id": "d56d3fc3-c801-4e4c-97bc-371da4aa5884",
   "metadata": {},
   "outputs": [],
   "source": [
    "from addresses import ADDRESSES"
   ]
  },
  {
   "cell_type": "code",
   "execution_count": 6,
   "id": "54bc08cb-6a45-4bea-8e01-72cd517c6353",
   "metadata": {},
   "outputs": [],
   "source": [
    "# from lp_tools import get_tick_range\n",
    "# from uni_helpers import (approve_token, check_allowance, close_position,\n",
    "#                          get_all_user_positions, get_mint_params)"
   ]
  },
  {
   "cell_type": "code",
   "execution_count": 7,
   "id": "9ffff2fb-6391-4e4a-905e-0eb8401534b0",
   "metadata": {},
   "outputs": [
    {
     "data": {
      "text/plain": [
       "True"
      ]
     },
     "execution_count": 7,
     "metadata": {},
     "output_type": "execute_result"
    }
   ],
   "source": [
    "load_dotenv(find_dotenv())\n"
   ]
  },
  {
   "cell_type": "code",
   "execution_count": 8,
   "id": "1ae54b10-d516-4cf5-8dd7-33d73735211f",
   "metadata": {},
   "outputs": [],
   "source": [
    "dev_passphrase = os.environ.get(\"DEV_PASSPHRASE\")\n",
    "sepolia_rpc_url = os.environ.get(\"SEPOLIA_RPC_URL\")"
   ]
  },
  {
   "cell_type": "code",
   "execution_count": 9,
   "id": "fe79bc0f-f726-4951-8a4d-3c3040ee2f00",
   "metadata": {},
   "outputs": [],
   "source": [
    "logging.basicConfig(level=logging.INFO)"
   ]
  },
  {
   "cell_type": "code",
   "execution_count": 10,
   "id": "05326b6e-7467-4f42-adae-25e7b8e39bf4",
   "metadata": {},
   "outputs": [],
   "source": [
    "def create_agent(\n",
    "    model_id: int, version_id: int, chain: str, contracts: dict, account: str\n",
    "):\n",
    "    \"\"\"\n",
    "    Create a Giza agent for the volatility prediction model\n",
    "    \"\"\"\n",
    "    agent = GizaAgent(\n",
    "        contracts=contracts,\n",
    "        id=model_id,\n",
    "        version_id=version_id,\n",
    "        chain=chain,\n",
    "        account=account,\n",
    "    )\n",
    "    return agent"
   ]
  },
  {
   "cell_type": "code",
   "execution_count": 11,
   "id": "c2b4cc71-82fe-4ac7-8cb9-d07c98790846",
   "metadata": {},
   "outputs": [],
   "source": [
    "def predict(agent: GizaAgent, X: np.ndarray):\n",
    "    \"\"\"\n",
    "    Predict the next day volatility.\n",
    "\n",
    "    Args:\n",
    "        X (np.ndarray): Input to the model.\n",
    "\n",
    "    Returns:\n",
    "        int: Predicted value.\n",
    "    \"\"\"\n",
    "    prediction = agent.predict(input_feed={\"val\": X}, verifiable=True, job_size=\"XL\")\n",
    "    return prediction"
   ]
  },
  {
   "cell_type": "code",
   "execution_count": 12,
   "id": "2e157a36-ccb9-4209-af49-0503723414ff",
   "metadata": {},
   "outputs": [],
   "source": [
    "def get_pred_val(prediction: AgentResult):\n",
    "    \"\"\"\n",
    "    Get the value from the prediction.\n",
    "\n",
    "    Args:\n",
    "        prediction (dict): Prediction from the model.\n",
    "\n",
    "    Returns:\n",
    "        int: Predicted value.\n",
    "    \"\"\"\n",
    "    # This will block the executon until the prediction has generated the proof\n",
    "    # and the proof has been verified\n",
    "    return prediction.value[0][0]"
   ]
  },
  {
   "cell_type": "code",
   "execution_count": null,
   "id": "6a81f969-55af-4a17-b0bc-f3155cf0cf4e",
   "metadata": {},
   "outputs": [],
   "source": [
    "def  rebalance_lp(\n",
    "    tokenWETH_amount: int,\n",
    "    tokenUSDC_amount: int,\n",
    "    pred_model_id: int,\n",
    "    pred_version_id: int,\n",
    "    account=\"giza1\",\n",
    "    chain=f\"ethereum:sepolia:{sepolia_rpc_url}\",\n",
    "    nft_id=None,\n",
    "):\n",
    "    logger = getLogger(\"agent_logger\")\n",
    "    networks.parse_network_choice(f\"ethereum:sepolia:{sepolia_rpc_url}\").__enter__()\n",
    "    chain_id = chain.chain_id\n",
    "    # weth_mint_amount = 0.01\n",
    "    weth_mint_amount = tokenWETH_amount\n",
    "    pool_fee = 3000\n",
    "    uni = Contract(ADDRESSES[\"UNI\"][chain_id])\n",
    "    weth = Contract(ADDRESSES[\"WETH\"][chain_id])\n",
    "    # wbtc = Contract(ADDRESSES[\"WETH\"][chain_id])\n",
    "    wusdc = Contract(ADDRESSES[\"USDC\"][chain_id])\n",
    "    # wbtc = Contract('0x66194f6c999b28965e0303a84cb8b797273b6b8b')\n",
    "    weth_decimals = weth.decimals()\n",
    "    # wbtc_decimals = wbtc.decimals()\n",
    "    uni_decimals = uni.decimals()\n",
    "    wusdc_decimals = wusdc.decimals()\n",
    "    weth_mint_amount = int(weth_mint_amount * 10**weth_decimals)\n",
    "    uni_mint_amount = int(0.5 * weth_mint_amount)\n",
    "    contracts = {\n",
    "        \"nft_manager\": nft_manager_address,\n",
    "        \"tokenA\": tokenA_address,\n",
    "        \"tokenB\": tokenB_address,\n",
    "        \"pool\": pool_address,\n",
    "    }\n",
    "\n",
    "\n",
    "\n",
    "\n",
    "    with accounts.use_sender(\"giza1\"):\n",
    "        # print(f\"Minting {weth_mint_amount/10**weth_decimals} WETH\")\n",
    "        # weth.deposit(value=weth_mint_amount)\n",
    "        # print(\"Approving WETH for swap\")\n",
    "        # weth.approve(swap_router.address, weth_mint_amount)\n",
    "        swap_params = {\n",
    "            \"tokenIn\": weth.address,\n",
    "            \"tokenOut\": wusdc.address,\n",
    "            \"fee\": pool_fee,\n",
    "            \"recipient\": wallet.address,\n",
    "            \"amountIn\": weth_mint_amount,\n",
    "            \"amountOutMinimum\": 0,\n",
    "            \"sqrtPriceLimitX96\": 0,\n",
    "        }\n",
    "        swap_params = tuple(swap_params.values())\n",
    "        print(\"Swapping WETH for USDC\")\n",
    "        amountOut = swap_router.exactInputSingle(swap_params)\n",
    "        print(f\"Successfully minted {uni_mint_amount/10**uni_decimals} USDC\")\n",
    "    \n",
    "    print(f\"Your WETH balance: {weth.balanceOf(wallet.address)/10**weth_decimals}\")\n",
    "    print(f\"Your WUSDC balance: {wusdc.balanceOf(wallet.address)/10**wusdc_decimals}\")\n",
    "    "
   ]
  },
  {
   "cell_type": "code",
   "execution_count": null,
   "id": "545a3bdb-21ee-4667-8b87-bd0a710d114e",
   "metadata": {},
   "outputs": [],
   "source": [
    "if __name__ == \"__main__\":\n",
    "    # Create the parser\n",
    "    # parser = argparse.ArgumentParser()\n",
    "\n",
    "    # # Add arguments\n",
    "    # parser.add_argument(\"--model-id\", metavar=\"M\", type=int, help=\"model-id\")\n",
    "    # parser.add_argument(\"--version-id\", metavar=\"V\", type=int, help=\"version-id\")\n",
    "    # parser.add_argument(\"--tokenA-amount\", metavar=\"A\", type=int, help=\"tokenA-amount\")\n",
    "    # parser.add_argument(\"--tokenB-amount\", metavar=\"B\", type=int, help=\"tokenB-amount\")\n",
    "\n",
    "    # # Parse arguments\n",
    "    # args = parser.parse_args()\n",
    "\n",
    "    # for now we will just get it from .env\n",
    "    model_id = os.environ.get(\"MODEL_ID\")\n",
    "    version_id = os.environ.get(\"VERSION_ID\")\n",
    "    \n",
    "    MODEL_ID = model_id\n",
    "    VERSION_ID = version_id\n",
    "    tokenA_amount = args.tokenA_amount\n",
    "    tokenB_amount = args.tokenB_amount\n",
    "\n",
    "    rebalance_lp(tokenA_amount, tokenB_amount, MODEL_ID, VERSION_ID)"
   ]
  }
 ],
 "metadata": {
  "kernelspec": {
   "display_name": "giza3",
   "language": "python",
   "name": "giza3"
  },
  "language_info": {
   "codemirror_mode": {
    "name": "ipython",
    "version": 3
   },
   "file_extension": ".py",
   "mimetype": "text/x-python",
   "name": "python",
   "nbconvert_exporter": "python",
   "pygments_lexer": "ipython3",
   "version": "3.11.9"
  }
 },
 "nbformat": 4,
 "nbformat_minor": 5
}
