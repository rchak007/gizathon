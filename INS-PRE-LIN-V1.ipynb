{
 "cells": [
  {
   "cell_type": "code",
   "execution_count": 1,
   "id": "ceb4bd25",
   "metadata": {},
   "outputs": [
    {
     "name": "stdout",
     "output_type": "stream",
     "text": [
      "Note: you may need to restart the kernel to use updated packages.Requirement already satisfied: matplotlib in c:\\users\\sathy\\appdata\\local\\programs\\python\\python311\\lib\\site-packages (3.9.0)\n",
      "Requirement already satisfied: contourpy>=1.0.1 in c:\\users\\sathy\\appdata\\local\\programs\\python\\python311\\lib\\site-packages (from matplotlib) (1.2.1)\n",
      "Requirement already satisfied: cycler>=0.10 in c:\\users\\sathy\\appdata\\local\\programs\\python\\python311\\lib\\site-packages (from matplotlib) (0.12.1)\n",
      "Requirement already satisfied: fonttools>=4.22.0 in c:\\users\\sathy\\appdata\\local\\programs\\python\\python311\\lib\\site-packages (from matplotlib) (4.52.4)\n",
      "Requirement already satisfied: kiwisolver>=1.3.1 in c:\\users\\sathy\\appdata\\local\\programs\\python\\python311\\lib\\site-packages (from matplotlib) (1.4.5)\n",
      "Requirement already satisfied: numpy>=1.23 in c:\\users\\sathy\\appdata\\roaming\\python\\python311\\site-packages (from matplotlib) (1.25.2)\n",
      "Requirement already satisfied: packaging>=20.0 in c:\\users\\sathy\\appdata\\roaming\\python\\python311\\site-packages (from matplotlib) (24.0)\n",
      "Requirement already satisfied: pillow>=8 in c:\\users\\sathy\\appdata\\local\\programs\\python\\python311\\lib\\site-packages (from matplotlib) (10.0.1)\n",
      "Requirement already satisfied: pyparsing>=2.3.1 in c:\\users\\sathy\\appdata\\local\\programs\\python\\python311\\lib\\site-packages (from matplotlib) (3.1.2)\n",
      "Requirement already satisfied: python-dateutil>=2.7 in c:\\users\\sathy\\appdata\\roaming\\python\\python311\\site-packages (from matplotlib) (2.9.0.post0)\n",
      "Requirement already satisfied: six>=1.5 in c:\\users\\sathy\\appdata\\local\\programs\\python\\python311\\lib\\site-packages (from python-dateutil>=2.7->matplotlib) (1.16.0)\n",
      "\n"
     ]
    },
    {
     "name": "stderr",
     "output_type": "stream",
     "text": [
      "\n",
      "[notice] A new release of pip is available: 23.2.1 -> 24.0\n",
      "[notice] To update, run: python.exe -m pip install --upgrade pip\n"
     ]
    }
   ],
   "source": [
    "pip install matplotlib"
   ]
  },
  {
   "cell_type": "code",
   "execution_count": 2,
   "id": "4cc4fbb0",
   "metadata": {},
   "outputs": [
    {
     "name": "stdout",
     "output_type": "stream",
     "text": [
      "Requirement already satisfied: scipy in c:\\users\\sathy\\appdata\\local\\programs\\python\\python311\\lib\\site-packages (1.13.1)\n",
      "Requirement already satisfied: joblib in c:\\users\\sathy\\appdata\\local\\programs\\python\\python311\\lib\\site-packages (1.4.2)\n",
      "Requirement already satisfied: threadpoolctl in c:\\users\\sathy\\appdata\\local\\programs\\python\\python311\\lib\\site-packages (3.5.0)\n",
      "Requirement already satisfied: numpy<2.3,>=1.22.4 in c:\\users\\sathy\\appdata\\roaming\\python\\python311\\site-packages (from scipy) (1.25.2)\n",
      "Note: you may need to restart the kernel to use updated packages.\n"
     ]
    },
    {
     "name": "stderr",
     "output_type": "stream",
     "text": [
      "\n",
      "[notice] A new release of pip is available: 23.2.1 -> 24.0\n",
      "[notice] To update, run: python.exe -m pip install --upgrade pip\n"
     ]
    }
   ],
   "source": [
    "pip install scipy joblib threadpoolctl"
   ]
  },
  {
   "cell_type": "code",
   "execution_count": 3,
   "id": "91c30dd3",
   "metadata": {},
   "outputs": [],
   "source": [
    "import numpy as np\n",
    "import pandas as pd\n",
    "import matplotlib.pyplot as plt\n",
    "import seaborn as sns"
   ]
  },
  {
   "cell_type": "code",
   "execution_count": 4,
   "id": "9abe745a",
   "metadata": {},
   "outputs": [
    {
     "data": {
      "text/html": [
       "<div>\n",
       "<style scoped>\n",
       "    .dataframe tbody tr th:only-of-type {\n",
       "        vertical-align: middle;\n",
       "    }\n",
       "\n",
       "    .dataframe tbody tr th {\n",
       "        vertical-align: top;\n",
       "    }\n",
       "\n",
       "    .dataframe thead th {\n",
       "        text-align: right;\n",
       "    }\n",
       "</style>\n",
       "<table border=\"1\" class=\"dataframe\">\n",
       "  <thead>\n",
       "    <tr style=\"text-align: right;\">\n",
       "      <th></th>\n",
       "      <th>age</th>\n",
       "      <th>sex</th>\n",
       "      <th>bmi</th>\n",
       "      <th>children</th>\n",
       "      <th>smoker</th>\n",
       "      <th>region</th>\n",
       "      <th>expenses</th>\n",
       "    </tr>\n",
       "  </thead>\n",
       "  <tbody>\n",
       "    <tr>\n",
       "      <th>0</th>\n",
       "      <td>18</td>\n",
       "      <td>male</td>\n",
       "      <td>16.0</td>\n",
       "      <td>0</td>\n",
       "      <td>no</td>\n",
       "      <td>northeast</td>\n",
       "      <td>1694.80</td>\n",
       "    </tr>\n",
       "    <tr>\n",
       "      <th>1</th>\n",
       "      <td>18</td>\n",
       "      <td>male</td>\n",
       "      <td>17.3</td>\n",
       "      <td>2</td>\n",
       "      <td>yes</td>\n",
       "      <td>northeast</td>\n",
       "      <td>12829.46</td>\n",
       "    </tr>\n",
       "    <tr>\n",
       "      <th>2</th>\n",
       "      <td>18</td>\n",
       "      <td>female</td>\n",
       "      <td>20.8</td>\n",
       "      <td>0</td>\n",
       "      <td>no</td>\n",
       "      <td>southeast</td>\n",
       "      <td>1607.51</td>\n",
       "    </tr>\n",
       "    <tr>\n",
       "      <th>3</th>\n",
       "      <td>18</td>\n",
       "      <td>male</td>\n",
       "      <td>21.5</td>\n",
       "      <td>0</td>\n",
       "      <td>no</td>\n",
       "      <td>northeast</td>\n",
       "      <td>1702.46</td>\n",
       "    </tr>\n",
       "    <tr>\n",
       "      <th>4</th>\n",
       "      <td>18</td>\n",
       "      <td>male</td>\n",
       "      <td>21.6</td>\n",
       "      <td>0</td>\n",
       "      <td>yes</td>\n",
       "      <td>northeast</td>\n",
       "      <td>13747.87</td>\n",
       "    </tr>\n",
       "  </tbody>\n",
       "</table>\n",
       "</div>"
      ],
      "text/plain": [
       "   age     sex   bmi  children smoker     region  expenses\n",
       "0   18    male  16.0         0     no  northeast   1694.80\n",
       "1   18    male  17.3         2    yes  northeast  12829.46\n",
       "2   18  female  20.8         0     no  southeast   1607.51\n",
       "3   18    male  21.5         0     no  northeast   1702.46\n",
       "4   18    male  21.6         0    yes  northeast  13747.87"
      ]
     },
     "execution_count": 4,
     "metadata": {},
     "output_type": "execute_result"
    }
   ],
   "source": [
    "df = pd.read_csv('insurance.csv')\n",
    "df.head(5)"
   ]
  },
  {
   "cell_type": "code",
   "execution_count": 5,
   "id": "a0bed65b",
   "metadata": {},
   "outputs": [],
   "source": [
    "df['children'] = df['children'].astype('object')\n"
   ]
  },
  {
   "cell_type": "code",
   "execution_count": 6,
   "id": "b4d18442",
   "metadata": {},
   "outputs": [],
   "source": [
    "#plt.figure(figsize = (12,8))\n",
    "#sns.histplot(x= 'expenses',data = df,kde = True)"
   ]
  },
  {
   "cell_type": "code",
   "execution_count": 7,
   "id": "9a556fa9",
   "metadata": {},
   "outputs": [],
   "source": [
    "#df['expenses'] = np.sqrt(df['expenses'])\n"
   ]
  },
  {
   "cell_type": "code",
   "execution_count": 8,
   "id": "1db969a2",
   "metadata": {},
   "outputs": [
    {
     "data": {
      "text/html": [
       "<div>\n",
       "<style scoped>\n",
       "    .dataframe tbody tr th:only-of-type {\n",
       "        vertical-align: middle;\n",
       "    }\n",
       "\n",
       "    .dataframe tbody tr th {\n",
       "        vertical-align: top;\n",
       "    }\n",
       "\n",
       "    .dataframe thead th {\n",
       "        text-align: right;\n",
       "    }\n",
       "</style>\n",
       "<table border=\"1\" class=\"dataframe\">\n",
       "  <thead>\n",
       "    <tr style=\"text-align: right;\">\n",
       "      <th></th>\n",
       "      <th>age</th>\n",
       "      <th>sex</th>\n",
       "      <th>bmi</th>\n",
       "      <th>children</th>\n",
       "      <th>smoker</th>\n",
       "      <th>region</th>\n",
       "      <th>expenses</th>\n",
       "    </tr>\n",
       "  </thead>\n",
       "  <tbody>\n",
       "    <tr>\n",
       "      <th>0</th>\n",
       "      <td>18</td>\n",
       "      <td>male</td>\n",
       "      <td>16.0</td>\n",
       "      <td>0</td>\n",
       "      <td>no</td>\n",
       "      <td>northeast</td>\n",
       "      <td>1694.80</td>\n",
       "    </tr>\n",
       "    <tr>\n",
       "      <th>1</th>\n",
       "      <td>18</td>\n",
       "      <td>male</td>\n",
       "      <td>17.3</td>\n",
       "      <td>2</td>\n",
       "      <td>yes</td>\n",
       "      <td>northeast</td>\n",
       "      <td>12829.46</td>\n",
       "    </tr>\n",
       "    <tr>\n",
       "      <th>2</th>\n",
       "      <td>18</td>\n",
       "      <td>female</td>\n",
       "      <td>20.8</td>\n",
       "      <td>0</td>\n",
       "      <td>no</td>\n",
       "      <td>southeast</td>\n",
       "      <td>1607.51</td>\n",
       "    </tr>\n",
       "    <tr>\n",
       "      <th>3</th>\n",
       "      <td>18</td>\n",
       "      <td>male</td>\n",
       "      <td>21.5</td>\n",
       "      <td>0</td>\n",
       "      <td>no</td>\n",
       "      <td>northeast</td>\n",
       "      <td>1702.46</td>\n",
       "    </tr>\n",
       "    <tr>\n",
       "      <th>4</th>\n",
       "      <td>18</td>\n",
       "      <td>male</td>\n",
       "      <td>21.6</td>\n",
       "      <td>0</td>\n",
       "      <td>yes</td>\n",
       "      <td>northeast</td>\n",
       "      <td>13747.87</td>\n",
       "    </tr>\n",
       "    <tr>\n",
       "      <th>...</th>\n",
       "      <td>...</td>\n",
       "      <td>...</td>\n",
       "      <td>...</td>\n",
       "      <td>...</td>\n",
       "      <td>...</td>\n",
       "      <td>...</td>\n",
       "      <td>...</td>\n",
       "    </tr>\n",
       "    <tr>\n",
       "      <th>95</th>\n",
       "      <td>19</td>\n",
       "      <td>male</td>\n",
       "      <td>27.7</td>\n",
       "      <td>0</td>\n",
       "      <td>yes</td>\n",
       "      <td>southwest</td>\n",
       "      <td>16297.85</td>\n",
       "    </tr>\n",
       "    <tr>\n",
       "      <th>96</th>\n",
       "      <td>19</td>\n",
       "      <td>male</td>\n",
       "      <td>27.8</td>\n",
       "      <td>0</td>\n",
       "      <td>no</td>\n",
       "      <td>northwest</td>\n",
       "      <td>1635.73</td>\n",
       "    </tr>\n",
       "    <tr>\n",
       "      <th>97</th>\n",
       "      <td>19</td>\n",
       "      <td>female</td>\n",
       "      <td>27.9</td>\n",
       "      <td>0</td>\n",
       "      <td>yes</td>\n",
       "      <td>southwest</td>\n",
       "      <td>16884.92</td>\n",
       "    </tr>\n",
       "    <tr>\n",
       "      <th>98</th>\n",
       "      <td>19</td>\n",
       "      <td>female</td>\n",
       "      <td>27.9</td>\n",
       "      <td>3</td>\n",
       "      <td>no</td>\n",
       "      <td>northwest</td>\n",
       "      <td>18838.70</td>\n",
       "    </tr>\n",
       "    <tr>\n",
       "      <th>99</th>\n",
       "      <td>19</td>\n",
       "      <td>female</td>\n",
       "      <td>28.3</td>\n",
       "      <td>0</td>\n",
       "      <td>yes</td>\n",
       "      <td>southwest</td>\n",
       "      <td>17081.08</td>\n",
       "    </tr>\n",
       "  </tbody>\n",
       "</table>\n",
       "<p>100 rows × 7 columns</p>\n",
       "</div>"
      ],
      "text/plain": [
       "    age     sex   bmi children smoker     region  expenses\n",
       "0    18    male  16.0        0     no  northeast   1694.80\n",
       "1    18    male  17.3        2    yes  northeast  12829.46\n",
       "2    18  female  20.8        0     no  southeast   1607.51\n",
       "3    18    male  21.5        0     no  northeast   1702.46\n",
       "4    18    male  21.6        0    yes  northeast  13747.87\n",
       "..  ...     ...   ...      ...    ...        ...       ...\n",
       "95   19    male  27.7        0    yes  southwest  16297.85\n",
       "96   19    male  27.8        0     no  northwest   1635.73\n",
       "97   19  female  27.9        0    yes  southwest  16884.92\n",
       "98   19  female  27.9        3     no  northwest  18838.70\n",
       "99   19  female  28.3        0    yes  southwest  17081.08\n",
       "\n",
       "[100 rows x 7 columns]"
      ]
     },
     "execution_count": 8,
     "metadata": {},
     "output_type": "execute_result"
    }
   ],
   "source": [
    "df.head(100)\n"
   ]
  },
  {
   "cell_type": "code",
   "execution_count": 9,
   "id": "061322f4",
   "metadata": {},
   "outputs": [],
   "source": [
    "#plt.figure(figsize = (12,8))\n",
    "#sns.histplot(x= 'expenses',data = df,kde = True)"
   ]
  },
  {
   "cell_type": "code",
   "execution_count": 10,
   "id": "c4370a40",
   "metadata": {},
   "outputs": [],
   "source": [
    "#df['expenses'] = np.log(df['expenses'])\n"
   ]
  },
  {
   "cell_type": "code",
   "execution_count": 11,
   "id": "f590c6f2",
   "metadata": {},
   "outputs": [],
   "source": [
    "#plt.figure(figsize = (12,8))\n",
    "#sns.histplot(x= 'expenses',data = df,kde = True)"
   ]
  },
  {
   "cell_type": "code",
   "execution_count": 12,
   "id": "eaf15bbb",
   "metadata": {},
   "outputs": [
    {
     "data": {
      "text/plain": [
       "Index(['sex', 'children', 'smoker', 'region'], dtype='object')"
      ]
     },
     "execution_count": 12,
     "metadata": {},
     "output_type": "execute_result"
    }
   ],
   "source": [
    "cat_columns = df.select_dtypes(include = 'object').columns\n",
    "cat_columns"
   ]
  },
  {
   "cell_type": "code",
   "execution_count": 13,
   "id": "8455e103",
   "metadata": {},
   "outputs": [
    {
     "name": "stderr",
     "output_type": "stream",
     "text": [
      "C:\\Users\\sathy\\AppData\\Local\\Temp\\ipykernel_8692\\3569672404.py:1: FutureWarning: In a future version, the Index constructor will not infer numeric dtypes when passed object-dtype sequences (matching Series behavior)\n",
      "  df  = pd.get_dummies(df,cat_columns,drop_first = True)\n"
     ]
    }
   ],
   "source": [
    "df  = pd.get_dummies(df,cat_columns,drop_first = True)\n"
   ]
  },
  {
   "cell_type": "code",
   "execution_count": 14,
   "id": "e219c99f",
   "metadata": {},
   "outputs": [
    {
     "data": {
      "text/plain": [
       "Index(['age', 'bmi', 'expenses', 'sex_male', 'children_1', 'children_2',\n",
       "       'children_3', 'children_4', 'children_5', 'smoker_yes',\n",
       "       'region_northwest', 'region_southeast', 'region_southwest'],\n",
       "      dtype='object')"
      ]
     },
     "execution_count": 14,
     "metadata": {},
     "output_type": "execute_result"
    }
   ],
   "source": [
    "df.columns"
   ]
  },
  {
   "cell_type": "code",
   "execution_count": 15,
   "id": "f15bdae8",
   "metadata": {},
   "outputs": [],
   "source": [
    "y = df['expenses']\n"
   ]
  },
  {
   "cell_type": "code",
   "execution_count": 16,
   "id": "aa67442b",
   "metadata": {},
   "outputs": [],
   "source": [
    "X = df[['age', 'bmi', 'sex_male', 'children_1', 'children_2',\n",
    "       'children_3', 'children_4', 'children_5', 'smoker_yes',\n",
    "       'region_northwest', 'region_southeast', 'region_southwest']]"
   ]
  },
  {
   "cell_type": "code",
   "execution_count": 17,
   "id": "64a0cebb",
   "metadata": {},
   "outputs": [],
   "source": [
    "from sklearn.model_selection import train_test_split\n",
    "X_train, X_test, y_train, y_test = train_test_split(X , y, test_size=0.3, random_state=410)"
   ]
  },
  {
   "cell_type": "code",
   "execution_count": 18,
   "id": "edc5e3e5",
   "metadata": {},
   "outputs": [
    {
     "data": {
      "text/html": [
       "<style>#sk-container-id-1 {color: black;background-color: white;}#sk-container-id-1 pre{padding: 0;}#sk-container-id-1 div.sk-toggleable {background-color: white;}#sk-container-id-1 label.sk-toggleable__label {cursor: pointer;display: block;width: 100%;margin-bottom: 0;padding: 0.3em;box-sizing: border-box;text-align: center;}#sk-container-id-1 label.sk-toggleable__label-arrow:before {content: \"▸\";float: left;margin-right: 0.25em;color: #696969;}#sk-container-id-1 label.sk-toggleable__label-arrow:hover:before {color: black;}#sk-container-id-1 div.sk-estimator:hover label.sk-toggleable__label-arrow:before {color: black;}#sk-container-id-1 div.sk-toggleable__content {max-height: 0;max-width: 0;overflow: hidden;text-align: left;background-color: #f0f8ff;}#sk-container-id-1 div.sk-toggleable__content pre {margin: 0.2em;color: black;border-radius: 0.25em;background-color: #f0f8ff;}#sk-container-id-1 input.sk-toggleable__control:checked~div.sk-toggleable__content {max-height: 200px;max-width: 100%;overflow: auto;}#sk-container-id-1 input.sk-toggleable__control:checked~label.sk-toggleable__label-arrow:before {content: \"▾\";}#sk-container-id-1 div.sk-estimator input.sk-toggleable__control:checked~label.sk-toggleable__label {background-color: #d4ebff;}#sk-container-id-1 div.sk-label input.sk-toggleable__control:checked~label.sk-toggleable__label {background-color: #d4ebff;}#sk-container-id-1 input.sk-hidden--visually {border: 0;clip: rect(1px 1px 1px 1px);clip: rect(1px, 1px, 1px, 1px);height: 1px;margin: -1px;overflow: hidden;padding: 0;position: absolute;width: 1px;}#sk-container-id-1 div.sk-estimator {font-family: monospace;background-color: #f0f8ff;border: 1px dotted black;border-radius: 0.25em;box-sizing: border-box;margin-bottom: 0.5em;}#sk-container-id-1 div.sk-estimator:hover {background-color: #d4ebff;}#sk-container-id-1 div.sk-parallel-item::after {content: \"\";width: 100%;border-bottom: 1px solid gray;flex-grow: 1;}#sk-container-id-1 div.sk-label:hover label.sk-toggleable__label {background-color: #d4ebff;}#sk-container-id-1 div.sk-serial::before {content: \"\";position: absolute;border-left: 1px solid gray;box-sizing: border-box;top: 0;bottom: 0;left: 50%;z-index: 0;}#sk-container-id-1 div.sk-serial {display: flex;flex-direction: column;align-items: center;background-color: white;padding-right: 0.2em;padding-left: 0.2em;position: relative;}#sk-container-id-1 div.sk-item {position: relative;z-index: 1;}#sk-container-id-1 div.sk-parallel {display: flex;align-items: stretch;justify-content: center;background-color: white;position: relative;}#sk-container-id-1 div.sk-item::before, #sk-container-id-1 div.sk-parallel-item::before {content: \"\";position: absolute;border-left: 1px solid gray;box-sizing: border-box;top: 0;bottom: 0;left: 50%;z-index: -1;}#sk-container-id-1 div.sk-parallel-item {display: flex;flex-direction: column;z-index: 1;position: relative;background-color: white;}#sk-container-id-1 div.sk-parallel-item:first-child::after {align-self: flex-end;width: 50%;}#sk-container-id-1 div.sk-parallel-item:last-child::after {align-self: flex-start;width: 50%;}#sk-container-id-1 div.sk-parallel-item:only-child::after {width: 0;}#sk-container-id-1 div.sk-dashed-wrapped {border: 1px dashed gray;margin: 0 0.4em 0.5em 0.4em;box-sizing: border-box;padding-bottom: 0.4em;background-color: white;}#sk-container-id-1 div.sk-label label {font-family: monospace;font-weight: bold;display: inline-block;line-height: 1.2em;}#sk-container-id-1 div.sk-label-container {text-align: center;}#sk-container-id-1 div.sk-container {/* jupyter's `normalize.less` sets `[hidden] { display: none; }` but bootstrap.min.css set `[hidden] { display: none !important; }` so we also need the `!important` here to be able to override the default hidden behavior on the sphinx rendered scikit-learn.org. See: https://github.com/scikit-learn/scikit-learn/issues/21755 */display: inline-block !important;position: relative;}#sk-container-id-1 div.sk-text-repr-fallback {display: none;}</style><div id=\"sk-container-id-1\" class=\"sk-top-container\"><div class=\"sk-text-repr-fallback\"><pre>LinearRegression()</pre><b>In a Jupyter environment, please rerun this cell to show the HTML representation or trust the notebook. <br />On GitHub, the HTML representation is unable to render, please try loading this page with nbviewer.org.</b></div><div class=\"sk-container\" hidden><div class=\"sk-item\"><div class=\"sk-estimator sk-toggleable\"><input class=\"sk-toggleable__control sk-hidden--visually\" id=\"sk-estimator-id-1\" type=\"checkbox\" checked><label for=\"sk-estimator-id-1\" class=\"sk-toggleable__label sk-toggleable__label-arrow\">LinearRegression</label><div class=\"sk-toggleable__content\"><pre>LinearRegression()</pre></div></div></div></div></div>"
      ],
      "text/plain": [
       "LinearRegression()"
      ]
     },
     "execution_count": 18,
     "metadata": {},
     "output_type": "execute_result"
    }
   ],
   "source": [
    "from sklearn.linear_model import LinearRegression\n",
    "\n",
    "lm = LinearRegression()\n",
    "lm.fit(X_train,y_train)"
   ]
  },
  {
   "cell_type": "code",
   "execution_count": 19,
   "id": "7fa4c308",
   "metadata": {},
   "outputs": [
    {
     "data": {
      "text/plain": [
       "array([ 1.34213062e+04,  9.02428491e+03,  1.44413595e+04,  3.99278919e+03,\n",
       "        1.23372952e+04,  3.97106058e+04,  3.57606553e+03,  6.07775282e+03,\n",
       "        1.19883929e+04, -4.89858045e+02,  1.53681778e+04,  3.52133354e+03,\n",
       "        1.61444651e+04,  1.14533542e+04,  7.15664623e+03,  3.19830288e+03,\n",
       "        1.05835618e+04,  1.84293316e+04,  2.56113549e+04,  6.21990893e+03,\n",
       "        4.37536457e+03,  1.44178598e+04,  1.06389016e+04,  1.09807691e+04,\n",
       "        3.01742216e+04,  2.63967831e+03,  1.03446238e+04,  5.49791893e+03,\n",
       "        1.32750086e+04, -3.06669551e+02,  1.50974585e+04,  6.60945264e+03,\n",
       "        3.67945273e+03,  1.30963679e+04,  5.33306574e+03,  2.89928740e+03,\n",
       "        1.22551937e+04,  2.68291328e+04,  1.47496093e+04,  6.84622080e+03,\n",
       "        6.58613636e+03,  5.95127022e+03,  3.28401838e+03,  7.13604911e+03,\n",
       "        1.57252560e+04,  1.16417001e+04, -1.49824853e+03,  9.31602495e+03,\n",
       "        4.50836713e+03,  4.02407673e+03,  5.97415442e+03,  9.21570037e+03,\n",
       "        1.41970684e+04,  9.15066198e+02,  4.48192636e+03,  6.52202952e+03,\n",
       "        3.47356954e+04,  9.16501133e+03,  4.20929068e+03,  3.85364703e+03,\n",
       "        9.57809798e+03,  9.22417473e+03,  1.11083336e+04,  6.70002994e+03,\n",
       "        2.92445479e+03,  1.34335465e+04,  1.30764484e+04,  1.64224669e+04,\n",
       "        1.10655478e+04,  1.53688151e+03,  1.32174637e+04,  6.40515719e+03,\n",
       "        2.61429319e+03,  1.45858373e+03,  3.14172095e+04,  2.21392927e+03,\n",
       "        1.07430004e+04,  1.15950316e+04,  3.68527138e+04,  1.03532828e+04,\n",
       "        3.88882980e+04,  5.31940425e+03,  1.21210486e+04,  9.81812474e+03,\n",
       "        7.38481134e+03,  1.21198443e+03,  4.44481062e+03,  6.75415139e+03,\n",
       "        2.97436601e+04,  4.16132846e+03,  1.42610971e+04,  1.57887134e+04,\n",
       "        1.20996435e+04,  1.10988893e+04,  2.80328722e+04,  1.06795517e+04,\n",
       "        3.91326959e+03,  6.71920415e+03,  1.08345782e+04,  1.98621192e+03,\n",
       "        4.54129730e+03,  2.82835711e+04,  7.03161233e+03,  7.44665201e+03,\n",
       "        8.58889108e+03,  7.92519010e+03,  2.86135194e+04,  9.05676886e+03,\n",
       "        3.70580328e+04,  1.49966169e+04,  3.95659736e+04,  2.42308622e+03,\n",
       "        1.09051032e+04,  1.30337890e+04,  6.78610944e+03,  3.41735393e+04,\n",
       "        2.60061014e+03,  8.26941278e+03,  9.73363106e+03,  6.42484400e+03,\n",
       "        3.35080089e+04,  1.29047301e+04,  3.16011970e+04,  2.15882317e+03,\n",
       "        2.16126781e+03,  1.50634937e+04,  1.33887694e+04,  9.94937601e+03,\n",
       "        8.29866157e+03,  2.83975302e+04,  5.06959243e+03,  4.36955131e+03,\n",
       "        3.97546453e+04,  2.79998309e+04,  3.52313272e+04,  2.69222855e+04,\n",
       "        3.23144153e+03,  1.13670452e+04,  3.42453651e+04,  2.68542648e+04,\n",
       "        7.76808676e+03,  1.27059214e+04,  3.01440066e+04,  4.05882792e+04,\n",
       "        2.49965370e+03,  8.61510382e+03,  2.55357340e+03,  3.61929655e+04,\n",
       "        1.71250360e+04,  3.68034696e+03,  2.34552754e+04,  3.86058578e+04,\n",
       "        9.08108143e+03,  3.51056482e+04,  6.61766629e+02,  5.32932855e+03,\n",
       "        1.22525082e+04,  1.46020522e+04,  3.82254603e+03,  1.53398207e+04,\n",
       "        3.79032993e+03,  2.52273623e+03,  1.15112325e+04,  1.58415859e+04,\n",
       "        1.51890810e+04,  6.08788978e+03,  1.11184203e+04,  1.27771014e+04,\n",
       "        2.79503270e+04,  1.58149708e+04,  3.99195580e+03,  4.17730766e+02,\n",
       "        8.32904824e+03, -2.20210155e+03,  8.47916595e+03,  1.33860529e+04,\n",
       "        7.89195051e+03,  2.39148027e+04,  4.99691058e+03,  3.59687472e+04,\n",
       "        3.34331521e+04,  2.73300693e+04,  1.10866274e+03,  1.77925125e+04,\n",
       "        3.18049630e+04,  1.39571017e+04,  1.69949228e+04,  1.06275492e+04,\n",
       "        9.94945527e+03,  7.32853618e+03,  3.32556491e+03,  1.31126481e+04,\n",
       "        1.30458138e+04,  8.73551232e+03,  9.76573799e+03,  9.66122991e+03,\n",
       "        3.17358653e+04,  7.64095231e+03,  3.17295549e+04,  1.17879472e+04,\n",
       "        1.79094445e+04,  7.58969243e+03,  2.87111370e+04,  3.83440156e+04,\n",
       "        1.63496210e+04,  3.62708599e+03,  2.58909898e+04,  6.61186185e+03,\n",
       "        4.67184482e+03,  4.53765134e+03,  1.14650923e+04,  1.19337839e+03,\n",
       "        3.29436678e+04,  8.87449713e+03,  1.22551855e+04,  3.72504443e+04,\n",
       "        5.98253111e+03,  1.12148510e+04,  3.13845893e+04,  9.40325074e+03,\n",
       "        1.18879505e+04,  7.37965278e+03,  7.19907728e+03,  2.92853476e+04,\n",
       "        6.45372579e+03,  1.44564353e+04,  3.46169867e+03,  1.21078620e+04,\n",
       "        1.67091846e+04,  1.60340329e+04,  5.98224364e+03,  1.12284691e+03,\n",
       "        2.52273623e+03,  3.77256537e+04,  1.06749361e+04,  2.10569845e+03,\n",
       "        4.78152530e+03,  9.54739718e+03,  3.07472942e+04,  2.65121285e+03,\n",
       "        1.51269410e+04,  2.49325369e+03,  8.15444739e+03,  1.03566041e+04,\n",
       "        3.82697734e+04,  9.46323351e+03,  2.92445479e+03,  1.40182418e+04,\n",
       "        7.37480050e+03,  2.60894229e+04,  1.23894718e+04,  1.42168249e+03,\n",
       "        6.87535501e+03,  3.58835776e+04,  1.40877534e+04,  5.45105217e+03,\n",
       "        2.78471381e+04,  5.75157872e+03,  4.17775193e+03,  2.92195329e+03,\n",
       "        1.29627345e+04,  1.10540788e+04,  1.36761588e+04,  3.59774360e+04,\n",
       "        9.13743351e+03,  2.09804711e+03,  5.95080806e+03,  3.75741470e+03,\n",
       "        2.70936848e+04,  1.52143687e+04,  5.50530700e+03,  1.42084884e+04,\n",
       "        5.55483602e+03,  3.70323117e+03,  1.61488359e+03,  2.48536288e+04,\n",
       "        1.08816948e+04,  3.31789523e+04,  2.97236590e+03,  2.03199211e+03,\n",
       "        1.26753946e+04,  9.70573864e+03,  6.43961959e+03,  1.52376877e+04,\n",
       "        2.55919442e+04,  1.32149628e+04,  9.66269114e+03,  6.42500690e+03,\n",
       "        5.53486028e+03,  6.71341657e+03,  3.24645738e+04,  1.34450719e+04,\n",
       "        7.85224442e+03,  8.49731843e+03,  1.01583260e+04,  1.35922944e+04,\n",
       "        9.32320424e+03,  9.65122212e+03,  1.12180141e+04,  8.61457092e+03,\n",
       "        4.72328446e+03,  9.72001067e+03,  3.17881940e+04,  3.26166589e+04,\n",
       "        1.13023105e+04,  3.12864522e+04,  1.21138381e+04,  6.53848881e+03,\n",
       "        1.35371529e+04,  7.18234531e+03,  1.31402501e+04, -5.77618718e+01,\n",
       "        1.00067765e+04,  8.77880522e+03,  1.22053608e+04,  3.20657100e+04,\n",
       "        3.36001583e+04,  9.43596442e+03,  4.21423511e+03,  7.56497881e+03,\n",
       "        1.03629787e+04,  3.64079554e+03,  1.50453474e+04,  1.74167923e+03,\n",
       "        1.14072481e+04,  5.04410170e+03,  8.92744098e+03,  5.48459780e+03,\n",
       "        1.06346333e+04,  1.30680417e+04,  3.61868265e+03,  2.73892327e+04,\n",
       "        4.23715474e+03,  3.70069594e+03,  3.11068578e+04,  1.10966742e+04,\n",
       "        1.43621817e+04,  6.56156818e+03,  4.06100818e+03,  2.26966919e+03,\n",
       "        1.15184143e+04,  1.23928450e+04,  7.99616229e+02,  1.23996217e+04,\n",
       "        1.12034711e+04,  1.38878167e+04,  1.59231395e+04,  1.29351661e+04,\n",
       "        5.09947162e+03,  9.05544965e+03,  3.77618237e+04,  3.37747729e+04,\n",
       "        3.54439077e+04,  1.14954025e+04,  1.00501572e+04,  3.40254962e+04,\n",
       "        1.01523924e+04,  1.27793939e+04,  7.82823933e+03,  7.50295944e+03,\n",
       "        3.22665999e+03,  1.18592880e+03,  3.29220390e+04, -9.92428572e+02,\n",
       "        1.24898207e+03,  2.78758127e+04,  8.84687248e+03,  4.66668626e+03,\n",
       "        3.66915719e+03,  1.26862159e+04,  2.36129824e+04,  3.74767598e+04,\n",
       "        1.49580022e+04,  2.81988851e+04,  7.82766398e+03, -5.86658698e+02,\n",
       "        3.98217123e+04,  1.03792845e+04,  3.60374256e+04,  8.76600547e+03,\n",
       "        1.27492993e+04,  3.20503291e+04, -4.20249123e+02, -5.09954972e+02,\n",
       "       -1.11216367e+01,  3.86876816e+04,  8.55511280e+03,  1.53441727e+04,\n",
       "        6.78483034e+03,  3.64918494e+04,  9.64824459e+03,  1.22808016e+02,\n",
       "        1.13201586e+04, -5.34457643e+02,  1.56840152e+04,  1.74059918e+04,\n",
       "        2.85830488e+04,  5.67165107e+03,  3.36264249e+04,  2.40005997e+03,\n",
       "        1.42116514e+04,  3.05461182e+03])"
      ]
     },
     "execution_count": 19,
     "metadata": {},
     "output_type": "execute_result"
    }
   ],
   "source": [
    "predictions = lm.predict(X_test)\n",
    "predictions"
   ]
  },
  {
   "cell_type": "code",
   "execution_count": 20,
   "id": "15882de4",
   "metadata": {},
   "outputs": [
    {
     "data": {
      "text/plain": [
       "[<matplotlib.lines.Line2D at 0x1b2925eaa50>]"
      ]
     },
     "execution_count": 20,
     "metadata": {},
     "output_type": "execute_result"
    },
    {
     "data": {
      "image/png": "[encoded data removed]",
      "text/plain": [
       "<Figure size 640x480 with 1 Axes>"
      ]
     },
     "metadata": {},
     "output_type": "display_data"
    }
   ],
   "source": [
    "plt.scatter(y_test,predictions)\n",
    "plt.xlabel('Y Test')\n",
    "plt.ylabel('Predicted Y')\n",
    "plt.plot([y_test.min(), y_test.max()], [y_test.min(), y_test.max()], 'k--', lw=2) "
   ]
  },
  {
   "cell_type": "code",
   "execution_count": 21,
   "id": "5e1e92ab",
   "metadata": {},
   "outputs": [
    {
     "name": "stdout",
     "output_type": "stream",
     "text": [
      "MAE: 4215.726336166608\n",
      "MSE: 37267420.1821046\n",
      "RMSE: 6104.704757980078\n"
     ]
    }
   ],
   "source": [
    "from sklearn import metrics\n",
    "\n",
    "print('MAE:', metrics.mean_absolute_error(y_test, predictions))\n",
    "print('MSE:', metrics.mean_squared_error(y_test, predictions))\n",
    "print('RMSE:', np.sqrt(metrics.mean_squared_error(y_test, predictions)))"
   ]
  },
  {
   "cell_type": "code",
   "execution_count": 22,
   "id": "42f4acb5",
   "metadata": {},
   "outputs": [
    {
     "data": {
      "text/plain": [
       "74.79294576853582"
      ]
     },
     "execution_count": 22,
     "metadata": {},
     "output_type": "execute_result"
    }
   ],
   "source": [
    "from sklearn.metrics import r2_score\n",
    "r2_score(y_test, predictions)*100"
   ]
  },
  {
   "cell_type": "code",
   "execution_count": 23,
   "id": "0cd6d0fd",
   "metadata": {},
   "outputs": [
    {
     "name": "stdout",
     "output_type": "stream",
     "text": [
      "Predicted and Actual Values:\n",
      "        Actual     Predicted\n",
      "1005   9877.61  13421.306184\n",
      "842    9500.57   9024.284906\n",
      "1007   9880.07  14441.359477\n",
      "40     2207.70   3992.789189\n",
      "969   10118.42  12337.295195\n",
      "...        ...           ...\n",
      "480    4562.84   5671.651069\n",
      "930   23306.55  33626.424873\n",
      "204    2156.75   2400.059974\n",
      "863    8733.23  14211.651426\n",
      "291    2523.17   3054.611823\n",
      "\n",
      "[402 rows x 2 columns]\n"
     ]
    }
   ],
   "source": [
    "results_df = pd.DataFrame({'Actual': y_test, 'Predicted': predictions})\n",
    "print(\"Predicted and Actual Values:\")\n",
    "print(results_df)"
   ]
  },
  {
   "cell_type": "code",
   "execution_count": 24,
   "id": "f0c4f419",
   "metadata": {},
   "outputs": [
    {
     "name": "stdout",
     "output_type": "stream",
     "text": [
      "Predicted expenses: 6424.958578640477\n"
     ]
    }
   ],
   "source": [
    "new_data = pd.DataFrame({\n",
    "    'age': [29],\n",
    "    'bmi': [31.1],\n",
    "    'sex_male': [1],\n",
    "    'children_1': [1],\n",
    "    'children_2': [0],\n",
    "    'children_3': [1],\n",
    "    'children_4': [0],\n",
    "    'children_5': [0],\n",
    "    'smoker_yes': [0],\n",
    "    #'region_northeast':[0],\n",
    "    'region_northwest': [0],\n",
    "    'region_southeast': [0],\n",
    "    'region_southwest': [1]\n",
    "})\n",
    "\n",
    "# Predicting the expenses for the new data\n",
    "predicted_expenses = lm.predict(new_data)\n",
    "print(f\"Predicted expenses: {predicted_expenses[0]}\")"
   ]
  }
 ],
 "metadata": {
  "kernelspec": {
   "display_name": "Python 3 (ipykernel)",
   "language": "python",
   "name": "python3"
  },
  "language_info": {
   "codemirror_mode": {
    "name": "ipython",
    "version": 3
   },
   "file_extension": ".py",
   "mimetype": "text/x-python",
   "name": "python",
   "nbconvert_exporter": "python",
   "pygments_lexer": "ipython3",
   "version": "3.11.5"
  }
 },
 "nbformat": 4,
 "nbformat_minor": 5
}
